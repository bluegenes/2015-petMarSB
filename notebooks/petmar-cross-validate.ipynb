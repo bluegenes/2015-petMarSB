{
 "cells": [
  {
   "cell_type": "markdown",
   "metadata": {},
   "source": [
    "# Lamprey Transcriptome Analysis: Gene Model Overlap Notebook"
   ]
  },
  {
   "cell_type": "markdown",
   "metadata": {},
   "source": [
    "```\n",
    "Camille Scott [camille dot scott dot w @gmail.com] [@camille_codon]\n",
    "\n",
    "camillescott.github.io\n",
    "\n",
    "Lab for Genomics, Evolution, and Development\n",
    "Michigan State University\n",
    "```"
   ]
  },
  {
   "cell_type": "markdown",
   "metadata": {},
   "source": [
    "## About"
   ]
  },
  {
   "cell_type": "markdown",
   "metadata": {},
   "source": [
    "Explores consensus between assembled transcripts and existing lamprey gene models, using the `gtf_to_genes` library."
   ]
  },
  {
   "cell_type": "markdown",
   "metadata": {},
   "source": [
    "    assembly version: lamp10\n",
    "\n",
    "    assembly program: Trinity\n",
    "    \n",
    "    gtf model versin: 7.0.75\n",
    "    \n",
    "There is another script in this directory called `petmar-gtf-overlap.py` which loads the database and does the `apply` function to query overlaps for each hit, as those operations take a very long time (these are a definite target for optimization)."
   ]
  },
  {
   "cell_type": "code",
   "execution_count": 3,
   "metadata": {
    "collapsed": false
   },
   "outputs": [
    {
     "name": "stdout",
     "output_type": "stream",
     "text": [
      "/home/camille/lamprey/2015-petMarSB/notebooks\r\n"
     ]
    }
   ],
   "source": [
    "!echo $PWD"
   ]
  },
  {
   "cell_type": "markdown",
   "metadata": {},
   "source": [
    "## Contents"
   ]
  },
  {
   "cell_type": "markdown",
   "metadata": {},
   "source": [
    "1. [Libraries](#Libraries) \n",
    "* [Data Loading](#Data-Loading)\n",
    "* [Matplotlib RC Settings](#Matplotlib-RC-Settings)\n",
    "* [Existing Gene Models](#Existing-Gene-Models)\n",
    "     1. [Interval Query Initialization](#Interval-Query-Initialization)\n",
    "     * [Utility Functions](#Utility-Functions)\n",
    "     * [Results](#Results)"
   ]
  },
  {
   "cell_type": "markdown",
   "metadata": {},
   "source": [
    "## Libraries"
   ]
  },
  {
   "cell_type": "code",
   "execution_count": 1,
   "metadata": {
    "collapsed": false
   },
   "outputs": [],
   "source": [
    "%load_ext autoreload\n",
    "%autoreload 2"
   ]
  },
  {
   "cell_type": "code",
   "execution_count": 2,
   "metadata": {
    "collapsed": false,
    "slideshow": {
     "slide_type": "skip"
    }
   },
   "outputs": [
    {
     "name": "stderr",
     "output_type": "stream",
     "text": [
      "** Using data resources found in ../resources.json\n",
      "** Using config found in ../config.json\n"
     ]
    }
   ],
   "source": [
    "from libs import *\n",
    "%run -i common.ipy"
   ]
  },
  {
   "cell_type": "code",
   "execution_count": 5,
   "metadata": {
    "collapsed": false
   },
   "outputs": [],
   "source": [
    "from joshua.intervaltree import Interval, IntervalTree\n",
    "from joshua.intervalforest import IntervalForest"
   ]
  },
  {
   "cell_type": "code",
   "execution_count": 6,
   "metadata": {
    "collapsed": false
   },
   "outputs": [
    {
     "name": "stderr",
     "output_type": "stream",
     "text": [
      ":0: FutureWarning: IPython widgets are experimental and may change in the future.\n"
     ]
    }
   ],
   "source": [
    "from IPython.html.widgets import interactive, RadioButtonsWidget\n",
    "from IPython.display import display\n",
    "from IPython.html import widgets"
   ]
  },
  {
   "cell_type": "code",
   "execution_count": 7,
   "metadata": {
    "collapsed": false
   },
   "outputs": [],
   "source": [
    "import pyprind"
   ]
  },
  {
   "cell_type": "code",
   "execution_count": 8,
   "metadata": {
    "collapsed": true
   },
   "outputs": [],
   "source": [
    "from gtftools import read_gtf"
   ]
  },
  {
   "cell_type": "code",
   "execution_count": 9,
   "metadata": {
    "collapsed": false
   },
   "outputs": [],
   "source": [
    "from blasttools import blast_to_df\n",
    "import intervaltools as ivt"
   ]
  },
  {
   "cell_type": "markdown",
   "metadata": {},
   "source": [
    "## Matplotlib RC Settings"
   ]
  },
  {
   "cell_type": "code",
   "execution_count": 10,
   "metadata": {
    "collapsed": false
   },
   "outputs": [
    {
     "name": "stdout",
     "output_type": "stream",
     "text": [
      "Populating the interactive namespace from numpy and matplotlib\n"
     ]
    },
    {
     "name": "stderr",
     "output_type": "stream",
     "text": [
      "WARNING: pylab import has clobbered these variables: ['interactive']\n",
      "`%matplotlib` prevents importing * from pylab and numpy\n"
     ]
    }
   ],
   "source": [
    "%pylab inline\n",
    "from matplotlib import rc_context\n",
    "tall_size = (8,16)\n",
    "norm_size = (12,8)\n",
    "mpl_params = {'figure.autolayout': True,\n",
    "               'axes.titlesize': 24,\n",
    "               'axes.labelsize': 16,\n",
    "               'ytick.labelsize': 14,\n",
    "               'xtick.labelsize': 14\n",
    "               }\n",
    "sns.set(style=\"white\", palette=\"Paired\", rc=mpl_params)\n",
    "#sns.set_palette(\"Paired\", desat=.6)\n",
    "b, g, r, p = sns.color_palette(\"muted\", 4)"
   ]
  },
  {
   "cell_type": "code",
   "execution_count": 11,
   "metadata": {
    "collapsed": true
   },
   "outputs": [],
   "source": [
    "%config InlineBackend.close_figures = False"
   ]
  },
  {
   "cell_type": "markdown",
   "metadata": {},
   "source": [
    "For results that we want to end up in the paper; we will dump it to JSON and use it to render our jinja templated tex file."
   ]
  },
  {
   "cell_type": "code",
   "execution_count": 12,
   "metadata": {
    "collapsed": false
   },
   "outputs": [],
   "source": [
    "results = {}"
   ]
  },
  {
   "cell_type": "code",
   "execution_count": 13,
   "metadata": {
    "collapsed": false
   },
   "outputs": [
    {
     "data": {
      "text/html": [
       "<div style=\"max-height:1000px;max-width:1500px;overflow:auto;\">\n",
       "<table border=\"1\" class=\"dataframe\">\n",
       "  <thead>\n",
       "    <tr style=\"text-align: right;\">\n",
       "      <th></th>\n",
       "      <th>access</th>\n",
       "      <th>condition</th>\n",
       "      <th>db_type</th>\n",
       "      <th>filename</th>\n",
       "      <th>flowcell</th>\n",
       "      <th>label</th>\n",
       "      <th>meta_type</th>\n",
       "      <th>paired</th>\n",
       "      <th>phred</th>\n",
       "      <th>q_type</th>\n",
       "      <th>strand</th>\n",
       "      <th>terms</th>\n",
       "      <th>tissue</th>\n",
       "      <th>url</th>\n",
       "      <th>size</th>\n",
       "    </tr>\n",
       "  </thead>\n",
       "  <tbody>\n",
       "    <tr>\n",
       "      <th>Myxinidae_pep</th>\n",
       "      <td>remote_query</td>\n",
       "      <td>NaN</td>\n",
       "      <td>prot</td>\n",
       "      <td>Myx.pep.all.fa</td>\n",
       "      <td>NaN</td>\n",
       "      <td>NaN</td>\n",
       "      <td>fasta_database</td>\n",
       "      <td>NaN</td>\n",
       "      <td>NaN</td>\n",
       "      <td>uniprot</td>\n",
       "      <td>NaN</td>\n",
       "      <td>taxonomy:7762</td>\n",
       "      <td>NaN</td>\n",
       "      <td>NaN</td>\n",
       "      <td>1004</td>\n",
       "    </tr>\n",
       "    <tr>\n",
       "      <th>braFlo_pep</th>\n",
       "      <td>remote_query</td>\n",
       "      <td>NaN</td>\n",
       "      <td>prot</td>\n",
       "      <td>braFlo.pep.all.fa</td>\n",
       "      <td>NaN</td>\n",
       "      <td>NaN</td>\n",
       "      <td>fasta_database</td>\n",
       "      <td>NaN</td>\n",
       "      <td>NaN</td>\n",
       "      <td>uniprot</td>\n",
       "      <td>NaN</td>\n",
       "      <td>organism:7739+AND+keyword:1185</td>\n",
       "      <td>NaN</td>\n",
       "      <td>NaN</td>\n",
       "      <td>28544</td>\n",
       "    </tr>\n",
       "    <tr>\n",
       "      <th>danRer_pep</th>\n",
       "      <td>remote_file</td>\n",
       "      <td>NaN</td>\n",
       "      <td>prot</td>\n",
       "      <td>danRer.pep.fa</td>\n",
       "      <td>NaN</td>\n",
       "      <td>NaN</td>\n",
       "      <td>fasta_database</td>\n",
       "      <td>NaN</td>\n",
       "      <td>NaN</td>\n",
       "      <td>NaN</td>\n",
       "      <td>NaN</td>\n",
       "      <td>NaN</td>\n",
       "      <td>NaN</td>\n",
       "      <td>ftp://ftp.ensembl.org/pub/release-75/fasta/dan...</td>\n",
       "      <td>43153</td>\n",
       "    </tr>\n",
       "    <tr>\n",
       "      <th>homSap_pep</th>\n",
       "      <td>remote_file</td>\n",
       "      <td>NaN</td>\n",
       "      <td>prot</td>\n",
       "      <td>homSap.pep.fa</td>\n",
       "      <td>NaN</td>\n",
       "      <td>NaN</td>\n",
       "      <td>fasta_database</td>\n",
       "      <td>NaN</td>\n",
       "      <td>NaN</td>\n",
       "      <td>NaN</td>\n",
       "      <td>NaN</td>\n",
       "      <td>NaN</td>\n",
       "      <td>NaN</td>\n",
       "      <td>ftp://ftp.ensembl.org/pub/release-74/fasta/hom...</td>\n",
       "      <td>104763</td>\n",
       "    </tr>\n",
       "    <tr>\n",
       "      <th>musMus_pep</th>\n",
       "      <td>remote_file</td>\n",
       "      <td>NaN</td>\n",
       "      <td>prot</td>\n",
       "      <td>musMus.pep.fa</td>\n",
       "      <td>NaN</td>\n",
       "      <td>NaN</td>\n",
       "      <td>fasta_database</td>\n",
       "      <td>NaN</td>\n",
       "      <td>NaN</td>\n",
       "      <td>NaN</td>\n",
       "      <td>NaN</td>\n",
       "      <td>NaN</td>\n",
       "      <td>NaN</td>\n",
       "      <td>ftp://ftp.ensembl.org/pub/release-75/fasta/mus...</td>\n",
       "      <td>52165</td>\n",
       "    </tr>\n",
       "    <tr>\n",
       "      <th>petMar2</th>\n",
       "      <td>remote_file</td>\n",
       "      <td>NaN</td>\n",
       "      <td>nucl</td>\n",
       "      <td>petMar2.fa</td>\n",
       "      <td>NaN</td>\n",
       "      <td>NaN</td>\n",
       "      <td>fasta_database</td>\n",
       "      <td>NaN</td>\n",
       "      <td>NaN</td>\n",
       "      <td>NaN</td>\n",
       "      <td>NaN</td>\n",
       "      <td>NaN</td>\n",
       "      <td>NaN</td>\n",
       "      <td>ftp://ftp.ensembl.org/pub/release-75/fasta/pet...</td>\n",
       "      <td>25006</td>\n",
       "    </tr>\n",
       "    <tr>\n",
       "      <th>petMar2_cdna</th>\n",
       "      <td>remote_file</td>\n",
       "      <td>NaN</td>\n",
       "      <td>nucl</td>\n",
       "      <td>petMar2.cdna.fa</td>\n",
       "      <td>NaN</td>\n",
       "      <td>NaN</td>\n",
       "      <td>fasta_database</td>\n",
       "      <td>NaN</td>\n",
       "      <td>NaN</td>\n",
       "      <td>NaN</td>\n",
       "      <td>NaN</td>\n",
       "      <td>NaN</td>\n",
       "      <td>NaN</td>\n",
       "      <td>ftp://ftp.ensembl.org/pub/release-75/fasta/pet...</td>\n",
       "      <td>11489</td>\n",
       "    </tr>\n",
       "    <tr>\n",
       "      <th>petMar2_cds</th>\n",
       "      <td>remote_file</td>\n",
       "      <td>NaN</td>\n",
       "      <td>nucl</td>\n",
       "      <td>petMar2.cds.fa</td>\n",
       "      <td>NaN</td>\n",
       "      <td>NaN</td>\n",
       "      <td>fasta_database</td>\n",
       "      <td>NaN</td>\n",
       "      <td>NaN</td>\n",
       "      <td>NaN</td>\n",
       "      <td>NaN</td>\n",
       "      <td>NaN</td>\n",
       "      <td>NaN</td>\n",
       "      <td>ftp://ftp.ensembl.org/pub/release-75/fasta/pet...</td>\n",
       "      <td>11442</td>\n",
       "    </tr>\n",
       "    <tr>\n",
       "      <th>petMar2_ncrna</th>\n",
       "      <td>remote_file</td>\n",
       "      <td>NaN</td>\n",
       "      <td>nucl</td>\n",
       "      <td>petMar2.ncrna.fa</td>\n",
       "      <td>NaN</td>\n",
       "      <td>NaN</td>\n",
       "      <td>fasta_database</td>\n",
       "      <td>NaN</td>\n",
       "      <td>NaN</td>\n",
       "      <td>NaN</td>\n",
       "      <td>NaN</td>\n",
       "      <td>NaN</td>\n",
       "      <td>NaN</td>\n",
       "      <td>ftp://ftp.ensembl.org/pub/release-75/fasta/pet...</td>\n",
       "      <td>2652</td>\n",
       "    </tr>\n",
       "    <tr>\n",
       "      <th>petMar2_pep</th>\n",
       "      <td>remote_file</td>\n",
       "      <td>NaN</td>\n",
       "      <td>prot</td>\n",
       "      <td>petMar2.pep.fa</td>\n",
       "      <td>NaN</td>\n",
       "      <td>NaN</td>\n",
       "      <td>fasta_database</td>\n",
       "      <td>NaN</td>\n",
       "      <td>NaN</td>\n",
       "      <td>NaN</td>\n",
       "      <td>NaN</td>\n",
       "      <td>NaN</td>\n",
       "      <td>NaN</td>\n",
       "      <td>ftp://ftp.ensembl.org/pub/release-75/fasta/pet...</td>\n",
       "      <td>11442</td>\n",
       "    </tr>\n",
       "  </tbody>\n",
       "</table>\n",
       "</div>"
      ],
      "text/plain": [
       "                     access condition db_type           filename flowcell  \\\n",
       "Myxinidae_pep  remote_query       NaN    prot     Myx.pep.all.fa      NaN   \n",
       "braFlo_pep     remote_query       NaN    prot  braFlo.pep.all.fa      NaN   \n",
       "danRer_pep      remote_file       NaN    prot      danRer.pep.fa      NaN   \n",
       "homSap_pep      remote_file       NaN    prot      homSap.pep.fa      NaN   \n",
       "musMus_pep      remote_file       NaN    prot      musMus.pep.fa      NaN   \n",
       "petMar2         remote_file       NaN    nucl         petMar2.fa      NaN   \n",
       "petMar2_cdna    remote_file       NaN    nucl    petMar2.cdna.fa      NaN   \n",
       "petMar2_cds     remote_file       NaN    nucl     petMar2.cds.fa      NaN   \n",
       "petMar2_ncrna   remote_file       NaN    nucl   petMar2.ncrna.fa      NaN   \n",
       "petMar2_pep     remote_file       NaN    prot     petMar2.pep.fa      NaN   \n",
       "\n",
       "              label       meta_type paired phred   q_type strand  \\\n",
       "Myxinidae_pep   NaN  fasta_database    NaN   NaN  uniprot    NaN   \n",
       "braFlo_pep      NaN  fasta_database    NaN   NaN  uniprot    NaN   \n",
       "danRer_pep      NaN  fasta_database    NaN   NaN      NaN    NaN   \n",
       "homSap_pep      NaN  fasta_database    NaN   NaN      NaN    NaN   \n",
       "musMus_pep      NaN  fasta_database    NaN   NaN      NaN    NaN   \n",
       "petMar2         NaN  fasta_database    NaN   NaN      NaN    NaN   \n",
       "petMar2_cdna    NaN  fasta_database    NaN   NaN      NaN    NaN   \n",
       "petMar2_cds     NaN  fasta_database    NaN   NaN      NaN    NaN   \n",
       "petMar2_ncrna   NaN  fasta_database    NaN   NaN      NaN    NaN   \n",
       "petMar2_pep     NaN  fasta_database    NaN   NaN      NaN    NaN   \n",
       "\n",
       "                                        terms tissue  \\\n",
       "Myxinidae_pep                   taxonomy:7762    NaN   \n",
       "braFlo_pep     organism:7739+AND+keyword:1185    NaN   \n",
       "danRer_pep                                NaN    NaN   \n",
       "homSap_pep                                NaN    NaN   \n",
       "musMus_pep                                NaN    NaN   \n",
       "petMar2                                   NaN    NaN   \n",
       "petMar2_cdna                              NaN    NaN   \n",
       "petMar2_cds                               NaN    NaN   \n",
       "petMar2_ncrna                             NaN    NaN   \n",
       "petMar2_pep                               NaN    NaN   \n",
       "\n",
       "                                                             url    size  \n",
       "Myxinidae_pep                                                NaN    1004  \n",
       "braFlo_pep                                                   NaN   28544  \n",
       "danRer_pep     ftp://ftp.ensembl.org/pub/release-75/fasta/dan...   43153  \n",
       "homSap_pep     ftp://ftp.ensembl.org/pub/release-74/fasta/hom...  104763  \n",
       "musMus_pep     ftp://ftp.ensembl.org/pub/release-75/fasta/mus...   52165  \n",
       "petMar2        ftp://ftp.ensembl.org/pub/release-75/fasta/pet...   25006  \n",
       "petMar2_cdna   ftp://ftp.ensembl.org/pub/release-75/fasta/pet...   11489  \n",
       "petMar2_cds    ftp://ftp.ensembl.org/pub/release-75/fasta/pet...   11442  \n",
       "petMar2_ncrna  ftp://ftp.ensembl.org/pub/release-75/fasta/pet...    2652  \n",
       "petMar2_pep    ftp://ftp.ensembl.org/pub/release-75/fasta/pet...   11442  "
      ]
     },
     "execution_count": 13,
     "metadata": {},
     "output_type": "execute_result"
    }
   ],
   "source": [
    "resources_df[resources_df.meta_type == 'fasta_database']"
   ]
  },
  {
   "cell_type": "code",
   "execution_count": 14,
   "metadata": {
    "collapsed": false
   },
   "outputs": [
    {
     "data": {
      "text/html": [
       "<div style=\"max-height:1000px;max-width:1500px;overflow:auto;\">\n",
       "<table border=\"1\" class=\"dataframe\">\n",
       "  <thead>\n",
       "    <tr style=\"text-align: right;\">\n",
       "      <th></th>\n",
       "      <th>access</th>\n",
       "      <th>condition</th>\n",
       "      <th>db_type</th>\n",
       "      <th>filename</th>\n",
       "      <th>flowcell</th>\n",
       "      <th>label</th>\n",
       "      <th>meta_type</th>\n",
       "      <th>paired</th>\n",
       "      <th>phred</th>\n",
       "      <th>q_type</th>\n",
       "      <th>strand</th>\n",
       "      <th>terms</th>\n",
       "      <th>tissue</th>\n",
       "      <th>url</th>\n",
       "      <th>size</th>\n",
       "    </tr>\n",
       "  </thead>\n",
       "  <tbody>\n",
       "    <tr>\n",
       "      <th>petMar2_gtf</th>\n",
       "      <td>remote_file</td>\n",
       "      <td>NaN</td>\n",
       "      <td>feature</td>\n",
       "      <td>petMar2.gtf</td>\n",
       "      <td>NaN</td>\n",
       "      <td>NaN</td>\n",
       "      <td>gtf_database</td>\n",
       "      <td>NaN</td>\n",
       "      <td>NaN</td>\n",
       "      <td>NaN</td>\n",
       "      <td>NaN</td>\n",
       "      <td>NaN</td>\n",
       "      <td>NaN</td>\n",
       "      <td>http://ftp.ensembl.org/pub/release-75/gtf/petr...</td>\n",
       "      <td>0</td>\n",
       "    </tr>\n",
       "  </tbody>\n",
       "</table>\n",
       "</div>"
      ],
      "text/plain": [
       "                  access condition  db_type     filename flowcell label  \\\n",
       "petMar2_gtf  remote_file       NaN  feature  petMar2.gtf      NaN   NaN   \n",
       "\n",
       "                meta_type paired phred q_type strand terms tissue  \\\n",
       "petMar2_gtf  gtf_database    NaN   NaN    NaN    NaN   NaN    NaN   \n",
       "\n",
       "                                                           url  size  \n",
       "petMar2_gtf  http://ftp.ensembl.org/pub/release-75/gtf/petr...     0  "
      ]
     },
     "execution_count": 14,
     "metadata": {},
     "output_type": "execute_result"
    }
   ],
   "source": [
    "resources_df[resources_df.meta_type == 'gtf_database']"
   ]
  },
  {
   "cell_type": "markdown",
   "metadata": {},
   "source": [
    "## Data Loading"
   ]
  },
  {
   "cell_type": "code",
   "execution_count": 15,
   "metadata": {
    "collapsed": false
   },
   "outputs": [],
   "source": [
    "store = pd.HDFStore(wdir('{}.store.h5'.format(prefix)), complib='zlib', complevel=5)"
   ]
  },
  {
   "cell_type": "code",
   "execution_count": 16,
   "metadata": {
    "collapsed": false
   },
   "outputs": [],
   "source": [
    "lamp10_db = screed.ScreedDB(wdir(resources_df.filename['lamp10']))\n",
    "lamp00_db = screed.ScreedDB(wdir(resources_df.filename['petMar2_cdna']))\n",
    "petMar2_db = screed.ScreedDB(wdir(resources_df.filename['petMar2']))"
   ]
  },
  {
   "cell_type": "code",
   "execution_count": 17,
   "metadata": {
    "collapsed": false
   },
   "outputs": [
    {
     "data": {
      "text/html": [
       "<div style=\"max-height:1000px;max-width:1500px;overflow:auto;\">\n",
       "<table border=\"1\" class=\"dataframe\">\n",
       "  <thead>\n",
       "    <tr style=\"text-align: right;\">\n",
       "      <th></th>\n",
       "      <th>qseqid</th>\n",
       "      <th>sseqid</th>\n",
       "      <th>pident</th>\n",
       "      <th>length</th>\n",
       "      <th>mismatch</th>\n",
       "      <th>gapopen</th>\n",
       "      <th>qstart</th>\n",
       "      <th>qend</th>\n",
       "      <th>sstart</th>\n",
       "      <th>send</th>\n",
       "      <th>evalue</th>\n",
       "      <th>bitscore</th>\n",
       "      <th>qstrand</th>\n",
       "      <th>sstrand</th>\n",
       "    </tr>\n",
       "    <tr>\n",
       "      <th>aln_id</th>\n",
       "      <th></th>\n",
       "      <th></th>\n",
       "      <th></th>\n",
       "      <th></th>\n",
       "      <th></th>\n",
       "      <th></th>\n",
       "      <th></th>\n",
       "      <th></th>\n",
       "      <th></th>\n",
       "      <th></th>\n",
       "      <th></th>\n",
       "      <th></th>\n",
       "      <th></th>\n",
       "      <th></th>\n",
       "    </tr>\n",
       "  </thead>\n",
       "  <tbody>\n",
       "    <tr>\n",
       "      <th>1763</th>\n",
       "      <td>ENSPMAT00000006415</td>\n",
       "      <td>GL476328</td>\n",
       "      <td>87.14</td>\n",
       "      <td>70</td>\n",
       "      <td>8</td>\n",
       "      <td>1</td>\n",
       "      <td>1410</td>\n",
       "      <td>1479</td>\n",
       "      <td>904657</td>\n",
       "      <td>904727</td>\n",
       "      <td>3.000000e-12</td>\n",
       "      <td>78.7</td>\n",
       "      <td>+</td>\n",
       "      <td>+</td>\n",
       "    </tr>\n",
       "    <tr>\n",
       "      <th>1764</th>\n",
       "      <td>ENSPMAT00000006415</td>\n",
       "      <td>GL476328</td>\n",
       "      <td>97.14</td>\n",
       "      <td>35</td>\n",
       "      <td>1</td>\n",
       "      <td>0</td>\n",
       "      <td>1487</td>\n",
       "      <td>1522</td>\n",
       "      <td>139410</td>\n",
       "      <td>139445</td>\n",
       "      <td>1.000000e-06</td>\n",
       "      <td>60.2</td>\n",
       "      <td>+</td>\n",
       "      <td>+</td>\n",
       "    </tr>\n",
       "    <tr>\n",
       "      <th>2487</th>\n",
       "      <td>ENSPMAT00000006543</td>\n",
       "      <td>GL476328</td>\n",
       "      <td>96.83</td>\n",
       "      <td>63</td>\n",
       "      <td>1</td>\n",
       "      <td>1</td>\n",
       "      <td>1683</td>\n",
       "      <td>1745</td>\n",
       "      <td>732138</td>\n",
       "      <td>732201</td>\n",
       "      <td>5.000000e-20</td>\n",
       "      <td>104.0</td>\n",
       "      <td>+</td>\n",
       "      <td>+</td>\n",
       "    </tr>\n",
       "    <tr>\n",
       "      <th>2488</th>\n",
       "      <td>ENSPMAT00000006543</td>\n",
       "      <td>GL476328</td>\n",
       "      <td>92.65</td>\n",
       "      <td>68</td>\n",
       "      <td>2</td>\n",
       "      <td>2</td>\n",
       "      <td>1679</td>\n",
       "      <td>1744</td>\n",
       "      <td>149678</td>\n",
       "      <td>149746</td>\n",
       "      <td>3.000000e-17</td>\n",
       "      <td>95.3</td>\n",
       "      <td>+</td>\n",
       "      <td>-</td>\n",
       "    </tr>\n",
       "    <tr>\n",
       "      <th>2489</th>\n",
       "      <td>ENSPMAT00000006543</td>\n",
       "      <td>GL476328</td>\n",
       "      <td>93.75</td>\n",
       "      <td>64</td>\n",
       "      <td>2</td>\n",
       "      <td>1</td>\n",
       "      <td>1682</td>\n",
       "      <td>1744</td>\n",
       "      <td>1006401</td>\n",
       "      <td>1006465</td>\n",
       "      <td>3.000000e-17</td>\n",
       "      <td>95.3</td>\n",
       "      <td>+</td>\n",
       "      <td>+</td>\n",
       "    </tr>\n",
       "  </tbody>\n",
       "</table>\n",
       "</div>"
      ],
      "text/plain": [
       "                    qseqid    sseqid  pident  length  mismatch  gapopen  \\\n",
       "aln_id                                                                    \n",
       "1763    ENSPMAT00000006415  GL476328   87.14      70         8        1   \n",
       "1764    ENSPMAT00000006415  GL476328   97.14      35         1        0   \n",
       "2487    ENSPMAT00000006543  GL476328   96.83      63         1        1   \n",
       "2488    ENSPMAT00000006543  GL476328   92.65      68         2        2   \n",
       "2489    ENSPMAT00000006543  GL476328   93.75      64         2        1   \n",
       "\n",
       "        qstart  qend   sstart     send        evalue  bitscore qstrand sstrand  \n",
       "aln_id                                                                          \n",
       "1763      1410  1479   904657   904727  3.000000e-12      78.7       +       +  \n",
       "1764      1487  1522   139410   139445  1.000000e-06      60.2       +       +  \n",
       "2487      1683  1745   732138   732201  5.000000e-20     104.0       +       +  \n",
       "2488      1679  1744   149678   149746  3.000000e-17      95.3       +       -  \n",
       "2489      1682  1744  1006401  1006465  3.000000e-17      95.3       +       +  "
      ]
     },
     "execution_count": 17,
     "metadata": {},
     "output_type": "execute_result"
    }
   ],
   "source": [
    "if not 'lamp00_pM_df' in store:\n",
    "    lamp00_pM_df = blast_to_df(wdir('{}.fa.x.{}.db.tsv'.format('petMar2.cdna', 'petMar2.fa')), index_col=None)\n",
    "    lamp00_pM_df.sort(columns=['sseqid'], inplace=True)\n",
    "    lamp00_pM_df.index.set_names('aln_id', inplace=True)\n",
    "    store['lamp00_pM_df'] = lamp00_pM_df\n",
    "else:\n",
    "    lamp00_pM_df = store['lamp00_pM_df']\n",
    "lamp00_pM_df.head()"
   ]
  },
  {
   "cell_type": "code",
   "execution_count": 18,
   "metadata": {
    "collapsed": false
   },
   "outputs": [
    {
     "data": {
      "text/html": [
       "<div style=\"max-height:1000px;max-width:1500px;overflow:auto;\">\n",
       "<table border=\"1\" class=\"dataframe\">\n",
       "  <thead>\n",
       "    <tr style=\"text-align: right;\">\n",
       "      <th></th>\n",
       "      <th>qseqid</th>\n",
       "      <th>sseqid</th>\n",
       "      <th>pident</th>\n",
       "      <th>length</th>\n",
       "      <th>mismatch</th>\n",
       "      <th>gapopen</th>\n",
       "      <th>qstart</th>\n",
       "      <th>qend</th>\n",
       "      <th>sstart</th>\n",
       "      <th>send</th>\n",
       "      <th>evalue</th>\n",
       "      <th>bitscore</th>\n",
       "      <th>qstrand</th>\n",
       "      <th>sstrand</th>\n",
       "    </tr>\n",
       "    <tr>\n",
       "      <th>aln_id</th>\n",
       "      <th></th>\n",
       "      <th></th>\n",
       "      <th></th>\n",
       "      <th></th>\n",
       "      <th></th>\n",
       "      <th></th>\n",
       "      <th></th>\n",
       "      <th></th>\n",
       "      <th></th>\n",
       "      <th></th>\n",
       "      <th></th>\n",
       "      <th></th>\n",
       "      <th></th>\n",
       "      <th></th>\n",
       "    </tr>\n",
       "  </thead>\n",
       "  <tbody>\n",
       "    <tr>\n",
       "      <th>1942</th>\n",
       "      <td>c35304_g1_i1</td>\n",
       "      <td>GL476328</td>\n",
       "      <td>92.68</td>\n",
       "      <td>41</td>\n",
       "      <td>3</td>\n",
       "      <td>0</td>\n",
       "      <td>612</td>\n",
       "      <td>653</td>\n",
       "      <td>388244</td>\n",
       "      <td>388285</td>\n",
       "      <td>4.000000e-07</td>\n",
       "      <td>60.2</td>\n",
       "      <td>+</td>\n",
       "      <td>+</td>\n",
       "    </tr>\n",
       "    <tr>\n",
       "      <th>1944</th>\n",
       "      <td>c35304_g1_i2</td>\n",
       "      <td>GL476328</td>\n",
       "      <td>92.68</td>\n",
       "      <td>41</td>\n",
       "      <td>3</td>\n",
       "      <td>0</td>\n",
       "      <td>208</td>\n",
       "      <td>249</td>\n",
       "      <td>388244</td>\n",
       "      <td>388285</td>\n",
       "      <td>1.000000e-07</td>\n",
       "      <td>60.2</td>\n",
       "      <td>+</td>\n",
       "      <td>+</td>\n",
       "    </tr>\n",
       "    <tr>\n",
       "      <th>2886</th>\n",
       "      <td>c220917_g1_i2</td>\n",
       "      <td>GL476328</td>\n",
       "      <td>100.00</td>\n",
       "      <td>33</td>\n",
       "      <td>0</td>\n",
       "      <td>0</td>\n",
       "      <td>85</td>\n",
       "      <td>118</td>\n",
       "      <td>1278050</td>\n",
       "      <td>1278083</td>\n",
       "      <td>6.000000e-08</td>\n",
       "      <td>62.1</td>\n",
       "      <td>+</td>\n",
       "      <td>-</td>\n",
       "    </tr>\n",
       "    <tr>\n",
       "      <th>3802</th>\n",
       "      <td>c131063_g1_i1</td>\n",
       "      <td>GL476328</td>\n",
       "      <td>99.31</td>\n",
       "      <td>432</td>\n",
       "      <td>1</td>\n",
       "      <td>1</td>\n",
       "      <td>18</td>\n",
       "      <td>450</td>\n",
       "      <td>806166</td>\n",
       "      <td>806596</td>\n",
       "      <td>0.000000e+00</td>\n",
       "      <td>780.0</td>\n",
       "      <td>+</td>\n",
       "      <td>-</td>\n",
       "    </tr>\n",
       "    <tr>\n",
       "      <th>3809</th>\n",
       "      <td>c131063_g1_i2</td>\n",
       "      <td>GL476328</td>\n",
       "      <td>99.14</td>\n",
       "      <td>350</td>\n",
       "      <td>1</td>\n",
       "      <td>1</td>\n",
       "      <td>16</td>\n",
       "      <td>366</td>\n",
       "      <td>806166</td>\n",
       "      <td>806514</td>\n",
       "      <td>1.000000e-178</td>\n",
       "      <td>628.0</td>\n",
       "      <td>+</td>\n",
       "      <td>-</td>\n",
       "    </tr>\n",
       "  </tbody>\n",
       "</table>\n",
       "</div>"
      ],
      "text/plain": [
       "               qseqid    sseqid  pident  length  mismatch  gapopen  qstart  \\\n",
       "aln_id                                                                       \n",
       "1942     c35304_g1_i1  GL476328   92.68      41         3        0     612   \n",
       "1944     c35304_g1_i2  GL476328   92.68      41         3        0     208   \n",
       "2886    c220917_g1_i2  GL476328  100.00      33         0        0      85   \n",
       "3802    c131063_g1_i1  GL476328   99.31     432         1        1      18   \n",
       "3809    c131063_g1_i2  GL476328   99.14     350         1        1      16   \n",
       "\n",
       "        qend   sstart     send         evalue  bitscore qstrand sstrand  \n",
       "aln_id                                                                   \n",
       "1942     653   388244   388285   4.000000e-07      60.2       +       +  \n",
       "1944     249   388244   388285   1.000000e-07      60.2       +       +  \n",
       "2886     118  1278050  1278083   6.000000e-08      62.1       +       -  \n",
       "3802     450   806166   806596   0.000000e+00     780.0       +       -  \n",
       "3809     366   806166   806514  1.000000e-178     628.0       +       -  "
      ]
     },
     "execution_count": 18,
     "metadata": {},
     "output_type": "execute_result"
    }
   ],
   "source": [
    "if not 'lamp10_pM_df' in store:\n",
    "    lamp10_pM_df = blast_to_df(wdir('{}.fasta.x.{}.db.tsv'.format('lamp10', 'petMar2.fa')), index_col=None)\n",
    "    lamp10_pM_df.sort(columns=['sseqid'], inplace=True)\n",
    "    lamp10_pM_df.index.set_names('aln_id', inplace=True)\n",
    "    store['lamp10_pM_df'] = lamp10_pM_df\n",
    "else:\n",
    "    lamp10_pM_df = store['lamp10_pM_df']\n",
    "lamp10_pM_df.head()"
   ]
  },
  {
   "cell_type": "code",
   "execution_count": 19,
   "metadata": {
    "collapsed": false
   },
   "outputs": [
    {
     "data": {
      "text/html": [
       "<div style=\"max-height:1000px;max-width:1500px;overflow:auto;\">\n",
       "<table border=\"1\" class=\"dataframe\">\n",
       "  <thead>\n",
       "    <tr style=\"text-align: right;\">\n",
       "      <th></th>\n",
       "      <th>contig_id</th>\n",
       "      <th>source</th>\n",
       "      <th>feature</th>\n",
       "      <th>start</th>\n",
       "      <th>end</th>\n",
       "      <th>score</th>\n",
       "      <th>strand</th>\n",
       "      <th>frame</th>\n",
       "      <th>exon_id</th>\n",
       "      <th>exon_number</th>\n",
       "      <th>gene_biotype</th>\n",
       "      <th>gene_id</th>\n",
       "      <th>gene_name</th>\n",
       "      <th>gene_source</th>\n",
       "      <th>protein_id</th>\n",
       "      <th>transcript_id</th>\n",
       "      <th>transcript_name</th>\n",
       "      <th>transcript_source</th>\n",
       "      <th>feature_length</th>\n",
       "    </tr>\n",
       "    <tr>\n",
       "      <th>ann_id</th>\n",
       "      <th></th>\n",
       "      <th></th>\n",
       "      <th></th>\n",
       "      <th></th>\n",
       "      <th></th>\n",
       "      <th></th>\n",
       "      <th></th>\n",
       "      <th></th>\n",
       "      <th></th>\n",
       "      <th></th>\n",
       "      <th></th>\n",
       "      <th></th>\n",
       "      <th></th>\n",
       "      <th></th>\n",
       "      <th></th>\n",
       "      <th></th>\n",
       "      <th></th>\n",
       "      <th></th>\n",
       "      <th></th>\n",
       "    </tr>\n",
       "  </thead>\n",
       "  <tbody>\n",
       "    <tr>\n",
       "      <th>5124</th>\n",
       "      <td>GL476328</td>\n",
       "      <td>protein_coding</td>\n",
       "      <td>gene</td>\n",
       "      <td>168846</td>\n",
       "      <td>169476</td>\n",
       "      <td>.</td>\n",
       "      <td>+</td>\n",
       "      <td>.</td>\n",
       "      <td>NaN</td>\n",
       "      <td>NaN</td>\n",
       "      <td>protein_coding</td>\n",
       "      <td>ENSPMAG00000010374</td>\n",
       "      <td>cdkn1c</td>\n",
       "      <td>ensembl</td>\n",
       "      <td>NaN</td>\n",
       "      <td>NaN</td>\n",
       "      <td>NaN</td>\n",
       "      <td>NaN</td>\n",
       "      <td>630</td>\n",
       "    </tr>\n",
       "    <tr>\n",
       "      <th>5125</th>\n",
       "      <td>GL476328</td>\n",
       "      <td>protein_coding</td>\n",
       "      <td>transcript</td>\n",
       "      <td>168846</td>\n",
       "      <td>169476</td>\n",
       "      <td>.</td>\n",
       "      <td>+</td>\n",
       "      <td>.</td>\n",
       "      <td>NaN</td>\n",
       "      <td>NaN</td>\n",
       "      <td>protein_coding</td>\n",
       "      <td>ENSPMAG00000010374</td>\n",
       "      <td>cdkn1c</td>\n",
       "      <td>ensembl</td>\n",
       "      <td>NaN</td>\n",
       "      <td>ENSPMAT00000011401</td>\n",
       "      <td>cdkn1c-201</td>\n",
       "      <td>ensembl</td>\n",
       "      <td>630</td>\n",
       "    </tr>\n",
       "    <tr>\n",
       "      <th>5126</th>\n",
       "      <td>GL476328</td>\n",
       "      <td>protein_coding</td>\n",
       "      <td>exon</td>\n",
       "      <td>168846</td>\n",
       "      <td>169476</td>\n",
       "      <td>.</td>\n",
       "      <td>+</td>\n",
       "      <td>.</td>\n",
       "      <td>ENSPMAE00000096602</td>\n",
       "      <td>1</td>\n",
       "      <td>protein_coding</td>\n",
       "      <td>ENSPMAG00000010374</td>\n",
       "      <td>cdkn1c</td>\n",
       "      <td>ensembl</td>\n",
       "      <td>NaN</td>\n",
       "      <td>ENSPMAT00000011401</td>\n",
       "      <td>cdkn1c-201</td>\n",
       "      <td>ensembl</td>\n",
       "      <td>630</td>\n",
       "    </tr>\n",
       "    <tr>\n",
       "      <th>5127</th>\n",
       "      <td>GL476328</td>\n",
       "      <td>protein_coding</td>\n",
       "      <td>CDS</td>\n",
       "      <td>168846</td>\n",
       "      <td>169476</td>\n",
       "      <td>.</td>\n",
       "      <td>+</td>\n",
       "      <td>0</td>\n",
       "      <td>NaN</td>\n",
       "      <td>1</td>\n",
       "      <td>protein_coding</td>\n",
       "      <td>ENSPMAG00000010374</td>\n",
       "      <td>cdkn1c</td>\n",
       "      <td>ensembl</td>\n",
       "      <td>ENSPMAP00000011355</td>\n",
       "      <td>ENSPMAT00000011401</td>\n",
       "      <td>cdkn1c-201</td>\n",
       "      <td>ensembl</td>\n",
       "      <td>630</td>\n",
       "    </tr>\n",
       "    <tr>\n",
       "      <th>5128</th>\n",
       "      <td>GL476328</td>\n",
       "      <td>protein_coding</td>\n",
       "      <td>gene</td>\n",
       "      <td>235293</td>\n",
       "      <td>235778</td>\n",
       "      <td>.</td>\n",
       "      <td>-</td>\n",
       "      <td>.</td>\n",
       "      <td>NaN</td>\n",
       "      <td>NaN</td>\n",
       "      <td>protein_coding</td>\n",
       "      <td>ENSPMAG00000007839</td>\n",
       "      <td>rps4x</td>\n",
       "      <td>ensembl</td>\n",
       "      <td>NaN</td>\n",
       "      <td>NaN</td>\n",
       "      <td>NaN</td>\n",
       "      <td>NaN</td>\n",
       "      <td>485</td>\n",
       "    </tr>\n",
       "  </tbody>\n",
       "</table>\n",
       "</div>"
      ],
      "text/plain": [
       "       contig_id          source     feature   start     end score strand  \\\n",
       "ann_id                                                                      \n",
       "5124    GL476328  protein_coding        gene  168846  169476     .      +   \n",
       "5125    GL476328  protein_coding  transcript  168846  169476     .      +   \n",
       "5126    GL476328  protein_coding        exon  168846  169476     .      +   \n",
       "5127    GL476328  protein_coding         CDS  168846  169476     .      +   \n",
       "5128    GL476328  protein_coding        gene  235293  235778     .      -   \n",
       "\n",
       "       frame             exon_id exon_number    gene_biotype  \\\n",
       "ann_id                                                         \n",
       "5124       .                 NaN         NaN  protein_coding   \n",
       "5125       .                 NaN         NaN  protein_coding   \n",
       "5126       .  ENSPMAE00000096602           1  protein_coding   \n",
       "5127       0                 NaN           1  protein_coding   \n",
       "5128       .                 NaN         NaN  protein_coding   \n",
       "\n",
       "                   gene_id gene_name gene_source          protein_id  \\\n",
       "ann_id                                                                 \n",
       "5124    ENSPMAG00000010374    cdkn1c     ensembl                 NaN   \n",
       "5125    ENSPMAG00000010374    cdkn1c     ensembl                 NaN   \n",
       "5126    ENSPMAG00000010374    cdkn1c     ensembl                 NaN   \n",
       "5127    ENSPMAG00000010374    cdkn1c     ensembl  ENSPMAP00000011355   \n",
       "5128    ENSPMAG00000007839     rps4x     ensembl                 NaN   \n",
       "\n",
       "             transcript_id transcript_name transcript_source  feature_length  \n",
       "ann_id                                                                        \n",
       "5124                   NaN             NaN               NaN             630  \n",
       "5125    ENSPMAT00000011401      cdkn1c-201           ensembl             630  \n",
       "5126    ENSPMAT00000011401      cdkn1c-201           ensembl             630  \n",
       "5127    ENSPMAT00000011401      cdkn1c-201           ensembl             630  \n",
       "5128                   NaN             NaN               NaN             485  "
      ]
     },
     "execution_count": 19,
     "metadata": {},
     "output_type": "execute_result"
    }
   ],
   "source": [
    "if not 'gtf_df' in store:\n",
    "    gtf_file = wdir(resources_df.ix['petMar2_gtf'].filename)\n",
    "    gtf_df = read_gtf(gtf_file)\n",
    "    gtf_df.sort(columns=['contig_id'], inplace=True)\n",
    "    gtf_df.index.set_names('ann_id', inplace=True)\n",
    "    gtf_df['feature_length'] = gtf_df.end - gtf_df.start\n",
    "    store['gtf_df'] = gtf_df\n",
    "else:\n",
    "    gtf_df = store['gtf_df']\n",
    "gtf_df.head()"
   ]
  },
  {
   "cell_type": "code",
   "execution_count": 20,
   "metadata": {
    "collapsed": false,
    "slideshow": {
     "slide_type": "skip"
    }
   },
   "outputs": [],
   "source": [
    "tpm_df = store['tpm_df']"
   ]
  },
  {
   "cell_type": "code",
   "execution_count": 21,
   "metadata": {
    "collapsed": true,
    "slideshow": {
     "slide_type": "skip"
    }
   },
   "outputs": [],
   "source": [
    "blast_panel = store['blast_panel']\n",
    "blast_df = store['blast_df']"
   ]
  },
  {
   "cell_type": "markdown",
   "metadata": {},
   "source": [
    "Test stuff out with a small subset"
   ]
  },
  {
   "cell_type": "code",
   "execution_count": 22,
   "metadata": {
    "collapsed": true
   },
   "outputs": [],
   "source": [
    "gtf_df_small = gtf_df.tail(10000)\n",
    "lamp10_pM_df_small = lamp10_pM_df.tail(100000)"
   ]
  },
  {
   "cell_type": "code",
   "execution_count": 23,
   "metadata": {
    "collapsed": false
   },
   "outputs": [],
   "source": [
    "gtf_df_small.index.set_names('ann_id', inplace=True)\n",
    "lamp10_pM_df_small.index.set_names('aln_id', inplace=True)"
   ]
  },
  {
   "cell_type": "code",
   "execution_count": 24,
   "metadata": {
    "collapsed": false
   },
   "outputs": [],
   "source": [
    "gtf_trees_small = gtf_df_small.groupby('contig_id').apply(ivt.build_tree_from_group, gtf_df, ivt.get_gtf_coords)\n",
    "alignment_subject_trees_small = lamp10_pM_df_small.groupby('sseqid').apply(\n",
    "                                                                ivt.build_tree_from_group, lamp10_pM_df,\n",
    "                                                                ivt.get_blast_subject_coords)"
   ]
  },
  {
   "cell_type": "code",
   "execution_count": 25,
   "metadata": {
    "collapsed": true
   },
   "outputs": [],
   "source": [
    "gtf_trees_small.name = 'annotations'\n",
    "alignment_subject_trees_small.name = 'alignments'\n",
    "gi_df_small = pd.concat([gtf_trees_small, alignment_subject_trees_small], axis=1)"
   ]
  },
  {
   "cell_type": "code",
   "execution_count": 26,
   "metadata": {
    "collapsed": true
   },
   "outputs": [],
   "source": [
    "overlap_data_small = ivt.get_ann_aln_overlap_df(gi_df_small, cutoff=0.9)"
   ]
  },
  {
   "cell_type": "code",
   "execution_count": 28,
   "metadata": {
    "collapsed": false,
    "scrolled": true
   },
   "outputs": [],
   "source": [
    "gtf_aln_df_small = gtf_df_small.join(overlap_data_small).join(lamp10_pM_df_small)"
   ]
  },
  {
   "cell_type": "code",
   "execution_count": 31,
   "metadata": {
    "collapsed": true
   },
   "outputs": [],
   "source": [
    "gtf_aln_df_small['ann_length'] = gtf_aln_df_small.end - gtf_aln_df_small.start\n",
    "gtf_aln_df_small['aln_overlap_prop'] = gtf_aln_df_small.overlap_len / gtf_aln_df_small.length\n",
    "gtf_aln_df_small['ann_overlap_prop'] = gtf_aln_df_small.overlap_len / gtf_aln_df_small.ann_length"
   ]
  },
  {
   "cell_type": "code",
   "execution_count": 32,
   "metadata": {
    "collapsed": false
   },
   "outputs": [
    {
     "data": {
      "text/plain": [
       "0"
      ]
     },
     "execution_count": 32,
     "metadata": {},
     "output_type": "execute_result"
    }
   ],
   "source": [
    "(gtf_aln_df_small.ann_overlap_prop > 1).sum()"
   ]
  },
  {
   "cell_type": "markdown",
   "metadata": {},
   "source": [
    "## Gene Models from Pmarinus 7.0.75"
   ]
  },
  {
   "cell_type": "markdown",
   "metadata": {},
   "source": [
    "### Build Interval Trees"
   ]
  },
  {
   "cell_type": "markdown",
   "metadata": {},
   "source": [
    "Build an IntervalTree of BLAST alignments to each contig"
   ]
  },
  {
   "cell_type": "code",
   "execution_count": 22,
   "metadata": {
    "collapsed": false,
    "scrolled": true
   },
   "outputs": [
    {
     "name": "stdout",
     "output_type": "stream",
     "text": [
      "Build BLAST interval forest\n",
      "0%                          100%\n",
      "[##############################] | ETA[sec]: 0.000 \n",
      "Total time elapsed: 528.057 sec\n"
     ]
    }
   ],
   "source": [
    "bar = pyprind.ProgBar(len(lamp10_pM_df), stream=1, title='Build BLAST interval forest')\n",
    "lamp10_aln_subj_forest = ivt.build_forest_from_groups(lamp10_pM_df.groupby('sseqid'), lamp10_pM_df,\n",
    "                                                     ivt.get_blast_subject_coords, bar=bar)"
   ]
  },
  {
   "cell_type": "markdown",
   "metadata": {},
   "source": [
    "Build an IntervalTree of GTF features for each contig"
   ]
  },
  {
   "cell_type": "code",
   "execution_count": 23,
   "metadata": {
    "collapsed": false
   },
   "outputs": [
    {
     "name": "stdout",
     "output_type": "stream",
     "text": [
      "Build GTF interval forest\n",
      "0%                          100%\n",
      "[##############################] | ETA[sec]: 0.000 \n",
      "Total time elapsed: 43.985 sec\n"
     ]
    }
   ],
   "source": [
    "bar = pyprind.ProgBar(len(gtf_df), stream=1, title='Build GTF interval forest')\n",
    "petmar_gtf_forest = ivt.build_forest_from_groups(gtf_df.groupby('contig_id'), gtf_df,\n",
    "                                                 ivt.get_gtf_coords, bar=bar)"
   ]
  },
  {
   "cell_type": "markdown",
   "metadata": {},
   "source": [
    "Do the same for lamp00."
   ]
  },
  {
   "cell_type": "code",
   "execution_count": 25,
   "metadata": {
    "collapsed": false
   },
   "outputs": [
    {
     "name": "stdout",
     "output_type": "stream",
     "text": [
      "Build BLAST interval trees\n",
      "0%                          100%\n",
      "[##############################] | ETA[sec]: 0.000 \n",
      "Total time elapsed: 35.682 sec\n"
     ]
    }
   ],
   "source": [
    "bar = pyprind.ProgBar(len(lamp00_pM_df), stream=1, title='Build BLAST interval trees')\n",
    "lamp00_aln_subj_forest = ivt.build_forest_from_groups(lamp00_pM_df.groupby('sseqid'), gtf_df,\n",
    "                                                      ivt.get_blast_subject_coords, bar=bar)"
   ]
  },
  {
   "cell_type": "markdown",
   "metadata": {},
   "source": [
    "### Sanity Check"
   ]
  },
  {
   "cell_type": "code",
   "execution_count": 27,
   "metadata": {
    "collapsed": true
   },
   "outputs": [],
   "source": [
    "petmar_gtf_self_df = pd.DataFrame(petmar_gtf_forest.intersect(petmar_gtf_forest), columns=['A', 'B', 'ov_len'])"
   ]
  },
  {
   "cell_type": "code",
   "execution_count": 30,
   "metadata": {
    "collapsed": false
   },
   "outputs": [
    {
     "data": {
      "text/plain": [
       "245163"
      ]
     },
     "execution_count": 30,
     "metadata": {},
     "output_type": "execute_result"
    }
   ],
   "source": [
    "(petmar_gtf_self_df.A == petmar_gtf_self_df.B).sum()"
   ]
  },
  {
   "cell_type": "code",
   "execution_count": 31,
   "metadata": {
    "collapsed": false
   },
   "outputs": [
    {
     "data": {
      "text/plain": [
       "True"
      ]
     },
     "execution_count": 31,
     "metadata": {},
     "output_type": "execute_result"
    }
   ],
   "source": [
    "(petmar_gtf_self_df.A == petmar_gtf_self_df.B).sum() == len(gtf_df)"
   ]
  },
  {
   "cell_type": "markdown",
   "metadata": {},
   "source": [
    "### Calculate Overlap Data"
   ]
  },
  {
   "cell_type": "markdown",
   "metadata": {},
   "source": [
    "#### Annotation x Alignment (lamp10)"
   ]
  },
  {
   "cell_type": "code",
   "execution_count": 38,
   "metadata": {
    "collapsed": false
   },
   "outputs": [],
   "source": [
    "ann_aln_ov_df = pd.DataFrame(petmar_gtf_forest.intersect(lamp10_aln_subj_forest), \n",
    "                             columns=['ann_id', 'aln_id', 'ov_len'])\n",
    "ann_aln_ov_df.sort(columns='ann_id', inplace=True)"
   ]
  },
  {
   "cell_type": "code",
   "execution_count": 39,
   "metadata": {
    "collapsed": false
   },
   "outputs": [
    {
     "data": {
      "text/html": [
       "<div style=\"max-height:1000px;max-width:1500px;overflow:auto;\">\n",
       "<table border=\"1\" class=\"dataframe\">\n",
       "  <thead>\n",
       "    <tr style=\"text-align: right;\">\n",
       "      <th></th>\n",
       "      <th>ann_id</th>\n",
       "      <th>aln_id</th>\n",
       "      <th>ov_len</th>\n",
       "    </tr>\n",
       "  </thead>\n",
       "  <tbody>\n",
       "    <tr>\n",
       "      <th>449244</th>\n",
       "      <td>3</td>\n",
       "      <td>1556464</td>\n",
       "      <td>323</td>\n",
       "    </tr>\n",
       "    <tr>\n",
       "      <th>449245</th>\n",
       "      <td>4</td>\n",
       "      <td>1556464</td>\n",
       "      <td>323</td>\n",
       "    </tr>\n",
       "    <tr>\n",
       "      <th>449246</th>\n",
       "      <td>7</td>\n",
       "      <td>1556470</td>\n",
       "      <td>193</td>\n",
       "    </tr>\n",
       "    <tr>\n",
       "      <th>449247</th>\n",
       "      <td>8</td>\n",
       "      <td>1556470</td>\n",
       "      <td>193</td>\n",
       "    </tr>\n",
       "    <tr>\n",
       "      <th>449248</th>\n",
       "      <td>9</td>\n",
       "      <td>1556471</td>\n",
       "      <td>146</td>\n",
       "    </tr>\n",
       "  </tbody>\n",
       "</table>\n",
       "</div>"
      ],
      "text/plain": [
       "        ann_id   aln_id  ov_len\n",
       "449244       3  1556464     323\n",
       "449245       4  1556464     323\n",
       "449246       7  1556470     193\n",
       "449247       8  1556470     193\n",
       "449248       9  1556471     146"
      ]
     },
     "execution_count": 39,
     "metadata": {},
     "output_type": "execute_result"
    }
   ],
   "source": [
    "ann_aln_ov_df.head()"
   ]
  },
  {
   "cell_type": "code",
   "execution_count": 40,
   "metadata": {
    "collapsed": false
   },
   "outputs": [],
   "source": [
    "store['lamp10_ann_aln_ov_df'] = ann_aln_ov_df"
   ]
  },
  {
   "cell_type": "markdown",
   "metadata": {},
   "source": [
    "#### Alignment x Annotation (lamp10)"
   ]
  },
  {
   "cell_type": "code",
   "execution_count": 44,
   "metadata": {
    "collapsed": false
   },
   "outputs": [],
   "source": [
    "aln_ann_ov_df = pd.DataFrame(lamp10_aln_subj_forest.intersect(petmar_gtf_forest), \n",
    "                             columns=['aln_id', 'ann_id', 'ov_len'])\n",
    "aln_ann_ov_df.sort(columns='aln_id', inplace=True)"
   ]
  },
  {
   "cell_type": "code",
   "execution_count": 45,
   "metadata": {
    "collapsed": false
   },
   "outputs": [
    {
     "data": {
      "text/html": [
       "<div style=\"max-height:1000px;max-width:1500px;overflow:auto;\">\n",
       "<table border=\"1\" class=\"dataframe\">\n",
       "  <thead>\n",
       "    <tr style=\"text-align: right;\">\n",
       "      <th></th>\n",
       "      <th>aln_id</th>\n",
       "      <th>ann_id</th>\n",
       "      <th>ov_len</th>\n",
       "    </tr>\n",
       "  </thead>\n",
       "  <tbody>\n",
       "    <tr>\n",
       "      <th>26317</th>\n",
       "      <td>0</td>\n",
       "      <td>136551</td>\n",
       "      <td>179</td>\n",
       "    </tr>\n",
       "    <tr>\n",
       "      <th>26316</th>\n",
       "      <td>0</td>\n",
       "      <td>136550</td>\n",
       "      <td>179</td>\n",
       "    </tr>\n",
       "    <tr>\n",
       "      <th>1185478</th>\n",
       "      <td>2</td>\n",
       "      <td>10981</td>\n",
       "      <td>210</td>\n",
       "    </tr>\n",
       "    <tr>\n",
       "      <th>1185477</th>\n",
       "      <td>2</td>\n",
       "      <td>10980</td>\n",
       "      <td>210</td>\n",
       "    </tr>\n",
       "    <tr>\n",
       "      <th>100858</th>\n",
       "      <td>3</td>\n",
       "      <td>218614</td>\n",
       "      <td>203</td>\n",
       "    </tr>\n",
       "  </tbody>\n",
       "</table>\n",
       "</div>"
      ],
      "text/plain": [
       "         aln_id  ann_id  ov_len\n",
       "26317         0  136551     179\n",
       "26316         0  136550     179\n",
       "1185478       2   10981     210\n",
       "1185477       2   10980     210\n",
       "100858        3  218614     203"
      ]
     },
     "execution_count": 45,
     "metadata": {},
     "output_type": "execute_result"
    }
   ],
   "source": [
    "aln_ann_ov_df.head()"
   ]
  },
  {
   "cell_type": "code",
   "execution_count": 46,
   "metadata": {
    "collapsed": true
   },
   "outputs": [],
   "source": [
    "store['lamp10_aln_ann_ov_df'] = aln_ann_ov_df"
   ]
  },
  {
   "cell_type": "code",
   "execution_count": 173,
   "metadata": {
    "collapsed": false,
    "scrolled": false
   },
   "outputs": [],
   "source": [
    "aln_ann_data = pd.merge(lamp10_pM_df, aln_ann_ov_df.reset_index(level=1), left_index=True, \n",
    "                        right_index=True, how='left')"
   ]
  },
  {
   "cell_type": "code",
   "execution_count": 120,
   "metadata": {
    "collapsed": false
   },
   "outputs": [],
   "source": [
    "aln_ann_ov_counts = pd.Series([0] * len(tpm_df), index=tpm_df.index)\n",
    "aln_ann_ov_counts.update(aln_ann_data.groupby('qseqid').count().overlap_len)"
   ]
  },
  {
   "cell_type": "code",
   "execution_count": null,
   "metadata": {
    "collapsed": true
   },
   "outputs": [],
   "source": [
    "aln_overlap_vec = pd.Series([False] * len(tpm_df), index=tpm_df.index)\n",
    "aln_overlap_vec.update((aln_ann_ov_df.groupby(level=0).count() > 0).overlap_len)"
   ]
  },
  {
   "cell_type": "markdown",
   "metadata": {},
   "source": [
    "#### Annotation x Alignment (lamp00)"
   ]
  },
  {
   "cell_type": "code",
   "execution_count": 47,
   "metadata": {
    "collapsed": false
   },
   "outputs": [],
   "source": [
    "lamp00_ann_aln_ov_df = pd.DataFrame(petmar_gtf_forest.intersect(lamp00_aln_subj_forest), \n",
    "                             columns=['ann_id', 'aln_id', 'ov_len'])\n",
    "lamp00_ann_aln_ov_df.sort(columns='ann_id', inplace=True)"
   ]
  },
  {
   "cell_type": "markdown",
   "metadata": {},
   "source": [
    "#### Alignment x Annotation (lamp00)"
   ]
  },
  {
   "cell_type": "code",
   "execution_count": 48,
   "metadata": {
    "collapsed": false
   },
   "outputs": [],
   "source": [
    "lamp00_aln_ann_ov_df = pd.DataFrame(lamp00_aln_subj_forest.intersect(petmar_gtf_forest), \n",
    "                             columns=['aln_id', 'ann_id', 'ov_len'])\n",
    "lamp00_aln_ann_ov_df.sort(columns='aln_id', inplace=True)"
   ]
  },
  {
   "cell_type": "markdown",
   "metadata": {},
   "source": [
    "### Quantify Overlaps"
   ]
  },
  {
   "cell_type": "code",
   "execution_count": 58,
   "metadata": {
    "collapsed": false,
    "scrolled": false
   },
   "outputs": [
    {
     "data": {
      "image/png": "[encoded data removed]",
      "text/plain": [
       "<matplotlib.figure.Figure at 0x7fb5016dd810>"
      ]
     },
     "metadata": {},
     "output_type": "display_data"
    }
   ],
   "source": [
    "with FigManager(ncols=2, sharey=True) as (fix, ax):\n",
    "    sns.distplot(pd.Series(ann_aln_ov_df.groupby('ann_id').count().ov_len, index=gtf_df.index).fillna(0), \n",
    "                 kde=False, bins=20, ax=ax[0])\n",
    "    ax[0].set_title('Number Transcripts Overlapping')\n",
    "    \n",
    "    sns.distplot(pd.Series(aln_ann_ov_df.groupby('aln_id').count().ov_len, index=lamp10_pM_df.index).fillna(0), \n",
    "                 kde=False, bins=20, ax=ax[1])\n",
    "    ax[1].set_title('Number Overlaps per Transcript Alignment')"
   ]
  },
  {
   "cell_type": "markdown",
   "metadata": {},
   "source": [
    "Nothing suprising here -- most transcripts overlap 1 feature, and most features are overlapped by 1 transcript; there are many more transcripts than features."
   ]
  },
  {
   "cell_type": "markdown",
   "metadata": {},
   "source": [
    "#### Proportion of Annotations Overlapped"
   ]
  },
  {
   "cell_type": "code",
   "execution_count": 101,
   "metadata": {
    "collapsed": true
   },
   "outputs": [],
   "source": [
    "def calc_prop_ov():\n",
    "    lamp00_prop = (float(len(lamp00_ann_aln_ov_df.groupby('ann_id'))) / len(gtf_df))\n",
    "    lamp10_prop = (float(len(ann_aln_ov_df.groupby('ann_id'))) / len(gtf_df))\n",
    "    \n",
    "    return lamp00_prop, lamp10_prop"
   ]
  },
  {
   "cell_type": "code",
   "execution_count": 104,
   "metadata": {
    "collapsed": false,
    "scrolled": true
   },
   "outputs": [
    {
     "name": "stdout",
     "output_type": "stream",
     "text": [
      "lamp00: 0.809004621415 \n",
      "lamp10: 0.714830541313 \n",
      "ratio: 1.13174322397\n"
     ]
    }
   ],
   "source": [
    "lamp00_prop, lamp10_prop = calc_prop_ov()\n",
    "print 'lamp00:', lamp00_prop, '\\nlamp10:', lamp10_prop, '\\nratio:', lamp00_prop / lamp10_prop"
   ]
  },
  {
   "cell_type": "code",
   "execution_count": 105,
   "metadata": {
    "collapsed": true
   },
   "outputs": [],
   "source": [
    "results['lamp00_prop'] = lamp00_prop\n",
    "results['lamp10_prop'] = lamp10_prop\n",
    "results['lamp_prop_ratio'] = lamp00_prop / lamp10_prop"
   ]
  },
  {
   "cell_type": "markdown",
   "metadata": {},
   "source": [
    "#### Proportion of Annotations Overlapped, by Feature"
   ]
  },
  {
   "cell_type": "code",
   "execution_count": 96,
   "metadata": {
    "collapsed": false
   },
   "outputs": [],
   "source": [
    "def calc_prop_ov_by_feature():\n",
    "    lamp00_sums = (lamp00_ann_aln_ov_df.groupby('ann_id').count().ov_len != 0).groupby(gtf_df.feature).sum()\n",
    "    lamp00_props = (lamp00_ann_aln_ov_df.groupby('ann_id').count().ov_len != 0).groupby(gtf_df.feature).sum() / \\\n",
    "                    gtf_df.groupby(gtf_df.feature).feature.count()\n",
    "    \n",
    "    lamp10_sums = (ann_aln_ov_df.groupby('ann_id').count().ov_len != 0).groupby(gtf_df.feature).sum()\n",
    "    lamp10_props = (ann_aln_ov_df.groupby('ann_id').count().ov_len != 0).groupby(gtf_df.feature).sum() / \\\n",
    "                   gtf_df.groupby(gtf_df.feature).feature.count()\n",
    "    \n",
    "    return pd.DataFrame({'lamp00': lamp00_props, 'lamp10': lamp10_props}), \\\n",
    "           pd.DataFrame({'lamp00': lamp00_sums, 'lamp10': lamp10_sums})"
   ]
  },
  {
   "cell_type": "code",
   "execution_count": 98,
   "metadata": {
    "collapsed": false
   },
   "outputs": [],
   "source": [
    "feature_props, feature_sums = calc_prop_ov_by_feature()"
   ]
  },
  {
   "cell_type": "code",
   "execution_count": 118,
   "metadata": {
    "collapsed": false
   },
   "outputs": [
    {
     "data": {
      "text/html": [
       "<div style=\"max-height:1000px;max-width:1500px;overflow:auto;\">\n",
       "<table border=\"1\" class=\"dataframe\">\n",
       "  <thead>\n",
       "    <tr style=\"text-align: right;\">\n",
       "      <th></th>\n",
       "      <th>lamp00</th>\n",
       "      <th>lamp10</th>\n",
       "    </tr>\n",
       "    <tr>\n",
       "      <th>feature</th>\n",
       "      <th></th>\n",
       "      <th></th>\n",
       "    </tr>\n",
       "  </thead>\n",
       "  <tbody>\n",
       "    <tr>\n",
       "      <th>CDS</th>\n",
       "      <td>0.919196</td>\n",
       "      <td>0.789203</td>\n",
       "    </tr>\n",
       "    <tr>\n",
       "      <th>UTR</th>\n",
       "      <td>0.957400</td>\n",
       "      <td>0.838308</td>\n",
       "    </tr>\n",
       "    <tr>\n",
       "      <th>exon</th>\n",
       "      <td>0.896246</td>\n",
       "      <td>0.780100</td>\n",
       "    </tr>\n",
       "    <tr>\n",
       "      <th>gene</th>\n",
       "      <td>0.051323</td>\n",
       "      <td>0.128880</td>\n",
       "    </tr>\n",
       "    <tr>\n",
       "      <th>start_codon</th>\n",
       "      <td>0.960101</td>\n",
       "      <td>0.857505</td>\n",
       "    </tr>\n",
       "    <tr>\n",
       "      <th>stop_codon</th>\n",
       "      <td>0.636520</td>\n",
       "      <td>0.903922</td>\n",
       "    </tr>\n",
       "    <tr>\n",
       "      <th>transcript</th>\n",
       "      <td>0.048511</td>\n",
       "      <td>0.120501</td>\n",
       "    </tr>\n",
       "  </tbody>\n",
       "</table>\n",
       "</div>"
      ],
      "text/plain": [
       "               lamp00    lamp10\n",
       "feature                        \n",
       "CDS          0.919196  0.789203\n",
       "UTR          0.957400  0.838308\n",
       "exon         0.896246  0.780100\n",
       "gene         0.051323  0.128880\n",
       "start_codon  0.960101  0.857505\n",
       "stop_codon   0.636520  0.903922\n",
       "transcript   0.048511  0.120501"
      ]
     },
     "execution_count": 118,
     "metadata": {},
     "output_type": "execute_result"
    }
   ],
   "source": [
    "feature_props"
   ]
  },
  {
   "cell_type": "markdown",
   "metadata": {},
   "source": [
    "The numbers look better when we break things down by feature. The `gene` and `transcript` features are course-grained (their intervals contain introns), and are unlikely to be overlapped 90% by any single transcript."
   ]
  },
  {
   "cell_type": "code",
   "execution_count": 113,
   "metadata": {
    "collapsed": true
   },
   "outputs": [],
   "source": [
    "results ['feature_props'] = feature_props.to_dict()"
   ]
  },
  {
   "cell_type": "code",
   "execution_count": 116,
   "metadata": {
    "collapsed": false
   },
   "outputs": [],
   "source": [
    "with open('petmar-cross-validate.results.json', 'wb') as fp:\n",
    "    json.dump(results, fp)"
   ]
  },
  {
   "cell_type": "markdown",
   "metadata": {},
   "source": [
    "How about when we allow for multiple alignments to be merged to meet the .9 cutoff?"
   ]
  },
  {
   "cell_type": "code",
   "execution_count": 55,
   "metadata": {
    "collapsed": false
   },
   "outputs": [
    {
     "data": {
      "text/plain": [
       "0.7482368872953913"
      ]
     },
     "execution_count": 55,
     "metadata": {},
     "output_type": "execute_result"
    }
   ],
   "source": [
    "float(ann_overlap_merged_vec.sum()) / len(gtf_df)"
   ]
  },
  {
   "cell_type": "markdown",
   "metadata": {},
   "source": [
    "That's a bit better at least. What are the deltas?"
   ]
  },
  {
   "cell_type": "code",
   "execution_count": 61,
   "metadata": {
    "collapsed": false
   },
   "outputs": [
    {
     "data": {
      "text/plain": [
       "feature\n",
       "CDS            3401\n",
       "UTR             140\n",
       "exon           3726\n",
       "gene            455\n",
       "start_codon       0\n",
       "stop_codon        0\n",
       "transcript      468\n",
       "dtype: float64"
      ]
     },
     "execution_count": 61,
     "metadata": {},
     "output_type": "execute_result"
    }
   ],
   "source": [
    "ann_overlap_merged_vec.groupby(gtf_df.feature).sum() - ann_overlap_vec.groupby(gtf_df.feature).sum()"
   ]
  },
  {
   "cell_type": "code",
   "execution_count": 62,
   "metadata": {
    "collapsed": false
   },
   "outputs": [
    {
     "data": {
      "text/plain": [
       "feature\n",
       "CDS            0.822555\n",
       "UTR            0.881841\n",
       "exon           0.815425\n",
       "gene           0.163578\n",
       "start_codon    0.857505\n",
       "stop_codon     0.903922\n",
       "transcript     0.153596\n",
       "dtype: float64"
      ]
     },
     "execution_count": 62,
     "metadata": {},
     "output_type": "execute_result"
    }
   ],
   "source": [
    "ann_overlap_merged_vec.groupby(gtf_df.feature).apply(lambda g: float(g.sum()) / g.size)"
   ]
  },
  {
   "cell_type": "markdown",
   "metadata": {},
   "source": [
    "The numbers see some marked improvement. Finally, let's look at how they change with decreasing cutoffs."
   ]
  },
  {
   "cell_type": "code",
   "execution_count": 66,
   "metadata": {
    "collapsed": false,
    "scrolled": true
   },
   "outputs": [
    {
     "name": "stdout",
     "output_type": "stream",
     "text": [
      "Working on cutoff=0.0\n",
      "0%                          100%\n",
      "[##############################] | ETA[sec]: 0.000 \n",
      "Total time elapsed: 14.153 sec\n",
      "Working on cutoff=0.1\n",
      "0%                          100%\n",
      "[##############################] | ETA[sec]: 0.000 \n",
      "Total time elapsed: 12.019 sec\n",
      "Working on cutoff=0.2\n",
      "0%                          100%\n",
      "[##############################] | ETA[sec]: 0.000 \n",
      "Total time elapsed: 11.913 sec\n",
      "Working on cutoff=0.3\n",
      "0%                          100%\n",
      "[##############################] | ETA[sec]: 0.000 \n",
      "Total time elapsed: 17.292 sec\n",
      "Working on cutoff=0.4\n",
      "0%                          100%\n",
      "[##############################] | ETA[sec]: 0.000 \n",
      "Total time elapsed: 11.850 sec\n",
      "Working on cutoff=0.5\n",
      "0%                          100%\n",
      "[##############################] | ETA[sec]: 0.000 \n",
      "Total time elapsed: 11.798 sec\n",
      "Working on cutoff=0.6\n",
      "0%                          100%\n",
      "[##############################] | ETA[sec]: 0.000 \n",
      "Total time elapsed: 11.735 sec\n",
      "Working on cutoff=0.7\n",
      "0%                          100%\n",
      "[##############################] | ETA[sec]: 0.000 \n",
      "Total time elapsed: 11.708 sec\n",
      "Working on cutoff=0.8\n",
      "0%                          100%\n",
      "[##############################] | ETA[sec]: 0.000 \n",
      "Total time elapsed: 11.654 sec\n",
      "Working on cutoff=0.9\n",
      "0%                          100%\n",
      "[##############################] | ETA[sec]: 0.000 \n",
      "Total time elapsed: 11.642 sec\n",
      "Working on cutoff=1.0\n",
      "0%                          100%\n",
      "[##############################] | ETA[sec]: 0.000 \n",
      "Total time elapsed: 11.391 sec\n"
     ]
    }
   ],
   "source": [
    "cutoffs = pd.Series(np.arange(0.0, 1.1, .1))\n",
    "def coverage_fn(cutoff):\n",
    "    bar = pyprind.ProgBar(len(genome_interval_df), stream=1, title='Working on cutoff={c}'.format(c=cutoff))\n",
    "    df = ivt.get_ann_aln_overlap_df(genome_interval_df, cutoff=cutoff, bar=bar)\n",
    "    vec = pd.Series([False] * len(gtf_df), index=gtf_df.index)\n",
    "    vec.update((df.groupby(level=0).count() > 0).overlap_len)\n",
    "    vec.name = cutoff\n",
    "    return vec\n",
    "ann_ov_by_cutoff_df = cutoffs.apply(lambda c: coverage_fn(c))\n",
    "ann_ov_by_cutoff_df = ann_ov_by_cutoff_df.transpose()\n",
    "ann_ov_by_cutoff_df.columns = cutoffs"
   ]
  },
  {
   "cell_type": "code",
   "execution_count": 90,
   "metadata": {
    "collapsed": false
   },
   "outputs": [
    {
     "data": {
      "image/png": "[encoded data removed]",
      "text/plain": [
       "<matplotlib.figure.Figure at 0x7fb3f73f1b50>"
      ]
     },
     "metadata": {},
     "output_type": "display_data"
    }
   ],
   "source": [
    "with sns.color_palette('muted'), FigManager() as (fig, ax):\n",
    "    ann_ov_by_cutoff_df.groupby(gtf_df.feature).apply(lambda g: g.sum() / len(g)).T.plot(ax=ax)\n",
    "    ax.set_ylabel('Proportion Annotations Overlapped')\n",
    "    ax.set_xlabel('Min Overlap Proportion')\n",
    "    ax.set_title('Proportion Annotations Overlapped per Feature by Cutoff (lamp10)')"
   ]
  },
  {
   "cell_type": "markdown",
   "metadata": {},
   "source": [
    "As we might expect, the gene and transcript feature overlaps drop drastically with increasing cutoffs. Start and stop codons stay almost the same, being only 3 bases long."
   ]
  },
  {
   "cell_type": "markdown",
   "metadata": {},
   "source": [
    "#### Transcripts Overlapping Features"
   ]
  },
  {
   "cell_type": "code",
   "execution_count": 164,
   "metadata": {
    "collapsed": false,
    "scrolled": true
   },
   "outputs": [
    {
     "data": {
      "text/plain": [
       "52725"
      ]
     },
     "execution_count": 164,
     "metadata": {},
     "output_type": "execute_result"
    }
   ],
   "source": [
    "(ann_aln_ov_df.groupby('aln_id').count().join(lamp10_pM_df).groupby('qseqid').sum().overlap_len != 0).sum()"
   ]
  },
  {
   "cell_type": "code",
   "execution_count": 100,
   "metadata": {
    "collapsed": false
   },
   "outputs": [
    {
     "data": {
      "text/plain": [
       "0.7332895316246008"
      ]
     },
     "execution_count": 100,
     "metadata": {},
     "output_type": "execute_result"
    }
   ],
   "source": [
    "float((aln_ann_ov_df.groupby('aln_id').count().overlap_len.groupby('lamp10_pM_df.qseqid.sort_index()).count() != 0).sum()) / len(tpm_df)"
   ]
  },
  {
   "cell_type": "markdown",
   "metadata": {},
   "source": [
    "### Describe Overlaps"
   ]
  },
  {
   "cell_type": "markdown",
   "metadata": {},
   "source": [
    "Retrieve the indices of each overlapping transcript for each feature"
   ]
  },
  {
   "cell_type": "markdown",
   "metadata": {},
   "source": [
    "Join the metadata from the features and corresponding overlapped alignments"
   ]
  },
  {
   "cell_type": "code",
   "execution_count": 32,
   "metadata": {
    "collapsed": true
   },
   "outputs": [],
   "source": [
    "overlap_df = gtf_df.join(overlap_data).join(lamp10_pM_df).sortlevel()"
   ]
  },
  {
   "cell_type": "code",
   "execution_count": 33,
   "metadata": {
    "collapsed": false
   },
   "outputs": [],
   "source": [
    "overlap_df['ann_length'] = overlap_df.end - overlap_df.start\n",
    "overlap_df['aln_overlap_prop'] = overlap_df.overlap_len / overlap_df.length\n",
    "overlap_df['ann_overlap_prop'] = overlap_df.overlap_len / overlap_df.ann_length"
   ]
  },
  {
   "cell_type": "code",
   "execution_count": 34,
   "metadata": {
    "collapsed": false
   },
   "outputs": [
    {
     "data": {
      "text/html": [
       "<div style=\"max-height:1000px;max-width:1500px;overflow:auto;\">\n",
       "<table border=\"1\" class=\"dataframe\">\n",
       "  <thead>\n",
       "    <tr style=\"text-align: right;\">\n",
       "      <th></th>\n",
       "      <th></th>\n",
       "      <th>contig_id</th>\n",
       "      <th>source</th>\n",
       "      <th>feature</th>\n",
       "      <th>start</th>\n",
       "      <th>end</th>\n",
       "      <th>score</th>\n",
       "      <th>strand</th>\n",
       "      <th>frame</th>\n",
       "      <th>exon_id</th>\n",
       "      <th>exon_number</th>\n",
       "      <th>...</th>\n",
       "      <th>qend</th>\n",
       "      <th>sstart</th>\n",
       "      <th>send</th>\n",
       "      <th>evalue</th>\n",
       "      <th>bitscore</th>\n",
       "      <th>qstrand</th>\n",
       "      <th>sstrand</th>\n",
       "      <th>ann_length</th>\n",
       "      <th>aln_overlap_prop</th>\n",
       "      <th>ann_overlap_prop</th>\n",
       "    </tr>\n",
       "    <tr>\n",
       "      <th>ann_id</th>\n",
       "      <th>aln_id</th>\n",
       "      <th></th>\n",
       "      <th></th>\n",
       "      <th></th>\n",
       "      <th></th>\n",
       "      <th></th>\n",
       "      <th></th>\n",
       "      <th></th>\n",
       "      <th></th>\n",
       "      <th></th>\n",
       "      <th></th>\n",
       "      <th></th>\n",
       "      <th></th>\n",
       "      <th></th>\n",
       "      <th></th>\n",
       "      <th></th>\n",
       "      <th></th>\n",
       "      <th></th>\n",
       "      <th></th>\n",
       "      <th></th>\n",
       "      <th></th>\n",
       "      <th></th>\n",
       "    </tr>\n",
       "  </thead>\n",
       "  <tbody>\n",
       "    <tr>\n",
       "      <th rowspan=\"5\" valign=\"top\">5124</th>\n",
       "      <th>616481</th>\n",
       "      <td>GL476328</td>\n",
       "      <td>protein_coding</td>\n",
       "      <td>gene</td>\n",
       "      <td>168846</td>\n",
       "      <td>169476</td>\n",
       "      <td>.</td>\n",
       "      <td>+</td>\n",
       "      <td>.</td>\n",
       "      <td>NaN</td>\n",
       "      <td>NaN</td>\n",
       "      <td>...</td>\n",
       "      <td>1783</td>\n",
       "      <td>169341</td>\n",
       "      <td>169723</td>\n",
       "      <td>0</td>\n",
       "      <td>652</td>\n",
       "      <td>+</td>\n",
       "      <td>-</td>\n",
       "      <td>630</td>\n",
       "      <td>0.350649</td>\n",
       "      <td>0.214286</td>\n",
       "    </tr>\n",
       "    <tr>\n",
       "      <th>616484</th>\n",
       "      <td>GL476328</td>\n",
       "      <td>protein_coding</td>\n",
       "      <td>gene</td>\n",
       "      <td>168846</td>\n",
       "      <td>169476</td>\n",
       "      <td>.</td>\n",
       "      <td>+</td>\n",
       "      <td>.</td>\n",
       "      <td>NaN</td>\n",
       "      <td>NaN</td>\n",
       "      <td>...</td>\n",
       "      <td>2070</td>\n",
       "      <td>169341</td>\n",
       "      <td>169723</td>\n",
       "      <td>0</td>\n",
       "      <td>652</td>\n",
       "      <td>+</td>\n",
       "      <td>-</td>\n",
       "      <td>630</td>\n",
       "      <td>0.350649</td>\n",
       "      <td>0.214286</td>\n",
       "    </tr>\n",
       "    <tr>\n",
       "      <th>616490</th>\n",
       "      <td>GL476328</td>\n",
       "      <td>protein_coding</td>\n",
       "      <td>gene</td>\n",
       "      <td>168846</td>\n",
       "      <td>169476</td>\n",
       "      <td>.</td>\n",
       "      <td>+</td>\n",
       "      <td>.</td>\n",
       "      <td>NaN</td>\n",
       "      <td>NaN</td>\n",
       "      <td>...</td>\n",
       "      <td>763</td>\n",
       "      <td>169341</td>\n",
       "      <td>169723</td>\n",
       "      <td>0</td>\n",
       "      <td>652</td>\n",
       "      <td>+</td>\n",
       "      <td>-</td>\n",
       "      <td>630</td>\n",
       "      <td>0.350649</td>\n",
       "      <td>0.214286</td>\n",
       "    </tr>\n",
       "    <tr>\n",
       "      <th>616493</th>\n",
       "      <td>GL476328</td>\n",
       "      <td>protein_coding</td>\n",
       "      <td>gene</td>\n",
       "      <td>168846</td>\n",
       "      <td>169476</td>\n",
       "      <td>.</td>\n",
       "      <td>+</td>\n",
       "      <td>.</td>\n",
       "      <td>NaN</td>\n",
       "      <td>NaN</td>\n",
       "      <td>...</td>\n",
       "      <td>2557</td>\n",
       "      <td>169341</td>\n",
       "      <td>169723</td>\n",
       "      <td>0</td>\n",
       "      <td>652</td>\n",
       "      <td>+</td>\n",
       "      <td>-</td>\n",
       "      <td>630</td>\n",
       "      <td>0.350649</td>\n",
       "      <td>0.214286</td>\n",
       "    </tr>\n",
       "    <tr>\n",
       "      <th>616497</th>\n",
       "      <td>GL476328</td>\n",
       "      <td>protein_coding</td>\n",
       "      <td>gene</td>\n",
       "      <td>168846</td>\n",
       "      <td>169476</td>\n",
       "      <td>.</td>\n",
       "      <td>+</td>\n",
       "      <td>.</td>\n",
       "      <td>NaN</td>\n",
       "      <td>NaN</td>\n",
       "      <td>...</td>\n",
       "      <td>1260</td>\n",
       "      <td>169341</td>\n",
       "      <td>169723</td>\n",
       "      <td>0</td>\n",
       "      <td>652</td>\n",
       "      <td>+</td>\n",
       "      <td>-</td>\n",
       "      <td>630</td>\n",
       "      <td>0.350649</td>\n",
       "      <td>0.214286</td>\n",
       "    </tr>\n",
       "  </tbody>\n",
       "</table>\n",
       "<p>5 rows × 36 columns</p>\n",
       "</div>"
      ],
      "text/plain": [
       "              contig_id          source feature   start     end score strand  \\\n",
       "ann_id aln_id                                                                  \n",
       "5124   616481  GL476328  protein_coding    gene  168846  169476     .      +   \n",
       "       616484  GL476328  protein_coding    gene  168846  169476     .      +   \n",
       "       616490  GL476328  protein_coding    gene  168846  169476     .      +   \n",
       "       616493  GL476328  protein_coding    gene  168846  169476     .      +   \n",
       "       616497  GL476328  protein_coding    gene  168846  169476     .      +   \n",
       "\n",
       "              frame exon_id exon_number       ...         qend  sstart  \\\n",
       "ann_id aln_id                                 ...                        \n",
       "5124   616481     .     NaN         NaN       ...         1783  169341   \n",
       "       616484     .     NaN         NaN       ...         2070  169341   \n",
       "       616490     .     NaN         NaN       ...          763  169341   \n",
       "       616493     .     NaN         NaN       ...         2557  169341   \n",
       "       616497     .     NaN         NaN       ...         1260  169341   \n",
       "\n",
       "                 send evalue bitscore qstrand sstrand ann_length  \\\n",
       "ann_id aln_id                                                      \n",
       "5124   616481  169723      0      652       +       -        630   \n",
       "       616484  169723      0      652       +       -        630   \n",
       "       616490  169723      0      652       +       -        630   \n",
       "       616493  169723      0      652       +       -        630   \n",
       "       616497  169723      0      652       +       -        630   \n",
       "\n",
       "               aln_overlap_prop ann_overlap_prop  \n",
       "ann_id aln_id                                     \n",
       "5124   616481          0.350649         0.214286  \n",
       "       616484          0.350649         0.214286  \n",
       "       616490          0.350649         0.214286  \n",
       "       616493          0.350649         0.214286  \n",
       "       616497          0.350649         0.214286  \n",
       "\n",
       "[5 rows x 36 columns]"
      ]
     },
     "execution_count": 34,
     "metadata": {},
     "output_type": "execute_result"
    }
   ],
   "source": [
    "overlap_df.head()"
   ]
  },
  {
   "cell_type": "markdown",
   "metadata": {},
   "source": [
    "#### How many transcripts overlap a feature at all?"
   ]
  },
  {
   "cell_type": "code",
   "execution_count": 35,
   "metadata": {
    "collapsed": false,
    "scrolled": true
   },
   "outputs": [
    {
     "name": "stdout",
     "output_type": "stream",
     "text": [
      "218160 of 715345 transcripts overlap a GTF feature (0.30)\n"
     ]
    }
   ],
   "source": [
    "tr_intersecting = (overlap_df.reset_index().groupby('qseqid')['ann_id'].count() > 0).sum()\n",
    "tr_total = len(tpm_df)\n",
    "print '{} of {} transcripts overlap a GTF feature ({:.2f})'.format(tr_intersecting, tr_total, \n",
    "                                                                   float(tr_intersecting) / tr_total)"
   ]
  },
  {
   "cell_type": "markdown",
   "metadata": {},
   "source": [
    "#### How big are the overlaps?\n",
    "\n",
    "We can easily examine the proportion of a given sequence overlapped, be it a transcript (ie, how much of the transcript was overlapped by the specific feature) or an annotation. We can also subset the annotations by feature type."
   ]
  },
  {
   "cell_type": "code",
   "execution_count": 36,
   "metadata": {
    "collapsed": false,
    "scrolled": false
   },
   "outputs": [
    {
     "data": {
      "image/png": "[encoded data removed]",
      "text/plain": [
       "<matplotlib.figure.Figure at 0x7f9ddeec8690>"
      ]
     },
     "metadata": {},
     "output_type": "display_data"
    }
   ],
   "source": [
    "with FigManager(nrows=4, figsize=(12,24)) as (fig, ax):\n",
    "    colors = sns.color_palette(\"cubehelix\", 8)\n",
    "    sns.distplot(overlap_df.aln_overlap_prop.dropna(), ax=ax[0], kde=False, bins=100, color=colors[0],\n",
    "                 axlabel='Overlap Proportion')\n",
    "    ax[0].set_title('Histogram of Proportion of Transcript Overlapped')\n",
    "    \n",
    "    sns.distplot(overlap_df.ann_overlap_prop.dropna(), ax=ax[1], kde=False, bins=100, color=colors[1], \n",
    "                 axlabel='Overlap Proportion')\n",
    "    ax[1].set_title('Histogram of Proportion of Annotation Overlapped')\n",
    " \n",
    "    sns.distplot(overlap_df[overlap_df.feature == 'exon'].ann_overlap_prop.dropna(), ax=ax[2], color=colors[2],\n",
    "                 kde=False, bins=100, axlabel='Overlap Proportion')\n",
    "    ax[2].set_title('Histogram of Proportion of Exon Overlapped')\n",
    "\n",
    "    sns.distplot(overlap_df[overlap_df.feature == 'CDS'].ann_overlap_prop.dropna(), ax=ax[3], color=colors[3],\n",
    "                 kde=False, bins=100, axlabel='Overlap Proportion')\n",
    "    ax[3].set_title('Histogram of Proportion of CDS Overlapped')"
   ]
  },
  {
   "cell_type": "markdown",
   "metadata": {},
   "source": [
    "### WIP: Abundance + cross validation"
   ]
  },
  {
   "cell_type": "code",
   "execution_count": 119,
   "metadata": {
    "collapsed": false
   },
   "outputs": [],
   "source": [
    "tpm_df['ann_id'] = False\n",
    "tpm_df.update((gtf_aln_df.reset_index().groupby('qseqid')['ann_id'].count() > 0))\n",
    "tpm_df.rename(columns={'ann_id':'has_annotation'}, inplace=True)"
   ]
  },
  {
   "cell_type": "code",
   "execution_count": 121,
   "metadata": {
    "collapsed": false
   },
   "outputs": [],
   "source": [
    "tpm_df['mean_tpm'] = tpm_df.drop('has_annotation', axis=1).mean(axis=1)"
   ]
  },
  {
   "cell_type": "code",
   "execution_count": 165,
   "metadata": {
    "collapsed": false
   },
   "outputs": [
    {
     "data": {
      "text/plain": [
       "0.7561955235359132"
      ]
     },
     "execution_count": 165,
     "metadata": {},
     "output_type": "execute_result"
    }
   ],
   "source": [
    "tpm_df[tpm_df.has_annotation == True].mean_tpm.median()"
   ]
  },
  {
   "cell_type": "code",
   "execution_count": 166,
   "metadata": {
    "collapsed": false
   },
   "outputs": [
    {
     "data": {
      "text/plain": [
       "0.7595900362358685"
      ]
     },
     "execution_count": 166,
     "metadata": {},
     "output_type": "execute_result"
    }
   ],
   "source": [
    "tpm_df[tpm_df.has_annotation == False].mean_tpm.median()"
   ]
  },
  {
   "cell_type": "code",
   "execution_count": 164,
   "metadata": {
    "collapsed": false,
    "scrolled": false
   },
   "outputs": [
    {
     "data": {
      "image/png": "[encoded data removed]",
      "text/plain": [
       "<matplotlib.figure.Figure at 0x7f7736842b10>"
      ]
     },
     "metadata": {},
     "output_type": "display_data"
    }
   ],
   "source": [
    "with FigManager() as (fig, ax):\n",
    "    sns.violinplot(x='has_annotation', y='mean_tpm', data=tpm_df[tpm_df.mean_tpm < 20], ax=ax, bw=.3)"
   ]
  },
  {
   "cell_type": "code",
   "execution_count": 233,
   "metadata": {
    "collapsed": true
   },
   "outputs": [],
   "source": [
    "store.close()"
   ]
  },
  {
   "cell_type": "markdown",
   "metadata": {},
   "source": [
    "### Deprecated"
   ]
  },
  {
   "cell_type": "markdown",
   "metadata": {},
   "source": [
    "### Utility Functions"
   ]
  },
  {
   "cell_type": "markdown",
   "metadata": {},
   "source": [
    "Given a genome contig and a range, get the appropriate interval tree and find overlapping intervals. Return the DataFrame indices for matching features."
   ]
  },
  {
   "cell_type": "code",
   "execution_count": 24,
   "metadata": {
    "collapsed": false
   },
   "outputs": [],
   "source": [
    "def describe_overlap(qstart, qend, istart, iend, delta=2):\n",
    "    qlen = qend - qstart\n",
    "    ilen = iend - istart\n",
    "    \n",
    "    if qstart == istart and qend == iend:\n",
    "        return 'exact', qlen, 1.0\n",
    "    \n",
    "    elif qstart >= istart:\n",
    "        if qend <= iend:\n",
    "            return 'contained', qlen, 1.0\n",
    "        else:\n",
    "            olen = iend - qstart\n",
    "            return 'overlaps', olen, float(olen) / qlen\n",
    "    else:\n",
    "        if qend <= iend:\n",
    "            olen = qend - istart\n",
    "            return 'overlaps', olen, float(olen) /qlen\n",
    "        else:\n",
    "            return 'contains', ilen, 1.0"
   ]
  },
  {
   "cell_type": "code",
   "execution_count": 25,
   "metadata": {
    "collapsed": false
   },
   "outputs": [],
   "source": [
    "# Tests!\n",
    "assert describe_overlap(5,10,0,15) == ('contained', 5, 1.0)\n",
    "assert describe_overlap(0,15,5,10) == ('contains', 5, 1.0)\n",
    "assert describe_overlap(0,10,5,15) == ('overlaps', 5, .5)\n",
    "assert describe_overlap(5,15,0,10) == ('overlaps', 5, .5)\n",
    "assert describe_overlap(0,10,0,10) == ('exact', 10, 1.0)"
   ]
  },
  {
   "cell_type": "code",
   "execution_count": 26,
   "metadata": {
    "collapsed": false
   },
   "outputs": [],
   "source": [
    "def get_overlap_rows(seqname, start, end, db, overlaps):\n",
    "    try:\n",
    "        tree = db[seqname]\n",
    "    except Exception as e:\n",
    "        #print >>sys.stderr, 'No interval tree for sequence', seqname, e\n",
    "        return []\n",
    "    # Turns out the intervaltree requires (min,max) style coordinates\n",
    "    rows = []\n",
    "    for interval in tree[min(start,end):max(start,end)]:\n",
    "        ix, feature = interval.data\n",
    "        rows.append(ix)\n",
    "        overlaps.append(describe_overlap(min(start, end), max(start, end), interval.begin, interval.end) + (feature, ))\n",
    "        \n",
    "    return rows"
   ]
  },
  {
   "cell_type": "code",
   "execution_count": 27,
   "metadata": {
    "collapsed": false
   },
   "outputs": [],
   "source": [
    "def get_overlaps(df, db, block_size=5000):\n",
    "    bar = pyprind.ProgBar(len(df) / block_size, stream=1)\n",
    "    \n",
    "    df['features'] = None\n",
    "    overlaps = []\n",
    "    for block_start in range(0,len(df), block_size):\n",
    "        bar.update()\n",
    "        df.ix[block_start:block_start+block_size, 'features'] = \\\n",
    "            df.ix[block_start:block_start+block_size].apply(\n",
    "            lambda row: get_overlap_rows(row.sseqid, row.sstart, row.send, db, overlaps), axis=1)\n",
    "    \n",
    "    odf = pd.DataFrame(overlaps, columns=['overlap_type', 'length', 'percent', 'feature'])\n",
    "    return odf"
   ]
  },
  {
   "cell_type": "code",
   "execution_count": 28,
   "metadata": {
    "collapsed": false
   },
   "outputs": [],
   "source": [
    "def quantify_overlaps(df, gtf_df=gtf_df):\n",
    "    df['tr'] = df.index\n",
    "    df.sort(columns=['tr', 'sseqid'], inplace=True)\n",
    "    \n",
    "    overlapped_rows = set()\n",
    "    df.apply(lambda row: overlapped_rows.update(row.features), axis=1)\n",
    "    \n",
    "    stats_srs = gtf_df.ix[list(overlapped_rows)].groupby(by='feature').count().source / \\\n",
    "               gtf_df.groupby(by='feature', axis=0).count().source\n",
    "    stats_srs = stats_srs.append(pd.Series(float(len(overlapped_rows)) / len(gtf_df), index=['all']))\n",
    "    \n",
    "    for feature, perc in stats_srs.iteritems():\n",
    "        print '{:.2f}% of {:s} features overlapped'.format(perc * 100.0, feature)\n",
    "    return stats_srs"
   ]
  },
  {
   "cell_type": "code",
   "execution_count": 35,
   "metadata": {
    "collapsed": false
   },
   "outputs": [
    {
     "name": "stdout",
     "output_type": "stream",
     "text": [
      "0%                          100%\n",
      "[##############################] | ETA[sec]: 0.000 \n",
      "Total time elapsed: 16.920 sec\n"
     ]
    }
   ],
   "source": [
    "lamp00_overlaps = get_overlaps(lamp00_pM_df, petMar2_idb)"
   ]
  },
  {
   "cell_type": "code",
   "execution_count": 36,
   "metadata": {
    "collapsed": false
   },
   "outputs": [
    {
     "name": "stdout",
     "output_type": "stream",
     "text": [
      "91.98% of CDS features overlapped\n",
      "96.27% of UTR features overlapped\n",
      "89.69% of exon features overlapped\n",
      "79.88% of gene features overlapped\n",
      "95.00% of start_codon features overlapped\n",
      "98.04% of stop_codon features overlapped\n",
      "81.35% of transcript features overlapped\n",
      "89.93% of all features overlapped\n"
     ]
    }
   ],
   "source": [
    "lamp00_stats_srs = quantify_overlaps(lamp00_pM_df)"
   ]
  },
  {
   "cell_type": "code",
   "execution_count": 44,
   "metadata": {
    "collapsed": false
   },
   "outputs": [
    {
     "data": {
      "image/png": "[encoded data removed]",
      "text/plain": [
       "<matplotlib.figure.Figure at 0x7f3ebf30cd10>"
      ]
     },
     "metadata": {},
     "output_type": "display_data"
    },
    {
     "data": {
      "text/html": [
       "<a href='lamp00_overlap_type_counts.svg' target='_blank'>lamp00_overlap_type_counts.svg</a><br>"
      ],
      "text/plain": [
       "/home/camille/w/2015-petMarSB/notebooks/lamp00_overlap_type_counts.svg"
      ]
     },
     "execution_count": 44,
     "metadata": {},
     "output_type": "execute_result"
    }
   ],
   "source": [
    "with FigManager('lamp00_overlap_type_counts', figsize=norm_size, show=True) as (fig, ax):\n",
    "    lamp00_overlaps[lamp00_overlaps.feature.isin(['exon', 'CDS', 'gene'])].\\\n",
    "        groupby('overlap_type').count().length.plot(kind='bar', fig=fig, ax=ax)\n",
    "    ax.set_title('Overlap Type Counts in Lamp00')\n",
    "FileLink('lamp00_overlap_type_counts.svg')"
   ]
  },
  {
   "cell_type": "markdown",
   "metadata": {},
   "source": [
    "Looks alright; now for our assembly."
   ]
  },
  {
   "cell_type": "code",
   "execution_count": 38,
   "metadata": {
    "collapsed": false
   },
   "outputs": [
    {
     "name": "stdout",
     "output_type": "stream",
     "text": [
      "0%                          100%\n",
      "[##############################] | ETA[sec]: 0.000 \n",
      "Total time elapsed: 250.054 sec\n"
     ]
    }
   ],
   "source": [
    "lamp10_overlaps = get_overlaps(lamp10_pM_df, petMar2_idb)"
   ]
  },
  {
   "cell_type": "code",
   "execution_count": 39,
   "metadata": {
    "collapsed": false
   },
   "outputs": [
    {
     "name": "stdout",
     "output_type": "stream",
     "text": [
      "89.22% of CDS features overlapped\n",
      "95.55% of UTR features overlapped\n",
      "88.95% of exon features overlapped\n",
      "92.96% of gene features overlapped\n",
      "85.05% of start_codon features overlapped\n",
      "90.81% of stop_codon features overlapped\n",
      "93.42% of transcript features overlapped\n",
      "89.60% of all features overlapped\n"
     ]
    }
   ],
   "source": [
    "lamp10_stats_srs = quantify_overlaps(lamp10_pM_df)"
   ]
  },
  {
   "cell_type": "code",
   "execution_count": null,
   "metadata": {
    "collapsed": false
   },
   "outputs": [
    {
     "name": "stdout",
     "output_type": "stream",
     "text": [
      "0%                          100%\n",
      "[##############################] | ETA[sec]: 0.000 \n",
      "Total time elapsed: 99.686 sec\n"
     ]
    }
   ],
   "source": [
    "lamp10_pM_df['features'] = None\n",
    "lamp10_hom_overlaps = get_overlaps(lamp10_pM_df[blast_df.musMus_pep & blast_df.homSap_pep & blast_df.danRer_pep], petMar2_idb)"
   ]
  },
  {
   "cell_type": "code",
   "execution_count": null,
   "metadata": {
    "collapsed": false
   },
   "outputs": [],
   "source": [
    "lamp10_hom_stats_srs = quantify_overlaps(lamp10_pM_df)"
   ]
  },
  {
   "cell_type": "code",
   "execution_count": 45,
   "metadata": {
    "collapsed": false
   },
   "outputs": [
    {
     "data": {
      "image/png": "[encoded data removed]",
      "text/plain": [
       "<matplotlib.figure.Figure at 0x7f3ed0d74850>"
      ]
     },
     "metadata": {},
     "output_type": "display_data"
    },
    {
     "data": {
      "text/html": [
       "<a href='lamp10_overlap_type_counts.svg' target='_blank'>lamp10_overlap_type_counts.svg</a><br>"
      ],
      "text/plain": [
       "/home/camille/w/2015-petMarSB/notebooks/lamp10_overlap_type_counts.svg"
      ]
     },
     "execution_count": 45,
     "metadata": {},
     "output_type": "execute_result"
    }
   ],
   "source": [
    "with FigManager('lamp10_overlap_type_counts', figsize=norm_size, show=True) as (fig, ax):\n",
    "    lamp10_overlaps[lamp10_overlaps.feature.isin(['exon', 'CDS', 'gene'])].\\\n",
    "        groupby('overlap_type').count().length.plot(kind='bar', fig=fig, ax=ax)\n",
    "    ax.set_title('Overlap Type Counts in Lamp10')\n",
    "FileLink('lamp10_overlap_type_counts.svg')"
   ]
  },
  {
   "cell_type": "code",
   "execution_count": 46,
   "metadata": {
    "collapsed": false
   },
   "outputs": [
    {
     "data": {
      "image/png": "[encoded data removed]",
      "text/plain": [
       "<matplotlib.figure.Figure at 0x7f3ebf30c8d0>"
      ]
     },
     "metadata": {},
     "output_type": "display_data"
    },
    {
     "data": {
      "text/html": [
       "<a href='lamp10_overlap_percentages_all.svg' target='_blank'>lamp10_overlap_percentages_all.svg</a><br>"
      ],
      "text/plain": [
       "/home/camille/w/2015-petMarSB/notebooks/lamp10_overlap_percentages_all.svg"
      ]
     },
     "execution_count": 46,
     "metadata": {},
     "output_type": "execute_result"
    }
   ],
   "source": [
    "with FigManager('lamp10_overlap_percentages_all', figsize=norm_size, show=True) as (fig, ax):\n",
    "    lamp10_overlaps[lamp10_overlaps.overlap_type == 'overlaps'].percent.plot(kind='hist', fig=fig, ax=ax, bins=50)\n",
    "    ax.set_title('Overlap Percentages in Lamp10, all Features')\n",
    "FileLink('lamp10_overlap_percentages_all.svg')"
   ]
  },
  {
   "cell_type": "code",
   "execution_count": 47,
   "metadata": {
    "collapsed": false
   },
   "outputs": [
    {
     "data": {
      "image/png": "[encoded data removed]",
      "text/plain": [
       "<matplotlib.figure.Figure at 0x7f3ebf30c890>"
      ]
     },
     "metadata": {},
     "output_type": "display_data"
    },
    {
     "data": {
      "text/html": [
       "<a href='lamp10_overlap_percentages_exons.svg' target='_blank'>lamp10_overlap_percentages_exons.svg</a><br>"
      ],
      "text/plain": [
       "/home/camille/w/2015-petMarSB/notebooks/lamp10_overlap_percentages_exons.svg"
      ]
     },
     "execution_count": 47,
     "metadata": {},
     "output_type": "execute_result"
    }
   ],
   "source": [
    "with FigManager('lamp10_overlap_percentages_exons', figsize=norm_size, show=True) as (fig, ax):\n",
    "    lamp10_overlaps[(lamp10_overlaps.overlap_type == 'overlaps') & \\\n",
    "                    (lamp10_overlaps.feature == 'exon')].percent.plot(kind='hist', \n",
    "                                                                                             fig=fig, ax=ax, bins=50)\n",
    "    ax.set_title('Overlap Percentages in Lamp10, exons')\n",
    "FileLink('lamp10_overlap_percentages_exons.svg')"
   ]
  },
  {
   "cell_type": "markdown",
   "metadata": {},
   "source": [
    "TODO\n",
    "1. Normalize vs. amount of genome covered by features\n",
    "2. Use lamp00 as control for this method X\n",
    "3. Pull out overlapped for more comparison X\n",
    "4. Do again with only transcripts mapping to genome + other and do same process\n",
    "5. Graph align old dna, new dna; transcripts\n",
    "6. CEGMA "
   ]
  },
  {
   "cell_type": "code",
   "execution_count": 150,
   "metadata": {
    "collapsed": false
   },
   "outputs": [],
   "source": [
    "store.close()"
   ]
  }
 ],
 "metadata": {
  "kernelspec": {
   "display_name": "Python 2",
   "language": "python",
   "name": "python2"
  },
  "language_info": {
   "codemirror_mode": {
    "name": "ipython",
    "version": 2
   },
   "file_extension": ".py",
   "mimetype": "text/x-python",
   "name": "python",
   "nbconvert_exporter": "python",
   "pygments_lexer": "ipython2",
   "version": "2.7.10"
  }
 },
 "nbformat": 4,
 "nbformat_minor": 0
}
