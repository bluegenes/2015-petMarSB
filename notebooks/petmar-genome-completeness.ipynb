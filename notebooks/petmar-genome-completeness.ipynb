{
 "cells": [
  {
   "cell_type": "markdown",
   "metadata": {},
   "source": [
    "# Lamprey Transcriptome Analysis: Genome Completeness Assessment"
   ]
  },
  {
   "cell_type": "markdown",
   "metadata": {},
   "source": [
    "```\n",
    "Camille Scott [camille dot scott dot w @gmail.com] [@camille_codon]\n",
    "\n",
    "camillescott.github.io\n",
    "\n",
    "Lab for Data Intensive Biology (DIB)\n",
    "University of California Davis\n",
    "```"
   ]
  },
  {
   "cell_type": "markdown",
   "metadata": {},
   "source": [
    "## About"
   ]
  },
  {
   "cell_type": "markdown",
   "metadata": {},
   "source": [
    "Uses the many-sample de novo transcriptome assembly to attempt to assess the completeness of the genome build (and orthogonally, the completeness of the transcriptome itself)."
   ]
  },
  {
   "cell_type": "markdown",
   "metadata": {},
   "source": [
    "    assembly version: lamp10\n",
    "\n",
    "    assembly program: Trinity\n",
    "    \n",
    "    genome build: 7.0.75 (ensembl release 75"
   ]
  },
  {
   "cell_type": "markdown",
   "metadata": {},
   "source": [
    "## Libraries"
   ]
  },
  {
   "cell_type": "code",
   "execution_count": 3,
   "metadata": {
    "collapsed": false
   },
   "outputs": [
    {
     "data": {
      "application/javascript": [
       "IPython.notebook.set_autosave_interval(60000)"
      ]
     },
     "metadata": {},
     "output_type": "display_data"
    },
    {
     "name": "stdout",
     "output_type": "stream",
     "text": [
      "Autosaving every 60 seconds\n"
     ]
    }
   ],
   "source": [
    "%load_ext autoreload\n",
    "%autoreload 2\n",
    "%autosave 60"
   ]
  },
  {
   "cell_type": "code",
   "execution_count": 4,
   "metadata": {
    "collapsed": false
   },
   "outputs": [
    {
     "name": "stderr",
     "output_type": "stream",
     "text": [
      "** Using data resources found in ../resources.json\n",
      "** Using config found in ../config.json\n"
     ]
    }
   ],
   "source": [
    "from libs import *\n",
    "%run -i common.ipy"
   ]
  },
  {
   "cell_type": "code",
   "execution_count": 5,
   "metadata": {
    "collapsed": true
   },
   "outputs": [],
   "source": [
    "import pyprind"
   ]
  },
  {
   "cell_type": "code",
   "execution_count": 6,
   "metadata": {
    "collapsed": true
   },
   "outputs": [],
   "source": [
    "from blasttools import blast_to_df"
   ]
  },
  {
   "cell_type": "code",
   "execution_count": 7,
   "metadata": {
    "collapsed": true
   },
   "outputs": [],
   "source": [
    "from IPython.display import display, Image\n",
    "import glob"
   ]
  },
  {
   "cell_type": "code",
   "execution_count": 8,
   "metadata": {
    "collapsed": false
   },
   "outputs": [
    {
     "name": "stdout",
     "output_type": "stream",
     "text": [
      "Populating the interactive namespace from numpy and matplotlib\n"
     ]
    }
   ],
   "source": [
    "%pylab inline\n",
    "from matplotlib import rc_context\n",
    "tall_size = (8,16)\n",
    "norm_size = (12,8)\n",
    "mpl_params = {'figure.autolayout': True,\n",
    "               'axes.titlesize': 24,\n",
    "               'axes.labelsize': 16,\n",
    "               'ytick.labelsize': 14,\n",
    "               'xtick.labelsize': 14\n",
    "               }\n",
    "sns.set(style=\"white\", palette=\"Paired\", rc=mpl_params)\n",
    "#sns.set_palette(\"Paired\", desat=.6)\n",
    "b, g, r, p = sns.color_palette(\"muted\", 4)"
   ]
  },
  {
   "cell_type": "code",
   "execution_count": 9,
   "metadata": {
    "collapsed": false
   },
   "outputs": [],
   "source": [
    "from ete3 import NCBITaxa"
   ]
  },
  {
   "cell_type": "code",
   "execution_count": 10,
   "metadata": {
    "collapsed": true
   },
   "outputs": [],
   "source": [
    "%config InlineBackend.close_figures = False"
   ]
  },
  {
   "cell_type": "markdown",
   "metadata": {},
   "source": [
    "## Data"
   ]
  },
  {
   "cell_type": "markdown",
   "metadata": {},
   "source": [
    "We'll save our results to a dictionary and dump it to JSON for use in the paper."
   ]
  },
  {
   "cell_type": "code",
   "execution_count": 11,
   "metadata": {
    "collapsed": true
   },
   "outputs": [],
   "source": [
    "results = {}"
   ]
  },
  {
   "cell_type": "code",
   "execution_count": 12,
   "metadata": {
    "collapsed": true
   },
   "outputs": [],
   "source": [
    "store = pd.HDFStore(wdir('{}.store.h5'.format(prefix)), complib='zlib', complevel=5)"
   ]
  },
  {
   "cell_type": "code",
   "execution_count": 13,
   "metadata": {
    "collapsed": true
   },
   "outputs": [],
   "source": [
    "import atexit"
   ]
  },
  {
   "cell_type": "code",
   "execution_count": 14,
   "metadata": {
    "collapsed": true
   },
   "outputs": [],
   "source": [
    "def dump_results(fn='../doc/petmar-genome-comp.results.json'):\n",
    "    with open(fn, 'wb') as fp:\n",
    "        json.dump(results, fp)"
   ]
  },
  {
   "cell_type": "code",
   "execution_count": 15,
   "metadata": {
    "collapsed": false
   },
   "outputs": [
    {
     "data": {
      "text/plain": [
       "<function __main__.exit_func>"
      ]
     },
     "execution_count": 15,
     "metadata": {},
     "output_type": "execute_result"
    }
   ],
   "source": [
    "def exit_func():\n",
    "    dump_results()\n",
    "    store.close()\n",
    "atexit.register(exit_func)"
   ]
  },
  {
   "cell_type": "markdown",
   "metadata": {},
   "source": [
    "## Orthologs"
   ]
  },
  {
   "cell_type": "markdown",
   "metadata": {},
   "source": [
    "How many transcripts have orthologs in other organisms, but no lamprey support? And vice versa?"
   ]
  },
  {
   "cell_type": "code",
   "execution_count": 16,
   "metadata": {
    "collapsed": false
   },
   "outputs": [],
   "source": [
    "ortho_panel = store['lamp10_ortho']"
   ]
  },
  {
   "cell_type": "code",
   "execution_count": 17,
   "metadata": {
    "collapsed": false
   },
   "outputs": [],
   "source": [
    "ortho_df = store['lamp10_ortho_filter_df']"
   ]
  },
  {
   "cell_type": "code",
   "execution_count": 18,
   "metadata": {
    "collapsed": false
   },
   "outputs": [],
   "source": [
    "blast_df = store['lamp10_blast_filter_df']"
   ]
  },
  {
   "cell_type": "code",
   "execution_count": 19,
   "metadata": {
    "collapsed": false
   },
   "outputs": [],
   "source": [
    "# Transcripts with recipricol best thits to our main databases\n",
    "has_ortho = ((ortho_df['lamp10.fasta.x.braFlo.pep.all.fa.db.tsv'] == True) | \n",
    "             (ortho_df['lamp10.fasta.x.danRer.pep.fa.db.tsv'] == True) |\n",
    "             (ortho_df['lamp10.fasta.x.homSap.pep.fa.db.tsv'] == True) |\n",
    "             (ortho_df['lamp10.fasta.x.musMus.pep.fa.db.tsv'] == True))"
   ]
  },
  {
   "cell_type": "code",
   "execution_count": 20,
   "metadata": {
    "collapsed": false
   },
   "outputs": [],
   "source": [
    "# We want to filter out transcripts with *any* homologies to the genome,\n",
    "# the lamprey proteins, and the lamprey cDNAs (lamp0)\n",
    "lamp_filter = ((blast_df['lamp10.fasta.x.petMar2.fa.db.tsv'] == False) & \n",
    "               (blast_df['lamp10.fasta.x.petMar2.pep.fa.db.tsv'] == False) &\n",
    "               (blast_df['lamp10.fasta.x.petMar2.cdna.fa.db.tsv'] == False))"
   ]
  },
  {
   "cell_type": "code",
   "execution_count": 21,
   "metadata": {
    "collapsed": false
   },
   "outputs": [],
   "source": [
    "ortho_df = ortho_panel.minor_xs('sseqid')"
   ]
  },
  {
   "cell_type": "code",
   "execution_count": 22,
   "metadata": {
    "collapsed": false
   },
   "outputs": [
    {
     "name": "stdout",
     "output_type": "stream",
     "text": [
      "1768 have orthologies but no lamprey support\n"
     ]
    }
   ],
   "source": [
    "n_novel = (has_ortho & lamp_filter).sum()\n",
    "results['n_novel_ortho'] = n_novel\n",
    "print n_novel, 'have orthologies but no lamprey support'"
   ]
  },
  {
   "cell_type": "code",
   "execution_count": 23,
   "metadata": {
    "collapsed": false
   },
   "outputs": [
    {
     "name": "stdout",
     "output_type": "stream",
     "text": [
      "11990 have orthologies and genome support\n"
     ]
    }
   ],
   "source": [
    "n_genome_supported = (has_ortho & (blast_df['lamp10.fasta.x.petMar2.fa.db.tsv'] == True)).sum()\n",
    "results['n_genome_supported'] = n_genome_supported\n",
    "print n_genome_supported, 'have orthologies and genome support'"
   ]
  },
  {
   "cell_type": "code",
   "execution_count": 24,
   "metadata": {
    "collapsed": false
   },
   "outputs": [
    {
     "name": "stdout",
     "output_type": "stream",
     "text": [
      "13405 have orthologies and lamprey support\n"
     ]
    }
   ],
   "source": [
    "n_supported = (has_ortho & (lamp_filter == False)).sum()\n",
    "results['n_supported_ortho'] = n_supported\n",
    "print n_supported, 'have orthologies and lamprey support'"
   ]
  },
  {
   "cell_type": "code",
   "execution_count": 25,
   "metadata": {
    "collapsed": false
   },
   "outputs": [
    {
     "name": "stdout",
     "output_type": "stream",
     "text": [
      "This means 11.65% of orthologs are potentially novel\n"
     ]
    }
   ],
   "source": [
    "print 'This means {:.2f}% of orthologs are potentially novel'.format((float(n_novel) / (n_novel + n_supported)) * 100.0)"
   ]
  },
  {
   "cell_type": "markdown",
   "metadata": {},
   "source": [
    "### Corresponding Genes"
   ]
  },
  {
   "cell_type": "code",
   "execution_count": 52,
   "metadata": {
    "collapsed": true
   },
   "outputs": [],
   "source": [
    "GNATHOSTOMATA = 7776\n",
    "CYCLOSTOMATA = 1476529\n",
    "CEPHALOCHORDATA = 7735 \n",
    "PETMAR = 7757\n",
    "BRAFLO = 7739\n",
    "MUSMUS = 10090\n",
    "HOMSAP = 9606\n",
    "DANRER = 7955\n",
    "MYXINIDAE = 7762"
   ]
  },
  {
   "cell_type": "code",
   "execution_count": 30,
   "metadata": {
    "collapsed": true
   },
   "outputs": [],
   "source": [
    "mg = mygene.MyGeneInfo()"
   ]
  },
  {
   "cell_type": "markdown",
   "metadata": {},
   "source": [
    "Fix the uniprot names for querying"
   ]
  },
  {
   "cell_type": "code",
   "execution_count": 32,
   "metadata": {
    "collapsed": false
   },
   "outputs": [],
   "source": [
    "ortho_df['lamp10.fasta.x.Myx.pep.all.fa.db.tsv'] = ortho_df['lamp10.fasta.x.Myx.pep.all.fa.db.tsv'].apply(uniprot_str)"
   ]
  },
  {
   "cell_type": "code",
   "execution_count": 33,
   "metadata": {
    "collapsed": false
   },
   "outputs": [],
   "source": [
    "ortho_df['lamp10.fasta.x.braFlo.pep.all.fa.db.tsv'] = ortho_df['lamp10.fasta.x.braFlo.pep.all.fa.db.tsv'].apply(uniprot_str)"
   ]
  },
  {
   "cell_type": "markdown",
   "metadata": {},
   "source": [
    "Make a DataFrame of just the potentially novel transcripts' orthology names"
   ]
  },
  {
   "cell_type": "code",
   "execution_count": 34,
   "metadata": {
    "collapsed": false
   },
   "outputs": [],
   "source": [
    "novel_df = ortho_df[has_ortho & lamp_filter]"
   ]
  },
  {
   "cell_type": "code",
   "execution_count": 138,
   "metadata": {
    "collapsed": false
   },
   "outputs": [],
   "source": [
    "def classify_orthology(df):\n",
    "    '''\n",
    "    Given a DataFrame containing the names of transcript orthologies (either uniprot or ensembl identifiers),\n",
    "    determine whether each orthology corresponds to a gene in the cyclostomata, cephalochordata, or \n",
    "    gnathostomata lineages. Returns a list of tuples of booleans with the results, of the form:\n",
    "    \n",
    "    [(in cephalochordata, in gnathostomata, in cyclostomata),\n",
    "     (...),\n",
    "     ...]\n",
    "     \n",
    "     WARNING: This uses the mygene API and makes many complex queries; accordingly, it's slow as hell\n",
    "    '''\n",
    "    species=','.join(str(s) for s in [BRAFLO, MUSMUS, HOMSAP, DANRER, MYXINIDAE])\n",
    "    classifications = []\n",
    "    for n, (tr_id, row) in enumerate(df.iterrows()):\n",
    "        if n % 1000 == 0:\n",
    "            print 'Classified {n}...'.format(n=n)\n",
    "        queries = [q for q in list(row) if type(q) is str]\n",
    "        results = mg.querymany(queries, scopes='uniprot,ensemblprotein,ensembltranscript', \n",
    "                               species=species, as_dataframe=True, verbose=False)\n",
    "        try:\n",
    "            # remove failed queries, if there are any\n",
    "            results = results[results['notfound'] != True]\n",
    "        except KeyError:\n",
    "            pass\n",
    "        \n",
    "        def check_results(res_list):\n",
    "            for res in res_list:\n",
    "                if 'notfound' not in res:\n",
    "                    return True\n",
    "            return False\n",
    "        \n",
    "        # Check if any are in the cephalochorate lineage\n",
    "        try:\n",
    "            ceph_results = mg.querymany(list(results.symbol), scopes='symbol', fields='taxid', \n",
    "                                    species=CEPHALOCHORDATA, include_tax_tree=True, verbose=False)\n",
    "            ceph = check_results(ceph_results)\n",
    "        except AttributeError:\n",
    "            ceph = False\n",
    "        \n",
    "        # Check cyclostomata lineage\n",
    "        try:\n",
    "            cycl_results = mg.querymany(list(results.symbol), scopes='symbol', fields='taxid', \n",
    "                                    species=CYCLOSTOMATA, include_tax_tree=True, verbose=False)\n",
    "            cycl = check_results(cycl_results)\n",
    "        except AttributeError:\n",
    "            cycl = False\n",
    "        \n",
    "        # Check gnathostomata lineage\n",
    "        try:\n",
    "            gnat_results = mg.querymany(list(results.symbol), scopes='symbol', fields='taxid', \n",
    "                                    species=GNATHOSTOMATA, include_tax_tree=True, verbose=False)\n",
    "            gnat= check_results(gnat_results)\n",
    "        except AttributeError:\n",
    "            gnat = False\n",
    "        \n",
    "        classifications.append((ceph, gnat, cycl))\n",
    "    return classifications"
   ]
  },
  {
   "cell_type": "code",
   "execution_count": 130,
   "metadata": {
    "collapsed": false
   },
   "outputs": [
    {
     "name": "stdout",
     "output_type": "stream",
     "text": [
      "Classified 0...\n",
      "Classified 1000...\n"
     ]
    }
   ],
   "source": [
    "ortho_classes = classify_orthology(novel_df)"
   ]
  },
  {
   "cell_type": "code",
   "execution_count": 136,
   "metadata": {
    "collapsed": false
   },
   "outputs": [],
   "source": [
    "class_df = pd.DataFrame(ortho_classes, columns=['cephalochordata', 'gnathostomata', 'cyclostomata'],\n",
    "                        index=novel_df.index)"
   ]
  },
  {
   "cell_type": "code",
   "execution_count": 139,
   "metadata": {
    "collapsed": false
   },
   "outputs": [
    {
     "data": {
      "text/html": [
       "<div>\n",
       "<table border=\"1\" class=\"dataframe\">\n",
       "  <thead>\n",
       "    <tr style=\"text-align: right;\">\n",
       "      <th></th>\n",
       "      <th>cephalochordata</th>\n",
       "      <th>gnathostomata</th>\n",
       "      <th>cyclostomata</th>\n",
       "    </tr>\n",
       "    <tr>\n",
       "      <th>target_id</th>\n",
       "      <th></th>\n",
       "      <th></th>\n",
       "      <th></th>\n",
       "    </tr>\n",
       "  </thead>\n",
       "  <tbody>\n",
       "    <tr>\n",
       "      <th>c366614_g4_i7</th>\n",
       "      <td>True</td>\n",
       "      <td>False</td>\n",
       "      <td>False</td>\n",
       "    </tr>\n",
       "    <tr>\n",
       "      <th>c329845_g1_i1</th>\n",
       "      <td>False</td>\n",
       "      <td>True</td>\n",
       "      <td>False</td>\n",
       "    </tr>\n",
       "    <tr>\n",
       "      <th>c363162_g3_i1</th>\n",
       "      <td>True</td>\n",
       "      <td>True</td>\n",
       "      <td>False</td>\n",
       "    </tr>\n",
       "    <tr>\n",
       "      <th>c351306_g1_i1</th>\n",
       "      <td>False</td>\n",
       "      <td>True</td>\n",
       "      <td>False</td>\n",
       "    </tr>\n",
       "    <tr>\n",
       "      <th>c351306_g1_i2</th>\n",
       "      <td>True</td>\n",
       "      <td>True</td>\n",
       "      <td>False</td>\n",
       "    </tr>\n",
       "  </tbody>\n",
       "</table>\n",
       "</div>"
      ],
      "text/plain": [
       "              cephalochordata gnathostomata cyclostomata\n",
       "target_id                                               \n",
       "c366614_g4_i7            True         False        False\n",
       "c329845_g1_i1           False          True        False\n",
       "c363162_g3_i1            True          True        False\n",
       "c351306_g1_i1           False          True        False\n",
       "c351306_g1_i2            True          True        False"
      ]
     },
     "execution_count": 139,
     "metadata": {},
     "output_type": "execute_result"
    }
   ],
   "source": [
    "class_df.head()"
   ]
  },
  {
   "cell_type": "code",
   "execution_count": 144,
   "metadata": {
    "collapsed": false
   },
   "outputs": [],
   "source": [
    "class_df = pd.merge(novel_df, class_df, left_index=True, right_index=True)\n",
    "del class_df['lamp10.fasta.x.petMar2.pep.fa.db.tsv']\n",
    "del class_df['lamp10.fasta.x.petMar2.ncrna.fa.db.tsv']\n",
    "del class_df['lamp10.fasta.x.petMar2.cds.fa.db.tsv']\n",
    "del class_df['lamp10.fasta.x.petMar2.cdna.fa.db.tsv']\n",
    "del class_df['lamp10.fasta.x.petMar2.fa.db.tsv']"
   ]
  },
  {
   "cell_type": "markdown",
   "metadata": {},
   "source": [
    "Orthologies specific to the gnathostomata or cyclostomata line -- they're in either gnathostomata or cyclostomata, but not in cephalochordata."
   ]
  },
  {
   "cell_type": "code",
   "execution_count": 151,
   "metadata": {
    "collapsed": false,
    "scrolled": true
   },
   "outputs": [
    {
     "data": {
      "text/plain": [
       "796"
      ]
     },
     "execution_count": 151,
     "metadata": {},
     "output_type": "execute_result"
    }
   ],
   "source": [
    "(((class_df.gnathostomata == True) | (class_df.cyclostomata == True)) & (class_df.cephalochordata == False)).sum()"
   ]
  },
  {
   "cell_type": "code",
   "execution_count": 162,
   "metadata": {
    "collapsed": false
   },
   "outputs": [
    {
     "data": {
      "text/plain": [
       "796"
      ]
     },
     "execution_count": 162,
     "metadata": {},
     "output_type": "execute_result"
    }
   ],
   "source": [
    "((class_df.gnathostomata == True) & (class_df.cephalochordata == False)).sum()"
   ]
  },
  {
   "cell_type": "markdown",
   "metadata": {},
   "source": [
    "It looks like it makes no difference whether we include cyclostomata. That is, we actually have up to 796 orthologies which are specific to jawed vertebrates but probably not a part of any existing cyclostome database. Cool! Given that, let's check what happens when we enforce both -- that is, genes which are specific to the vertebrate line."
   ]
  },
  {
   "cell_type": "code",
   "execution_count": 165,
   "metadata": {
    "collapsed": false
   },
   "outputs": [
    {
     "data": {
      "text/plain": [
       "60"
      ]
     },
     "execution_count": 165,
     "metadata": {},
     "output_type": "execute_result"
    }
   ],
   "source": [
    "((class_df.cyclostomata == True) & (class_df.gnathostomata == True) & (class_df.cephalochordata == False)).sum()"
   ]
  },
  {
   "cell_type": "markdown",
   "metadata": {},
   "source": [
    "So 60 of those orthologies have cyclostomata support -- they likely aren't in sea lamprey resources, so they must either be from hagfish or another lamprey. How about when we exclude the entire cyclostomata lineage?"
   ]
  },
  {
   "cell_type": "code",
   "execution_count": 166,
   "metadata": {
    "collapsed": false
   },
   "outputs": [
    {
     "data": {
      "text/plain": [
       "736"
      ]
     },
     "execution_count": 166,
     "metadata": {},
     "output_type": "execute_result"
    }
   ],
   "source": [
    "((class_df.cyclostomata == False) & (class_df.gnathostomata == True) & (class_df.cephalochordata == False)).sum()"
   ]
  },
  {
   "cell_type": "markdown",
   "metadata": {},
   "source": [
    "Here's what we're really trying to get at -- that's 736 orthologies which are specific to the jawed vertebrate line according to current resources, but clearly have pretty strong support in our transcriptome. Alright, what are these genes?"
   ]
  },
  {
   "cell_type": "code",
   "execution_count": 170,
   "metadata": {
    "collapsed": false
   },
   "outputs": [
    {
     "data": {
      "text/html": [
       "<div>\n",
       "<table border=\"1\" class=\"dataframe\">\n",
       "  <thead>\n",
       "    <tr style=\"text-align: right;\">\n",
       "      <th></th>\n",
       "      <th>lamp10.fasta.x.Myx.pep.all.fa.db.tsv</th>\n",
       "      <th>lamp10.fasta.x.braFlo.pep.all.fa.db.tsv</th>\n",
       "      <th>lamp10.fasta.x.danRer.pep.fa.db.tsv</th>\n",
       "      <th>lamp10.fasta.x.homSap.pep.fa.db.tsv</th>\n",
       "      <th>lamp10.fasta.x.musMus.pep.fa.db.tsv</th>\n",
       "      <th>lamp10.fasta.x.petMar2.fa.db.tsv</th>\n",
       "      <th>lamp10.fasta.x.petMar2.cdna.fa.db.tsv</th>\n",
       "      <th>lamp10.fasta.x.petMar2.cds.fa.db.tsv</th>\n",
       "      <th>lamp10.fasta.x.petMar2.ncrna.fa.db.tsv</th>\n",
       "      <th>lamp10.fasta.x.petMar2.pep.fa.db.tsv</th>\n",
       "    </tr>\n",
       "    <tr>\n",
       "      <th>target_id</th>\n",
       "      <th></th>\n",
       "      <th></th>\n",
       "      <th></th>\n",
       "      <th></th>\n",
       "      <th></th>\n",
       "      <th></th>\n",
       "      <th></th>\n",
       "      <th></th>\n",
       "      <th></th>\n",
       "      <th></th>\n",
       "    </tr>\n",
       "  </thead>\n",
       "  <tbody>\n",
       "    <tr>\n",
       "      <th>c329845_g1_i1</th>\n",
       "      <td>NaN</td>\n",
       "      <td>NaN</td>\n",
       "      <td>ENSDARP00000105046</td>\n",
       "      <td>ENSP00000329735</td>\n",
       "      <td>ENSMUSP00000040433</td>\n",
       "      <td>NaN</td>\n",
       "      <td>NaN</td>\n",
       "      <td>NaN</td>\n",
       "      <td>NaN</td>\n",
       "      <td>NaN</td>\n",
       "    </tr>\n",
       "    <tr>\n",
       "      <th>c351306_g1_i1</th>\n",
       "      <td>NaN</td>\n",
       "      <td>NaN</td>\n",
       "      <td>NaN</td>\n",
       "      <td>NaN</td>\n",
       "      <td>ENSMUSP00000136481</td>\n",
       "      <td>NaN</td>\n",
       "      <td>NaN</td>\n",
       "      <td>NaN</td>\n",
       "      <td>NaN</td>\n",
       "      <td>NaN</td>\n",
       "    </tr>\n",
       "    <tr>\n",
       "      <th>c292244_g1_i1</th>\n",
       "      <td>NaN</td>\n",
       "      <td>NaN</td>\n",
       "      <td>ENSDARP00000018388</td>\n",
       "      <td>NaN</td>\n",
       "      <td>NaN</td>\n",
       "      <td>NaN</td>\n",
       "      <td>NaN</td>\n",
       "      <td>NaN</td>\n",
       "      <td>NaN</td>\n",
       "      <td>NaN</td>\n",
       "    </tr>\n",
       "    <tr>\n",
       "      <th>c360287_g1_i1</th>\n",
       "      <td>NaN</td>\n",
       "      <td>NaN</td>\n",
       "      <td>ENSDARP00000009179</td>\n",
       "      <td>ENSP00000256997</td>\n",
       "      <td>ENSMUSP00000108209</td>\n",
       "      <td>NaN</td>\n",
       "      <td>NaN</td>\n",
       "      <td>NaN</td>\n",
       "      <td>NaN</td>\n",
       "      <td>NaN</td>\n",
       "    </tr>\n",
       "    <tr>\n",
       "      <th>c265851_g1_i1</th>\n",
       "      <td>NaN</td>\n",
       "      <td>NaN</td>\n",
       "      <td>NaN</td>\n",
       "      <td>ENSP00000443978</td>\n",
       "      <td>NaN</td>\n",
       "      <td>NaN</td>\n",
       "      <td>NaN</td>\n",
       "      <td>NaN</td>\n",
       "      <td>NaN</td>\n",
       "      <td>NaN</td>\n",
       "    </tr>\n",
       "  </tbody>\n",
       "</table>\n",
       "</div>"
      ],
      "text/plain": [
       "              lamp10.fasta.x.Myx.pep.all.fa.db.tsv  \\\n",
       "target_id                                            \n",
       "c329845_g1_i1                                  NaN   \n",
       "c351306_g1_i1                                  NaN   \n",
       "c292244_g1_i1                                  NaN   \n",
       "c360287_g1_i1                                  NaN   \n",
       "c265851_g1_i1                                  NaN   \n",
       "\n",
       "              lamp10.fasta.x.braFlo.pep.all.fa.db.tsv  \\\n",
       "target_id                                               \n",
       "c329845_g1_i1                                     NaN   \n",
       "c351306_g1_i1                                     NaN   \n",
       "c292244_g1_i1                                     NaN   \n",
       "c360287_g1_i1                                     NaN   \n",
       "c265851_g1_i1                                     NaN   \n",
       "\n",
       "              lamp10.fasta.x.danRer.pep.fa.db.tsv  \\\n",
       "target_id                                           \n",
       "c329845_g1_i1                  ENSDARP00000105046   \n",
       "c351306_g1_i1                                 NaN   \n",
       "c292244_g1_i1                  ENSDARP00000018388   \n",
       "c360287_g1_i1                  ENSDARP00000009179   \n",
       "c265851_g1_i1                                 NaN   \n",
       "\n",
       "              lamp10.fasta.x.homSap.pep.fa.db.tsv  \\\n",
       "target_id                                           \n",
       "c329845_g1_i1                     ENSP00000329735   \n",
       "c351306_g1_i1                                 NaN   \n",
       "c292244_g1_i1                                 NaN   \n",
       "c360287_g1_i1                     ENSP00000256997   \n",
       "c265851_g1_i1                     ENSP00000443978   \n",
       "\n",
       "              lamp10.fasta.x.musMus.pep.fa.db.tsv  \\\n",
       "target_id                                           \n",
       "c329845_g1_i1                  ENSMUSP00000040433   \n",
       "c351306_g1_i1                  ENSMUSP00000136481   \n",
       "c292244_g1_i1                                 NaN   \n",
       "c360287_g1_i1                  ENSMUSP00000108209   \n",
       "c265851_g1_i1                                 NaN   \n",
       "\n",
       "              lamp10.fasta.x.petMar2.fa.db.tsv  \\\n",
       "target_id                                        \n",
       "c329845_g1_i1                              NaN   \n",
       "c351306_g1_i1                              NaN   \n",
       "c292244_g1_i1                              NaN   \n",
       "c360287_g1_i1                              NaN   \n",
       "c265851_g1_i1                              NaN   \n",
       "\n",
       "              lamp10.fasta.x.petMar2.cdna.fa.db.tsv  \\\n",
       "target_id                                             \n",
       "c329845_g1_i1                                   NaN   \n",
       "c351306_g1_i1                                   NaN   \n",
       "c292244_g1_i1                                   NaN   \n",
       "c360287_g1_i1                                   NaN   \n",
       "c265851_g1_i1                                   NaN   \n",
       "\n",
       "              lamp10.fasta.x.petMar2.cds.fa.db.tsv  \\\n",
       "target_id                                            \n",
       "c329845_g1_i1                                  NaN   \n",
       "c351306_g1_i1                                  NaN   \n",
       "c292244_g1_i1                                  NaN   \n",
       "c360287_g1_i1                                  NaN   \n",
       "c265851_g1_i1                                  NaN   \n",
       "\n",
       "              lamp10.fasta.x.petMar2.ncrna.fa.db.tsv  \\\n",
       "target_id                                              \n",
       "c329845_g1_i1                                    NaN   \n",
       "c351306_g1_i1                                    NaN   \n",
       "c292244_g1_i1                                    NaN   \n",
       "c360287_g1_i1                                    NaN   \n",
       "c265851_g1_i1                                    NaN   \n",
       "\n",
       "              lamp10.fasta.x.petMar2.pep.fa.db.tsv  \n",
       "target_id                                           \n",
       "c329845_g1_i1                                  NaN  \n",
       "c351306_g1_i1                                  NaN  \n",
       "c292244_g1_i1                                  NaN  \n",
       "c360287_g1_i1                                  NaN  \n",
       "c265851_g1_i1                                  NaN  "
      ]
     },
     "execution_count": 170,
     "metadata": {},
     "output_type": "execute_result"
    }
   ],
   "source": [
    "novel_df[((class_df.cyclostomata == False) & (class_df.gnathostomata == True) & (class_df.cephalochordata == False))].head()"
   ]
  },
  {
   "cell_type": "code",
   "execution_count": 190,
   "metadata": {
    "collapsed": true
   },
   "outputs": [],
   "source": [
    "def get_symbols(df):\n",
    "    species=','.join(str(s) for s in [BRAFLO, MUSMUS, HOMSAP, DANRER, MYXINIDAE])\n",
    "    queries = [q for q in set(df.values.flatten()) if type(q) is str]\n",
    "    results = mg.querymany(queries, scopes='uniprot,ensemblprotein,ensembltranscript', \n",
    "                               species=species, as_dataframe=True, verbose=False)\n",
    "    symbols = set([r.upper() for r in results.symbol if type(r) in [str,unicode]])\n",
    "    return symbols"
   ]
  },
  {
   "cell_type": "code",
   "execution_count": 191,
   "metadata": {
    "collapsed": false
   },
   "outputs": [],
   "source": [
    "jvert_specific = get_symbols(novel_df[((class_df.cyclostomata == False) & (class_df.gnathostomata == True) & \n",
    "                                       (class_df.cephalochordata == False))])"
   ]
  },
  {
   "cell_type": "code",
   "execution_count": 193,
   "metadata": {
    "collapsed": false
   },
   "outputs": [
    {
     "data": {
      "text/plain": [
       "780"
      ]
     },
     "execution_count": 193,
     "metadata": {},
     "output_type": "execute_result"
    }
   ],
   "source": [
    "len(jvert_specific)"
   ]
  },
  {
   "cell_type": "code",
   "execution_count": 197,
   "metadata": {
    "collapsed": false
   },
   "outputs": [
    {
     "data": {
      "text/plain": [
       "103"
      ]
     },
     "execution_count": 197,
     "metadata": {},
     "output_type": "execute_result"
    }
   ],
   "source": [
    "(class_df.sum(axis=1) == 0).sum()"
   ]
  },
  {
   "cell_type": "markdown",
   "metadata": {
    "collapsed": true
   },
   "source": [
    "## Germline DNA Samples"
   ]
  },
  {
   "cell_type": "markdown",
   "metadata": {},
   "source": [
    "We've got some nice shiny new sperm DNA samples - let's play with them some. First things first, we'll check out their FastQC results to make sure they're not crap."
   ]
  },
  {
   "cell_type": "code",
   "execution_count": 30,
   "metadata": {
    "collapsed": false
   },
   "outputs": [],
   "source": [
    "fastqc_folders = sorted(glob.glob('*fastqc'))"
   ]
  },
  {
   "cell_type": "code",
   "execution_count": 31,
   "metadata": {
    "collapsed": false
   },
   "outputs": [
    {
     "name": "stdout",
     "output_type": "stream",
     "text": [
      "duplication_levels.png\t per_base_sequence_content.png\r\n",
      "kmer_profiles.png\t per_sequence_gc_content.png\r\n",
      "per_base_gc_content.png  per_sequence_quality.png\r\n",
      "per_base_n_content.png\t sequence_length_distribution.png\r\n",
      "per_base_quality.png\r\n"
     ]
    }
   ],
   "source": [
    "!ls 2_ATCACG_L001_R1_001_fastqc/Images"
   ]
  },
  {
   "cell_type": "code",
   "execution_count": 32,
   "metadata": {
    "collapsed": false,
    "scrolled": false
   },
   "outputs": [],
   "source": [
    "# quick utility function to generate a table of images\n",
    "def get_img_table(folders, image):\n",
    "    htmlout = '<table>'\n",
    "    for i in xrange(0, len(folders), 2):\n",
    "        left = fastqc_folders[i]\n",
    "        right = fastqc_folders[i+1]\n",
    "        htmlout += '<tr>'\n",
    "        htmlout += '<td align=\"center\">' + left + ', LEFT</td>'\n",
    "        htmlout += '<td align=\"center\">' + right + ', RIGHT</td>'\n",
    "        htmlout += '</td>'\n",
    "        \n",
    "        htmlout += '<tr>'\n",
    "        htmlout += '<td><img src=\"' + os.path.join(left, 'Images', image) + '\"/></td>'\n",
    "        htmlout += '<td><img src=\"' + os.path.join(right, 'Images', image) + '\"/></td>'\n",
    "        htmlout += '</tr>'\n",
    "    htmlout += '</table>'\n",
    "    return htmlout"
   ]
  },
  {
   "cell_type": "markdown",
   "metadata": {},
   "source": [
    "#### Per-Base Sequence Quality\n",
    "\n",
    "These look pretty normal -- in fact, the right fragments are a little better than I might expect for many runs."
   ]
  },
  {
   "cell_type": "code",
   "execution_count": 33,
   "metadata": {
    "collapsed": false
   },
   "outputs": [
    {
     "data": {
      "text/html": [
       "<table><tr><td align=\"center\">2_ATCACG_L001_R1_001_fastqc, LEFT</td><td align=\"center\">2_ATCACG_L001_R2_001_fastqc, RIGHT</td></td><tr><td><img src=\"2_ATCACG_L001_R1_001_fastqc/Images/per_base_quality.png\"/></td><td><img src=\"2_ATCACG_L001_R2_001_fastqc/Images/per_base_quality.png\"/></td></tr><tr><td align=\"center\">2_TGACCA_L001_R1_001_fastqc, LEFT</td><td align=\"center\">2_TGACCA_L001_R2_001_fastqc, RIGHT</td></td><tr><td><img src=\"2_TGACCA_L001_R1_001_fastqc/Images/per_base_quality.png\"/></td><td><img src=\"2_TGACCA_L001_R2_001_fastqc/Images/per_base_quality.png\"/></td></tr><tr><td align=\"center\">4_CCGTCC_L001_R1_001_fastqc, LEFT</td><td align=\"center\">4_CCGTCC_L001_R2_001_fastqc, RIGHT</td></td><tr><td><img src=\"4_CCGTCC_L001_R1_001_fastqc/Images/per_base_quality.png\"/></td><td><img src=\"4_CCGTCC_L001_R2_001_fastqc/Images/per_base_quality.png\"/></td></tr><tr><td align=\"center\">4_GATCAG_L001_R1_001_fastqc, LEFT</td><td align=\"center\">4_GATCAG_L001_R2_001_fastqc, RIGHT</td></td><tr><td><img src=\"4_GATCAG_L001_R1_001_fastqc/Images/per_base_quality.png\"/></td><td><img src=\"4_GATCAG_L001_R2_001_fastqc/Images/per_base_quality.png\"/></td></tr></table>"
      ],
      "text/plain": [
       "<IPython.core.display.HTML object>"
      ]
     },
     "metadata": {},
     "output_type": "display_data"
    }
   ],
   "source": [
    "display(HTML(get_img_table(fastqc_folders, 'per_base_quality.png')))"
   ]
  },
  {
   "cell_type": "markdown",
   "metadata": {},
   "source": [
    "#### GC Content"
   ]
  },
  {
   "cell_type": "markdown",
   "metadata": {
    "collapsed": true
   },
   "source": [
    "For the most part, these results line up with what we expect from the lamprey genome paper: ~46% GC content for the whole genome (FastQC throws a warning for this check, but we can safely ignore it based on our prior knowledge). Curiously, in the genome paper, they report that coding regions had a GC content of ~61%, but we don't really see a bump in the distribution there -- instead, we see a bump at ~84% in all samples. There isn't anything unexpected in the per-*base* figures, so we can at least assume there isn't a technical artifact common to all reads."
   ]
  },
  {
   "cell_type": "code",
   "execution_count": 34,
   "metadata": {
    "collapsed": false
   },
   "outputs": [
    {
     "data": {
      "text/html": [
       "<table><tr><td align=\"center\">2_ATCACG_L001_R1_001_fastqc, LEFT</td><td align=\"center\">2_ATCACG_L001_R2_001_fastqc, RIGHT</td></td><tr><td><img src=\"2_ATCACG_L001_R1_001_fastqc/Images/per_sequence_gc_content.png\"/></td><td><img src=\"2_ATCACG_L001_R2_001_fastqc/Images/per_sequence_gc_content.png\"/></td></tr><tr><td align=\"center\">2_TGACCA_L001_R1_001_fastqc, LEFT</td><td align=\"center\">2_TGACCA_L001_R2_001_fastqc, RIGHT</td></td><tr><td><img src=\"2_TGACCA_L001_R1_001_fastqc/Images/per_sequence_gc_content.png\"/></td><td><img src=\"2_TGACCA_L001_R2_001_fastqc/Images/per_sequence_gc_content.png\"/></td></tr><tr><td align=\"center\">4_CCGTCC_L001_R1_001_fastqc, LEFT</td><td align=\"center\">4_CCGTCC_L001_R2_001_fastqc, RIGHT</td></td><tr><td><img src=\"4_CCGTCC_L001_R1_001_fastqc/Images/per_sequence_gc_content.png\"/></td><td><img src=\"4_CCGTCC_L001_R2_001_fastqc/Images/per_sequence_gc_content.png\"/></td></tr><tr><td align=\"center\">4_GATCAG_L001_R1_001_fastqc, LEFT</td><td align=\"center\">4_GATCAG_L001_R2_001_fastqc, RIGHT</td></td><tr><td><img src=\"4_GATCAG_L001_R1_001_fastqc/Images/per_sequence_gc_content.png\"/></td><td><img src=\"4_GATCAG_L001_R2_001_fastqc/Images/per_sequence_gc_content.png\"/></td></tr></table>"
      ],
      "text/plain": [
       "<IPython.core.display.HTML object>"
      ]
     },
     "metadata": {},
     "output_type": "display_data"
    }
   ],
   "source": [
    "display(HTML(get_img_table(fastqc_folders, 'per_sequence_gc_content.png')))"
   ]
  },
  {
   "cell_type": "code",
   "execution_count": 35,
   "metadata": {
    "collapsed": false
   },
   "outputs": [
    {
     "data": {
      "text/html": [
       "<table><tr><td align=\"center\">2_ATCACG_L001_R1_001_fastqc, LEFT</td><td align=\"center\">2_ATCACG_L001_R2_001_fastqc, RIGHT</td></td><tr><td><img src=\"2_ATCACG_L001_R1_001_fastqc/Images/per_base_gc_content.png\"/></td><td><img src=\"2_ATCACG_L001_R2_001_fastqc/Images/per_base_gc_content.png\"/></td></tr><tr><td align=\"center\">2_TGACCA_L001_R1_001_fastqc, LEFT</td><td align=\"center\">2_TGACCA_L001_R2_001_fastqc, RIGHT</td></td><tr><td><img src=\"2_TGACCA_L001_R1_001_fastqc/Images/per_base_gc_content.png\"/></td><td><img src=\"2_TGACCA_L001_R2_001_fastqc/Images/per_base_gc_content.png\"/></td></tr><tr><td align=\"center\">4_CCGTCC_L001_R1_001_fastqc, LEFT</td><td align=\"center\">4_CCGTCC_L001_R2_001_fastqc, RIGHT</td></td><tr><td><img src=\"4_CCGTCC_L001_R1_001_fastqc/Images/per_base_gc_content.png\"/></td><td><img src=\"4_CCGTCC_L001_R2_001_fastqc/Images/per_base_gc_content.png\"/></td></tr><tr><td align=\"center\">4_GATCAG_L001_R1_001_fastqc, LEFT</td><td align=\"center\">4_GATCAG_L001_R2_001_fastqc, RIGHT</td></td><tr><td><img src=\"4_GATCAG_L001_R1_001_fastqc/Images/per_base_gc_content.png\"/></td><td><img src=\"4_GATCAG_L001_R2_001_fastqc/Images/per_base_gc_content.png\"/></td></tr></table>"
      ],
      "text/plain": [
       "<IPython.core.display.HTML object>"
      ]
     },
     "metadata": {},
     "output_type": "display_data"
    }
   ],
   "source": [
    "display(HTML(get_img_table(fastqc_folders, 'per_base_gc_content.png')))"
   ]
  },
  {
   "cell_type": "markdown",
   "metadata": {},
   "source": [
    "Once more, nothing all too exciting -- a bit of A bias toward the end of the righ reads, which coincides with the expected drop in quality."
   ]
  },
  {
   "cell_type": "code",
   "execution_count": 36,
   "metadata": {
    "collapsed": false
   },
   "outputs": [
    {
     "data": {
      "text/html": [
       "<table><tr><td align=\"center\">2_ATCACG_L001_R1_001_fastqc, LEFT</td><td align=\"center\">2_ATCACG_L001_R2_001_fastqc, RIGHT</td></td><tr><td><img src=\"2_ATCACG_L001_R1_001_fastqc/Images/per_base_sequence_content.png\"/></td><td><img src=\"2_ATCACG_L001_R2_001_fastqc/Images/per_base_sequence_content.png\"/></td></tr><tr><td align=\"center\">2_TGACCA_L001_R1_001_fastqc, LEFT</td><td align=\"center\">2_TGACCA_L001_R2_001_fastqc, RIGHT</td></td><tr><td><img src=\"2_TGACCA_L001_R1_001_fastqc/Images/per_base_sequence_content.png\"/></td><td><img src=\"2_TGACCA_L001_R2_001_fastqc/Images/per_base_sequence_content.png\"/></td></tr><tr><td align=\"center\">4_CCGTCC_L001_R1_001_fastqc, LEFT</td><td align=\"center\">4_CCGTCC_L001_R2_001_fastqc, RIGHT</td></td><tr><td><img src=\"4_CCGTCC_L001_R1_001_fastqc/Images/per_base_sequence_content.png\"/></td><td><img src=\"4_CCGTCC_L001_R2_001_fastqc/Images/per_base_sequence_content.png\"/></td></tr><tr><td align=\"center\">4_GATCAG_L001_R1_001_fastqc, LEFT</td><td align=\"center\">4_GATCAG_L001_R2_001_fastqc, RIGHT</td></td><tr><td><img src=\"4_GATCAG_L001_R1_001_fastqc/Images/per_base_sequence_content.png\"/></td><td><img src=\"4_GATCAG_L001_R2_001_fastqc/Images/per_base_sequence_content.png\"/></td></tr></table>"
      ],
      "text/plain": [
       "<IPython.core.display.HTML object>"
      ]
     },
     "metadata": {},
     "output_type": "display_data"
    }
   ],
   "source": [
    "display(HTML(get_img_table(fastqc_folders, 'per_base_sequence_content.png')))"
   ]
  },
  {
   "cell_type": "markdown",
   "metadata": {},
   "source": [
    "Seems a little odd that we get this slow increase in G/C homopolymers over the length of our reads. Need to investigate further."
   ]
  },
  {
   "cell_type": "code",
   "execution_count": 37,
   "metadata": {
    "collapsed": false
   },
   "outputs": [
    {
     "data": {
      "text/html": [
       "<table><tr><td align=\"center\">2_ATCACG_L001_R1_001_fastqc, LEFT</td><td align=\"center\">2_ATCACG_L001_R2_001_fastqc, RIGHT</td></td><tr><td><img src=\"2_ATCACG_L001_R1_001_fastqc/Images/kmer_profiles.png\"/></td><td><img src=\"2_ATCACG_L001_R2_001_fastqc/Images/kmer_profiles.png\"/></td></tr><tr><td align=\"center\">2_TGACCA_L001_R1_001_fastqc, LEFT</td><td align=\"center\">2_TGACCA_L001_R2_001_fastqc, RIGHT</td></td><tr><td><img src=\"2_TGACCA_L001_R1_001_fastqc/Images/kmer_profiles.png\"/></td><td><img src=\"2_TGACCA_L001_R2_001_fastqc/Images/kmer_profiles.png\"/></td></tr><tr><td align=\"center\">4_CCGTCC_L001_R1_001_fastqc, LEFT</td><td align=\"center\">4_CCGTCC_L001_R2_001_fastqc, RIGHT</td></td><tr><td><img src=\"4_CCGTCC_L001_R1_001_fastqc/Images/kmer_profiles.png\"/></td><td><img src=\"4_CCGTCC_L001_R2_001_fastqc/Images/kmer_profiles.png\"/></td></tr><tr><td align=\"center\">4_GATCAG_L001_R1_001_fastqc, LEFT</td><td align=\"center\">4_GATCAG_L001_R2_001_fastqc, RIGHT</td></td><tr><td><img src=\"4_GATCAG_L001_R1_001_fastqc/Images/kmer_profiles.png\"/></td><td><img src=\"4_GATCAG_L001_R2_001_fastqc/Images/kmer_profiles.png\"/></td></tr></table>"
      ],
      "text/plain": [
       "<IPython.core.display.HTML object>"
      ]
     },
     "metadata": {},
     "output_type": "display_data"
    }
   ],
   "source": [
    "display(HTML(get_img_table(fastqc_folders, 'kmer_profiles.png')))"
   ]
  },
  {
   "cell_type": "code",
   "execution_count": 38,
   "metadata": {
    "collapsed": false
   },
   "outputs": [
    {
     "data": {
      "text/html": [
       "<table><tr><td align=\"center\">2_ATCACG_L001_R1_001_fastqc, LEFT</td><td align=\"center\">2_ATCACG_L001_R2_001_fastqc, RIGHT</td></td><tr><td><img src=\"2_ATCACG_L001_R1_001_fastqc/Images/duplication_levels.png\"/></td><td><img src=\"2_ATCACG_L001_R2_001_fastqc/Images/duplication_levels.png\"/></td></tr><tr><td align=\"center\">2_TGACCA_L001_R1_001_fastqc, LEFT</td><td align=\"center\">2_TGACCA_L001_R2_001_fastqc, RIGHT</td></td><tr><td><img src=\"2_TGACCA_L001_R1_001_fastqc/Images/duplication_levels.png\"/></td><td><img src=\"2_TGACCA_L001_R2_001_fastqc/Images/duplication_levels.png\"/></td></tr><tr><td align=\"center\">4_CCGTCC_L001_R1_001_fastqc, LEFT</td><td align=\"center\">4_CCGTCC_L001_R2_001_fastqc, RIGHT</td></td><tr><td><img src=\"4_CCGTCC_L001_R1_001_fastqc/Images/duplication_levels.png\"/></td><td><img src=\"4_CCGTCC_L001_R2_001_fastqc/Images/duplication_levels.png\"/></td></tr><tr><td align=\"center\">4_GATCAG_L001_R1_001_fastqc, LEFT</td><td align=\"center\">4_GATCAG_L001_R2_001_fastqc, RIGHT</td></td><tr><td><img src=\"4_GATCAG_L001_R1_001_fastqc/Images/duplication_levels.png\"/></td><td><img src=\"4_GATCAG_L001_R2_001_fastqc/Images/duplication_levels.png\"/></td></tr></table>"
      ],
      "text/plain": [
       "<IPython.core.display.HTML object>"
      ]
     },
     "metadata": {},
     "output_type": "display_data"
    }
   ],
   "source": [
    "display(HTML(get_img_table(fastqc_folders, 'duplication_levels.png')))"
   ]
  },
  {
   "cell_type": "markdown",
   "metadata": {},
   "source": [
    "Summary: we should probably run a trimmer on these samples before using them. Shocker!"
   ]
  },
  {
   "cell_type": "code",
   "execution_count": null,
   "metadata": {
    "collapsed": true
   },
   "outputs": [],
   "source": []
  }
 ],
 "metadata": {
  "kernelspec": {
   "display_name": "Python 2",
   "language": "python",
   "name": "python2"
  },
  "language_info": {
   "codemirror_mode": {
    "name": "ipython",
    "version": 2
   },
   "file_extension": ".py",
   "mimetype": "text/x-python",
   "name": "python",
   "nbconvert_exporter": "python",
   "pygments_lexer": "ipython2",
   "version": "2.7.10"
  }
 },
 "nbformat": 4,
 "nbformat_minor": 0
}
