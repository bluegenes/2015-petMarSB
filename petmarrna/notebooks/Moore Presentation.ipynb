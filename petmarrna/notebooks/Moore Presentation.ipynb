{
 "cells": [
  {
   "cell_type": "markdown",
   "metadata": {
    "slideshow": {
     "slide_type": "slide"
    }
   },
   "source": [
    "# Moore Foundation Site Visit\n",
    "## Camille Scott: \"What is it I do, anyway?\"\n",
    "### 2015-09-15\n",
    "### UC Davis"
   ]
  },
  {
   "cell_type": "code",
   "execution_count": 3,
   "metadata": {
    "collapsed": true,
    "slideshow": {
     "slide_type": "skip"
    }
   },
   "outputs": [],
   "source": [
    "from IPython.display import HTML"
   ]
  },
  {
   "cell_type": "markdown",
   "metadata": {
    "slideshow": {
     "slide_type": "slide"
    }
   },
   "source": [
    "### 'Literate Bioinformatics'\n",
    "\n",
    "* Data processing logistics are crucial to understanding results in bioinformatics; they are rarely adequately reported. Pydoit!\n",
    "  - http://pydoit.org/\n",
    "  - https://github.com/dib-lab/2015-petMarSB <-- This is public!"
   ]
  },
  {
   "cell_type": "code",
   "execution_count": 2,
   "metadata": {
    "collapsed": false,
    "slideshow": {
     "slide_type": "fragment"
    }
   },
   "outputs": [],
   "source": [
    "def samtools_sort_task(bam_fn):\n",
    "    \n",
    "    cmd = 'samtools sort -n {bam_fn} {bam_fn}.sorted'.format(**locals())\n",
    "\n",
    "    name = 'samtools_sort_{bam_fn}'.format(**locals())\n",
    "\n",
    "    return {'name': name,\n",
    "            'title': title_with_actions,\n",
    "            'actions': [cmd],\n",
    "            'targets': [bam_fn + '.sorted.bam'],\n",
    "            'file_dep': [bam_fn],\n",
    "            'clean': [clean_targets] }"
   ]
  },
  {
   "cell_type": "markdown",
   "metadata": {
    "slideshow": {
     "slide_type": "slide"
    }
   },
   "source": [
    "* Purpose-built services with limited scope are more useful and useable than monolithic ones. mygene for programmatic exploration!\n",
    "    - http://mygene.info/"
   ]
  },
  {
   "cell_type": "code",
   "execution_count": 9,
   "metadata": {
    "collapsed": false,
    "scrolled": true,
    "slideshow": {
     "slide_type": "fragment"
    }
   },
   "outputs": [
    {
     "data": {
      "text/plain": [
       "{u'hits': [{u'_id': u'30341',\n",
       "   u'_score': 0.8095548,\n",
       "   u'entrezgene': 30341,\n",
       "   u'symbol': u'hoxb6a'},\n",
       "  {u'_id': u'30317',\n",
       "   u'_score': 0.7813504,\n",
       "   u'entrezgene': 30317,\n",
       "   u'symbol': u'hoxb5a'},\n",
       "  {u'_id': u'100006598',\n",
       "   u'_score': 0.63142645,\n",
       "   u'entrezgene': 100006598,\n",
       "   u'symbol': u'hoxd12a'},\n",
       "  {u'_id': u'30379',\n",
       "   u'_score': 0.63142645,\n",
       "   u'entrezgene': 30379,\n",
       "   u'symbol': u'hoxc5a'},\n",
       "  {u'_id': u'30404',\n",
       "   u'_score': 0.5724417,\n",
       "   u'entrezgene': 30404,\n",
       "   u'symbol': u'hoxd10a'}],\n",
       " u'max_score': 0.8095548,\n",
       " u'took': 5,\n",
       " u'total': 9}"
      ]
     },
     "execution_count": 9,
     "metadata": {},
     "output_type": "execute_result"
    }
   ],
   "source": [
    "import mygene\n",
    "mg = mygene.MyGeneInfo()\n",
    "\n",
    "mg.query('HOX', fields='entrezgene,symbol', species='zebrafish', size=5, verbose=False)"
   ]
  },
  {
   "cell_type": "markdown",
   "metadata": {
    "slideshow": {
     "slide_type": "slide"
    }
   },
   "source": [
    "* Looking at individual projects as iterative processes requires 1) and 2).  pweave connects the processing with the description and let's me crank the wheel faster.\n",
    "    - https://github.com/dib-lab/2015-petMarSB/blob/master/doc/2015-petMarSB.draft.texw\n",
    "    - https://github.com/dib-lab/2015-petMarSB/blob/master/doc/2015-petMarSB.draft.tex\n",
    "    - https://github.com/dib-lab/2015-petMarSB/blob/master/doc/2015-petMarSB.draft.pdf"
   ]
  },
  {
   "cell_type": "code",
   "execution_count": 38,
   "metadata": {
    "collapsed": true,
    "slideshow": {
     "slide_type": "subslide"
    }
   },
   "outputs": [],
   "source": [
    "def busco_task(input_filename, output_dir, busco_db_dir, input_type, busco_cfg):\n",
    "    \n",
    "    name = '_'.join(['busco', input_filename, os.path.basename(busco_db_dir)])\n",
    "\n",
    "    assert input_type in ['genome', 'OGS', 'trans']\n",
    "    n_threads = busco_cfg['n_threads']\n",
    "    busco_path = busco_cfg['path']\n",
    "\n",
    "    cmd = 'python3 {busco_path} -in {in_fn} -o {out_dir} -l {db_dir} '\\\n",
    "            '-m {in_type} -c {n_threads}'.format(busco_path=busco_path, \n",
    "            in_fn=input_filename, out_dir=output_dir, db_dir=busco_db_dir, \n",
    "            in_type=input_type, n_threads=n_threads)\n",
    "\n",
    "    return {'name': name,\n",
    "            'title': title_with_actions,\n",
    "            'actions': [cmd],\n",
    "            'targets': ['run_' + output_dir, \n",
    "                        os.path.join('run_' + output_dir, 'short_summary_' + output_dir.rstrip('/'))],\n",
    "            'file_dep': [input_filename],\n",
    "            'uptodate': [run_once],\n",
    "            'clean': [(clean_folder, ['run_' + output_dir])]}"
   ]
  },
  {
   "cell_type": "code",
   "execution_count": 22,
   "metadata": {
    "collapsed": false,
    "slideshow": {
     "slide_type": "subslide"
    }
   },
   "outputs": [
    {
     "data": {
      "text/plain": [
       "{'C(%)': {'0': '66', '1': '38', '2': '48', '3': '28'},\n",
       " 'D(%)': {'0': '43', '1': '23', '2': '6.4', '3': '2.0'},\n",
       " 'F(%)': {'0': '27', '1': '10', '2': '15', '3': '5.1'},\n",
       " 'M(%)': {'0': '5.9', '1': '50', '2': '36', '3': '66'},\n",
       " 'db': {'0': 'metazoa', '1': 'vertebrata', '2': 'metazoa', '3': 'vertebrata'},\n",
       " 'fn': {'0': 'lamp10.fasta',\n",
       "  '1': 'lamp10.fasta',\n",
       "  '2': 'petMar2.cdna.fa',\n",
       "  '3': 'petMar2.cdna.fa'},\n",
       " 'n': {'0': '843', '1': '3023', '2': '843', '3': '3023'}}"
      ]
     },
     "execution_count": 22,
     "metadata": {},
     "output_type": "execute_result"
    }
   ],
   "source": [
    "dat = {\"fn\":{\"0\":\"lamp10.fasta\",\"1\":\"lamp10.fasta\",\"2\":\"petMar2.cdna.fa\",\"3\":\"petMar2.cdna.fa\"},\"db\":{\"0\":\"metazoa\",\"1\":\"vertebrata\",\"2\":\"metazoa\",\"3\":\"vertebrata\"},\"C(%)\":{\"0\":\"66\",\"1\":\"38\",\"2\":\"48\",\"3\":\"28\"},\"D(%)\":{\"0\":\"43\",\"1\":\"23\",\"2\":\"6.4\",\"3\":\"2.0\"},\"F(%)\":{\"0\":\"27\",\"1\":\"10\",\"2\":\"15\",\"3\":\"5.1\"},\"M(%)\":{\"0\":\"5.9\",\"1\":\"50\",\"2\":\"36\",\"3\":\"66\"},\"n\":{\"0\":\"843\",\"1\":\"3023\",\"2\":\"843\",\"3\":\"3023\"}}\n",
    "dat"
   ]
  },
  {
   "cell_type": "code",
   "execution_count": 37,
   "metadata": {
    "collapsed": false,
    "slideshow": {
     "slide_type": "subslide"
    }
   },
   "outputs": [
    {
     "data": {
      "text/plain": [
       "u'\\\\begin{tabular}{lllllllllll}\\n\\\\toprule\\n{} & metazoa &      &      &      &      & vertebrata &      &      &      &       \\\\\\\\\\n{} &    C(\\\\%) & D(\\\\%) & F(\\\\%) & M(\\\\%) &    n &       C(\\\\%) & D(\\\\%) & F(\\\\%) & M(\\\\%) &     n \\\\\\\\\\n\\\\midrule\\nfn              &         &      &      &      &      &            &      &      &      &       \\\\\\\\\\nlamp10.fasta    &      66 &   43 &   27 &  5.9 &  843 &         38 &   23 &   10 &   50 &  3023 \\\\\\\\\\npetMar2.cdna.fa &      48 &  6.4 &   15 &   36 &  843 &         28 &  2.0 &  5.1 &   66 &  3023 \\\\\\\\\\n\\\\bottomrule\\n\\\\end{tabular}\\n'"
      ]
     },
     "execution_count": 37,
     "metadata": {},
     "output_type": "execute_result"
    }
   ],
   "source": [
    "import buscotools as bt\n",
    "import pandas as pd\n",
    "\n",
    "df = pd.DataFrame(dat)\n",
    "bt.to_latex(df)"
   ]
  },
  {
   "cell_type": "markdown",
   "metadata": {
    "slideshow": {
     "slide_type": "slide"
    }
   },
   "source": [
    "Putting it all together: we can construct complex analyses from these simple building blocks. This has been put to practice for the [lamprey transcriptome](http://nbviewer.ipython.org/github/dib-lab/2015-petMarSB/blob/master/notebooks/petmar-genome-completeness.ipynb)."
   ]
  },
  {
   "cell_type": "markdown",
   "metadata": {
    "slideshow": {
     "slide_type": "fragment"
    }
   },
   "source": [
    "![proposed craniate phylogenies](http://icb.oxfordjournals.org/content/50/1/130/F2.medium.gif)\n"
   ]
  }
 ],
 "metadata": {
  "celltoolbar": "Slideshow",
  "kernelspec": {
   "display_name": "Python 2",
   "language": "python",
   "name": "python2"
  },
  "language_info": {
   "codemirror_mode": {
    "name": "ipython",
    "version": 2
   },
   "file_extension": ".py",
   "mimetype": "text/x-python",
   "name": "python",
   "nbconvert_exporter": "python",
   "pygments_lexer": "ipython2",
   "version": "2.7.10"
  }
 },
 "nbformat": 4,
 "nbformat_minor": 0
}
