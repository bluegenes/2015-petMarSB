{
 "cells": [
  {
   "cell_type": "markdown",
   "metadata": {},
   "source": [
    "# Lamprey Transcriptome Analysis: Genome Completeness Assessment"
   ]
  },
  {
   "cell_type": "markdown",
   "metadata": {},
   "source": [
    "```\n",
    "Camille Scott [camille dot scott dot w @gmail.com] [@camille_codon]\n",
    "\n",
    "camillescott.github.io\n",
    "\n",
    "Lab for Data Intensive Biology (DIB)\n",
    "University of California Davis\n",
    "```"
   ]
  },
  {
   "cell_type": "markdown",
   "metadata": {},
   "source": [
    "## About"
   ]
  },
  {
   "cell_type": "markdown",
   "metadata": {},
   "source": [
    "Uses the many-sample de novo transcriptome assembly to attempt to assess the completeness of the genome build (and orthogonally, the completeness of the transcriptome itself)."
   ]
  },
  {
   "cell_type": "markdown",
   "metadata": {},
   "source": [
    "    assembly version: lamp10\n",
    "\n",
    "    assembly program: Trinity\n",
    "    \n",
    "    genome build: 7.0.75 (ensembl release 75"
   ]
  },
  {
   "cell_type": "markdown",
   "metadata": {},
   "source": [
    "## Libraries"
   ]
  },
  {
   "cell_type": "code",
   "execution_count": 9,
   "metadata": {
    "collapsed": false
   },
   "outputs": [
    {
     "name": "stdout",
     "output_type": "stream",
     "text": [
      "The autoreload extension is already loaded. To reload it, use:\n",
      "  %reload_ext autoreload\n"
     ]
    },
    {
     "data": {
      "application/javascript": [
       "IPython.notebook.set_autosave_interval(60000)"
      ]
     },
     "metadata": {},
     "output_type": "display_data"
    },
    {
     "name": "stdout",
     "output_type": "stream",
     "text": [
      "Autosaving every 60 seconds\n"
     ]
    }
   ],
   "source": [
    "%load_ext autoreload\n",
    "%autoreload 2\n",
    "%autosave 60"
   ]
  },
  {
   "cell_type": "code",
   "execution_count": 10,
   "metadata": {
    "collapsed": false
   },
   "outputs": [
    {
     "name": "stderr",
     "output_type": "stream",
     "text": [
      "** Using data resources found in ../resources.json\n",
      "** Using config found in ../config.json\n"
     ]
    }
   ],
   "source": [
    "from libs import *\n",
    "%run -i common.ipy"
   ]
  },
  {
   "cell_type": "code",
   "execution_count": 11,
   "metadata": {
    "collapsed": true
   },
   "outputs": [],
   "source": [
    "import pyprind"
   ]
  },
  {
   "cell_type": "code",
   "execution_count": 13,
   "metadata": {
    "collapsed": true
   },
   "outputs": [],
   "source": [
    "from blasttools import blast_to_df"
   ]
  },
  {
   "cell_type": "code",
   "execution_count": 51,
   "metadata": {
    "collapsed": true
   },
   "outputs": [],
   "source": [
    "from IPython.display import display, Image\n",
    "import glob"
   ]
  },
  {
   "cell_type": "code",
   "execution_count": 41,
   "metadata": {
    "collapsed": true
   },
   "outputs": [],
   "source": [
    "?Image"
   ]
  },
  {
   "cell_type": "code",
   "execution_count": 15,
   "metadata": {
    "collapsed": false
   },
   "outputs": [
    {
     "name": "stdout",
     "output_type": "stream",
     "text": [
      "Populating the interactive namespace from numpy and matplotlib\n"
     ]
    }
   ],
   "source": [
    "%pylab inline\n",
    "from matplotlib import rc_context\n",
    "tall_size = (8,16)\n",
    "norm_size = (12,8)\n",
    "mpl_params = {'figure.autolayout': True,\n",
    "               'axes.titlesize': 24,\n",
    "               'axes.labelsize': 16,\n",
    "               'ytick.labelsize': 14,\n",
    "               'xtick.labelsize': 14\n",
    "               }\n",
    "sns.set(style=\"white\", palette=\"Paired\", rc=mpl_params)\n",
    "#sns.set_palette(\"Paired\", desat=.6)\n",
    "b, g, r, p = sns.color_palette(\"muted\", 4)"
   ]
  },
  {
   "cell_type": "code",
   "execution_count": 16,
   "metadata": {
    "collapsed": true
   },
   "outputs": [],
   "source": [
    "%config InlineBackend.close_figures = False"
   ]
  },
  {
   "cell_type": "markdown",
   "metadata": {},
   "source": [
    "## Data"
   ]
  },
  {
   "cell_type": "markdown",
   "metadata": {},
   "source": [
    "We'll save our results to a dictionary and dump it to JSON for use in the paper."
   ]
  },
  {
   "cell_type": "code",
   "execution_count": 17,
   "metadata": {
    "collapsed": true
   },
   "outputs": [],
   "source": [
    "results = {}"
   ]
  },
  {
   "cell_type": "code",
   "execution_count": 18,
   "metadata": {
    "collapsed": true
   },
   "outputs": [],
   "source": [
    "store = pd.HDFStore(wdir('{}.store.h5'.format(prefix)), complib='zlib', complevel=5)"
   ]
  },
  {
   "cell_type": "code",
   "execution_count": 19,
   "metadata": {
    "collapsed": true
   },
   "outputs": [],
   "source": [
    "import atexit"
   ]
  },
  {
   "cell_type": "code",
   "execution_count": 20,
   "metadata": {
    "collapsed": true
   },
   "outputs": [],
   "source": [
    "def dump_results(fn='../doc/petmar-genome-comp.results.json'):\n",
    "    with open(fn, 'wb') as fp:\n",
    "        json.dump(results, fp)"
   ]
  },
  {
   "cell_type": "code",
   "execution_count": 26,
   "metadata": {
    "collapsed": true
   },
   "outputs": [],
   "source": [
    "store.close()"
   ]
  },
  {
   "cell_type": "markdown",
   "metadata": {
    "collapsed": true
   },
   "source": [
    "## Germline DNA Samples"
   ]
  },
  {
   "cell_type": "markdown",
   "metadata": {},
   "source": [
    "We've got some nice shiny new sperm DNA samples - let's play with them some. First things first, we'll check out their FastQC results to make sure they're not crap."
   ]
  },
  {
   "cell_type": "code",
   "execution_count": 49,
   "metadata": {
    "collapsed": false
   },
   "outputs": [],
   "source": [
    "fastqc_folders = sorted(glob.glob('*fastqc'))"
   ]
  },
  {
   "cell_type": "code",
   "execution_count": 109,
   "metadata": {
    "collapsed": false
   },
   "outputs": [
    {
     "name": "stdout",
     "output_type": "stream",
     "text": [
      "duplication_levels.png\t per_base_sequence_content.png\r\n",
      "kmer_profiles.png\t per_sequence_gc_content.png\r\n",
      "per_base_gc_content.png  per_sequence_quality.png\r\n",
      "per_base_n_content.png\t sequence_length_distribution.png\r\n",
      "per_base_quality.png\r\n"
     ]
    }
   ],
   "source": [
    "!ls 2_ATCACG_L001_R1_001_fastqc/Images"
   ]
  },
  {
   "cell_type": "code",
   "execution_count": null,
   "metadata": {
    "collapsed": true
   },
   "outputs": [],
   "source": [
    "ls "
   ]
  },
  {
   "cell_type": "code",
   "execution_count": 105,
   "metadata": {
    "collapsed": false,
    "scrolled": false
   },
   "outputs": [],
   "source": [
    "# quick utility function to generate a table of images\n",
    "def get_img_table(folders, image):\n",
    "    htmlout = '<table>'\n",
    "    for i in xrange(0, len(folders), 2):\n",
    "        left = fastqc_folders[i]\n",
    "        right = fastqc_folders[i+1]\n",
    "        htmlout += '<tr>'\n",
    "        htmlout += '<td align=\"center\">' + left + ', LEFT</td>'\n",
    "        htmlout += '<td align=\"center\">' + right + ', RIGHT</td>'\n",
    "        htmlout += '</td>'\n",
    "        \n",
    "        htmlout += '<tr>'\n",
    "        htmlout += '<td><img src=\"' + os.path.join(left, 'Images', image) + '\"/></td>'\n",
    "        htmlout += '<td><img src=\"' + os.path.join(right, 'Images', image) + '\"/></td>'\n",
    "        htmlout += '</tr>'\n",
    "    htmlout += '</table>'\n",
    "    return htmlout"
   ]
  },
  {
   "cell_type": "markdown",
   "metadata": {},
   "source": [
    "#### Per-Base Sequence Quality\n",
    "\n",
    "These look pretty normal -- in fact, the right fragments are a little better than I might expect for many runs."
   ]
  },
  {
   "cell_type": "code",
   "execution_count": 113,
   "metadata": {
    "collapsed": false
   },
   "outputs": [
    {
     "data": {
      "text/html": [
       "<table><tr><td align=\"center\">2_ATCACG_L001_R1_001_fastqc, LEFT</td><td align=\"center\">2_ATCACG_L001_R2_001_fastqc, RIGHT</td></td><tr><td><img src=\"2_ATCACG_L001_R1_001_fastqc/Images/per_base_quality.png\"/></td><td><img src=\"2_ATCACG_L001_R2_001_fastqc/Images/per_base_quality.png\"/></td></tr><tr><td align=\"center\">2_TGACCA_L001_R1_001_fastqc, LEFT</td><td align=\"center\">2_TGACCA_L001_R2_001_fastqc, RIGHT</td></td><tr><td><img src=\"2_TGACCA_L001_R1_001_fastqc/Images/per_base_quality.png\"/></td><td><img src=\"2_TGACCA_L001_R2_001_fastqc/Images/per_base_quality.png\"/></td></tr><tr><td align=\"center\">4_CCGTCC_L001_R1_001_fastqc, LEFT</td><td align=\"center\">4_CCGTCC_L001_R2_001_fastqc, RIGHT</td></td><tr><td><img src=\"4_CCGTCC_L001_R1_001_fastqc/Images/per_base_quality.png\"/></td><td><img src=\"4_CCGTCC_L001_R2_001_fastqc/Images/per_base_quality.png\"/></td></tr><tr><td align=\"center\">4_GATCAG_L001_R1_001_fastqc, LEFT</td><td align=\"center\">4_GATCAG_L001_R2_001_fastqc, RIGHT</td></td><tr><td><img src=\"4_GATCAG_L001_R1_001_fastqc/Images/per_base_quality.png\"/></td><td><img src=\"4_GATCAG_L001_R2_001_fastqc/Images/per_base_quality.png\"/></td></tr></table>"
      ],
      "text/plain": [
       "<IPython.core.display.HTML object>"
      ]
     },
     "metadata": {},
     "output_type": "display_data"
    }
   ],
   "source": [
    "display(HTML(get_img_table(fastqc_folders, 'per_base_quality.png')))"
   ]
  },
  {
   "cell_type": "markdown",
   "metadata": {},
   "source": [
    "#### GC Content"
   ]
  },
  {
   "cell_type": "markdown",
   "metadata": {
    "collapsed": true
   },
   "source": [
    "For the most part, these results line up with what we expect from the lamprey genome paper: ~46% GC content for the whole genome (FastQC throws a warning for this check, but we can safely ignore it based on our prior knowledge). Curiously, in the genome paper, they report that coding regions had a GC content of ~61%, but we don't really see a bump in the distribution there -- instead, we see a bump at ~84% in all samples. There isn't anything unexpected in the per-*base* figures, so we can at least assume there isn't a technical artifact common to all reads."
   ]
  },
  {
   "cell_type": "code",
   "execution_count": 110,
   "metadata": {
    "collapsed": false
   },
   "outputs": [
    {
     "data": {
      "text/html": [
       "<table><tr><td align=\"center\">2_ATCACG_L001_R1_001_fastqc, LEFT</td><td align=\"center\">2_ATCACG_L001_R2_001_fastqc, RIGHT</td></td><tr><td><img src=\"2_ATCACG_L001_R1_001_fastqc/Images/per_sequence_gc_content.png\"/></td><td><img src=\"2_ATCACG_L001_R2_001_fastqc/Images/per_sequence_gc_content.png\"/></td></tr><tr><td align=\"center\">2_TGACCA_L001_R1_001_fastqc, LEFT</td><td align=\"center\">2_TGACCA_L001_R2_001_fastqc, RIGHT</td></td><tr><td><img src=\"2_TGACCA_L001_R1_001_fastqc/Images/per_sequence_gc_content.png\"/></td><td><img src=\"2_TGACCA_L001_R2_001_fastqc/Images/per_sequence_gc_content.png\"/></td></tr><tr><td align=\"center\">4_CCGTCC_L001_R1_001_fastqc, LEFT</td><td align=\"center\">4_CCGTCC_L001_R2_001_fastqc, RIGHT</td></td><tr><td><img src=\"4_CCGTCC_L001_R1_001_fastqc/Images/per_sequence_gc_content.png\"/></td><td><img src=\"4_CCGTCC_L001_R2_001_fastqc/Images/per_sequence_gc_content.png\"/></td></tr><tr><td align=\"center\">4_GATCAG_L001_R1_001_fastqc, LEFT</td><td align=\"center\">4_GATCAG_L001_R2_001_fastqc, RIGHT</td></td><tr><td><img src=\"4_GATCAG_L001_R1_001_fastqc/Images/per_sequence_gc_content.png\"/></td><td><img src=\"4_GATCAG_L001_R2_001_fastqc/Images/per_sequence_gc_content.png\"/></td></tr></table>"
      ],
      "text/plain": [
       "<IPython.core.display.HTML object>"
      ]
     },
     "metadata": {},
     "output_type": "display_data"
    }
   ],
   "source": [
    "display(HTML(get_img_table(fastqc_folders, 'per_sequence_gc_content.png')))"
   ]
  },
  {
   "cell_type": "code",
   "execution_count": 111,
   "metadata": {
    "collapsed": false
   },
   "outputs": [
    {
     "data": {
      "text/html": [
       "<table><tr><td align=\"center\">2_ATCACG_L001_R1_001_fastqc, LEFT</td><td align=\"center\">2_ATCACG_L001_R2_001_fastqc, RIGHT</td></td><tr><td><img src=\"2_ATCACG_L001_R1_001_fastqc/Images/per_base_gc_content.png\"/></td><td><img src=\"2_ATCACG_L001_R2_001_fastqc/Images/per_base_gc_content.png\"/></td></tr><tr><td align=\"center\">2_TGACCA_L001_R1_001_fastqc, LEFT</td><td align=\"center\">2_TGACCA_L001_R2_001_fastqc, RIGHT</td></td><tr><td><img src=\"2_TGACCA_L001_R1_001_fastqc/Images/per_base_gc_content.png\"/></td><td><img src=\"2_TGACCA_L001_R2_001_fastqc/Images/per_base_gc_content.png\"/></td></tr><tr><td align=\"center\">4_CCGTCC_L001_R1_001_fastqc, LEFT</td><td align=\"center\">4_CCGTCC_L001_R2_001_fastqc, RIGHT</td></td><tr><td><img src=\"4_CCGTCC_L001_R1_001_fastqc/Images/per_base_gc_content.png\"/></td><td><img src=\"4_CCGTCC_L001_R2_001_fastqc/Images/per_base_gc_content.png\"/></td></tr><tr><td align=\"center\">4_GATCAG_L001_R1_001_fastqc, LEFT</td><td align=\"center\">4_GATCAG_L001_R2_001_fastqc, RIGHT</td></td><tr><td><img src=\"4_GATCAG_L001_R1_001_fastqc/Images/per_base_gc_content.png\"/></td><td><img src=\"4_GATCAG_L001_R2_001_fastqc/Images/per_base_gc_content.png\"/></td></tr></table>"
      ],
      "text/plain": [
       "<IPython.core.display.HTML object>"
      ]
     },
     "metadata": {},
     "output_type": "display_data"
    }
   ],
   "source": [
    "display(HTML(get_img_table(fastqc_folders, 'per_base_gc_content.png')))"
   ]
  },
  {
   "cell_type": "markdown",
   "metadata": {},
   "source": [
    "Once more, nothing all too exciting -- a bit of A bias toward the end of the righ reads, which coincides with the expected drop in quality."
   ]
  },
  {
   "cell_type": "code",
   "execution_count": 112,
   "metadata": {
    "collapsed": false
   },
   "outputs": [
    {
     "data": {
      "text/html": [
       "<table><tr><td align=\"center\">2_ATCACG_L001_R1_001_fastqc, LEFT</td><td align=\"center\">2_ATCACG_L001_R2_001_fastqc, RIGHT</td></td><tr><td><img src=\"2_ATCACG_L001_R1_001_fastqc/Images/per_base_sequence_content.png\"/></td><td><img src=\"2_ATCACG_L001_R2_001_fastqc/Images/per_base_sequence_content.png\"/></td></tr><tr><td align=\"center\">2_TGACCA_L001_R1_001_fastqc, LEFT</td><td align=\"center\">2_TGACCA_L001_R2_001_fastqc, RIGHT</td></td><tr><td><img src=\"2_TGACCA_L001_R1_001_fastqc/Images/per_base_sequence_content.png\"/></td><td><img src=\"2_TGACCA_L001_R2_001_fastqc/Images/per_base_sequence_content.png\"/></td></tr><tr><td align=\"center\">4_CCGTCC_L001_R1_001_fastqc, LEFT</td><td align=\"center\">4_CCGTCC_L001_R2_001_fastqc, RIGHT</td></td><tr><td><img src=\"4_CCGTCC_L001_R1_001_fastqc/Images/per_base_sequence_content.png\"/></td><td><img src=\"4_CCGTCC_L001_R2_001_fastqc/Images/per_base_sequence_content.png\"/></td></tr><tr><td align=\"center\">4_GATCAG_L001_R1_001_fastqc, LEFT</td><td align=\"center\">4_GATCAG_L001_R2_001_fastqc, RIGHT</td></td><tr><td><img src=\"4_GATCAG_L001_R1_001_fastqc/Images/per_base_sequence_content.png\"/></td><td><img src=\"4_GATCAG_L001_R2_001_fastqc/Images/per_base_sequence_content.png\"/></td></tr></table>"
      ],
      "text/plain": [
       "<IPython.core.display.HTML object>"
      ]
     },
     "metadata": {},
     "output_type": "display_data"
    }
   ],
   "source": [
    "display(HTML(get_img_table(fastqc_folders, 'per_base_sequence_content.png')))"
   ]
  },
  {
   "cell_type": "markdown",
   "metadata": {},
   "source": [
    "Seems a little odd that we get this slow increase in G/C homopolymers over the length of our reads. Need to investigate further."
   ]
  },
  {
   "cell_type": "code",
   "execution_count": 114,
   "metadata": {
    "collapsed": false
   },
   "outputs": [
    {
     "data": {
      "text/html": [
       "<table><tr><td align=\"center\">2_ATCACG_L001_R1_001_fastqc, LEFT</td><td align=\"center\">2_ATCACG_L001_R2_001_fastqc, RIGHT</td></td><tr><td><img src=\"2_ATCACG_L001_R1_001_fastqc/Images/kmer_profiles.png\"/></td><td><img src=\"2_ATCACG_L001_R2_001_fastqc/Images/kmer_profiles.png\"/></td></tr><tr><td align=\"center\">2_TGACCA_L001_R1_001_fastqc, LEFT</td><td align=\"center\">2_TGACCA_L001_R2_001_fastqc, RIGHT</td></td><tr><td><img src=\"2_TGACCA_L001_R1_001_fastqc/Images/kmer_profiles.png\"/></td><td><img src=\"2_TGACCA_L001_R2_001_fastqc/Images/kmer_profiles.png\"/></td></tr><tr><td align=\"center\">4_CCGTCC_L001_R1_001_fastqc, LEFT</td><td align=\"center\">4_CCGTCC_L001_R2_001_fastqc, RIGHT</td></td><tr><td><img src=\"4_CCGTCC_L001_R1_001_fastqc/Images/kmer_profiles.png\"/></td><td><img src=\"4_CCGTCC_L001_R2_001_fastqc/Images/kmer_profiles.png\"/></td></tr><tr><td align=\"center\">4_GATCAG_L001_R1_001_fastqc, LEFT</td><td align=\"center\">4_GATCAG_L001_R2_001_fastqc, RIGHT</td></td><tr><td><img src=\"4_GATCAG_L001_R1_001_fastqc/Images/kmer_profiles.png\"/></td><td><img src=\"4_GATCAG_L001_R2_001_fastqc/Images/kmer_profiles.png\"/></td></tr></table>"
      ],
      "text/plain": [
       "<IPython.core.display.HTML object>"
      ]
     },
     "metadata": {},
     "output_type": "display_data"
    }
   ],
   "source": [
    "display(HTML(get_img_table(fastqc_folders, 'kmer_profiles.png')))"
   ]
  },
  {
   "cell_type": "code",
   "execution_count": 115,
   "metadata": {
    "collapsed": false
   },
   "outputs": [
    {
     "data": {
      "text/html": [
       "<table><tr><td align=\"center\">2_ATCACG_L001_R1_001_fastqc, LEFT</td><td align=\"center\">2_ATCACG_L001_R2_001_fastqc, RIGHT</td></td><tr><td><img src=\"2_ATCACG_L001_R1_001_fastqc/Images/duplication_levels.png\"/></td><td><img src=\"2_ATCACG_L001_R2_001_fastqc/Images/duplication_levels.png\"/></td></tr><tr><td align=\"center\">2_TGACCA_L001_R1_001_fastqc, LEFT</td><td align=\"center\">2_TGACCA_L001_R2_001_fastqc, RIGHT</td></td><tr><td><img src=\"2_TGACCA_L001_R1_001_fastqc/Images/duplication_levels.png\"/></td><td><img src=\"2_TGACCA_L001_R2_001_fastqc/Images/duplication_levels.png\"/></td></tr><tr><td align=\"center\">4_CCGTCC_L001_R1_001_fastqc, LEFT</td><td align=\"center\">4_CCGTCC_L001_R2_001_fastqc, RIGHT</td></td><tr><td><img src=\"4_CCGTCC_L001_R1_001_fastqc/Images/duplication_levels.png\"/></td><td><img src=\"4_CCGTCC_L001_R2_001_fastqc/Images/duplication_levels.png\"/></td></tr><tr><td align=\"center\">4_GATCAG_L001_R1_001_fastqc, LEFT</td><td align=\"center\">4_GATCAG_L001_R2_001_fastqc, RIGHT</td></td><tr><td><img src=\"4_GATCAG_L001_R1_001_fastqc/Images/duplication_levels.png\"/></td><td><img src=\"4_GATCAG_L001_R2_001_fastqc/Images/duplication_levels.png\"/></td></tr></table>"
      ],
      "text/plain": [
       "<IPython.core.display.HTML object>"
      ]
     },
     "metadata": {},
     "output_type": "display_data"
    }
   ],
   "source": [
    "display(HTML(get_img_table(fastqc_folders, 'duplication_levels.png')))"
   ]
  },
  {
   "cell_type": "markdown",
   "metadata": {},
   "source": [
    "Summary: we should probably run a trimmer on these samples before using them. Shocker!"
   ]
  },
  {
   "cell_type": "code",
   "execution_count": null,
   "metadata": {
    "collapsed": true
   },
   "outputs": [],
   "source": []
  }
 ],
 "metadata": {
  "kernelspec": {
   "display_name": "Python 2",
   "language": "python",
   "name": "python2"
  },
  "language_info": {
   "codemirror_mode": {
    "name": "ipython",
    "version": 2
   },
   "file_extension": ".py",
   "mimetype": "text/x-python",
   "name": "python",
   "nbconvert_exporter": "python",
   "pygments_lexer": "ipython2",
   "version": "2.7.10"
  }
 },
 "nbformat": 4,
 "nbformat_minor": 0
}
