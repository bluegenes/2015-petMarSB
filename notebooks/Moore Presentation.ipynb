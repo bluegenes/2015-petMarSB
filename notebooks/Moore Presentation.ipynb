{
 "cells": [
  {
   "cell_type": "markdown",
   "metadata": {
    "slideshow": {
     "slide_type": "slide"
    }
   },
   "source": [
    "# Moore Foundation Site Visit\n",
    "## Camille Scott: \"What is it I do, anyway?\"\n",
    "### 2015-09-15\n",
    "### UC Davis"
   ]
  },
  {
   "cell_type": "markdown",
   "metadata": {
    "slideshow": {
     "slide_type": "slide"
    }
   },
   "source": [
    "* Data processing logistics are crucial to understanding results in bioinformatics; they are rarely adequately reported. Pydoit!\n",
    "  - http://pydoit.org/\n",
    "  - https://github.com/dib-lab/2015-petMarSB <-- This is public!\n",
    "  - https://github.com/dib-lab/2015-petMarSB/blob/master/notebooks/petmar-genome-completeness.ipynb\n",
    "* Purpose-built services with limited scope are more useful and useable than monolithic ones. mygene for programmatic exploration!\n",
    "    - http://mygene.info/\n",
    "* Looking at individual projects as iterative processes requires 1 and 2; using pweave to turn the wheel and connect the processing with the description\n",
    "    - https://github.com/dib-lab/2015-petMarSB/blob/master/doc/2015-petMarSB.draft.texw\n",
    "    - https://github.com/dib-lab/2015-petMarSB/blob/master/doc/2015-petMarSB.draft.tex\n",
    "    - https://github.com/dib-lab/2015-petMarSB/blob/master/doc/2015-petMarSB.draft.pdf\n",
    "* Putting it all together: cool lamprey results re: verts"
   ]
  },
  {
   "cell_type": "markdown",
   "metadata": {
    "slideshow": {
     "slide_type": "slide"
    }
   },
   "source": [
    "![proposed craniate phylogenies](http://icb.oxfordjournals.org/content/50/1/130/F2.medium.gif)\n"
   ]
  }
 ],
 "metadata": {
  "celltoolbar": "Slideshow",
  "kernelspec": {
   "display_name": "Python 2",
   "language": "python",
   "name": "python2"
  },
  "language_info": {
   "codemirror_mode": {
    "name": "ipython",
    "version": 2
   },
   "file_extension": ".py",
   "mimetype": "text/x-python",
   "name": "python",
   "nbconvert_exporter": "python",
   "pygments_lexer": "ipython2",
   "version": "2.7.10"
  }
 },
 "nbformat": 4,
 "nbformat_minor": 0
}
