{
 "cells": [
  {
   "cell_type": "markdown",
   "metadata": {},
   "source": [
    "# Lamprey Transcriptome Analysis: Gene Model Overlap Notebook"
   ]
  },
  {
   "cell_type": "markdown",
   "metadata": {},
   "source": [
    "```\n",
    "Camille Scott [camille dot scott dot w @gmail.com] [@camille_codon]\n",
    "\n",
    "camillescott.github.io\n",
    "\n",
    "Lab for Genomics, Evolution, and Development\n",
    "Michigan State University\n",
    "```"
   ]
  },
  {
   "cell_type": "markdown",
   "metadata": {},
   "source": [
    "## About"
   ]
  },
  {
   "cell_type": "markdown",
   "metadata": {},
   "source": [
    "Explores consensus between assembled transcripts and existing lamprey gene models, using the `gtf_to_genes` library."
   ]
  },
  {
   "cell_type": "markdown",
   "metadata": {},
   "source": [
    "    assembly version: lamp10\n",
    "\n",
    "    assembly program: Trinity\n",
    "    \n",
    "    gtf model versin: 7.0.75\n",
    "    \n",
    "There is another script in this directory called `petmar-gtf-overlap.py` which loads the database and does the `apply` function to query overlaps for each hit, as those operations take a very long time (these are a definite target for optimization)."
   ]
  },
  {
   "cell_type": "code",
   "execution_count": 1,
   "metadata": {
    "collapsed": false
   },
   "outputs": [
    {
     "name": "stdout",
     "output_type": "stream",
     "text": [
      "/home/camille/lamprey/2015-petMarSB/notebooks\r\n"
     ]
    }
   ],
   "source": [
    "!echo $PWD"
   ]
  },
  {
   "cell_type": "markdown",
   "metadata": {},
   "source": [
    "## Contents"
   ]
  },
  {
   "cell_type": "markdown",
   "metadata": {},
   "source": [
    "1. [Libraries](#Libraries) \n",
    "* [Data Loading](#Data-Loading)\n",
    "* [Matplotlib RC Settings](#Matplotlib-RC-Settings)\n",
    "* [Existing Gene Models](#Existing-Gene-Models)\n",
    "     1. [Interval Query Initialization](#Interval-Query-Initialization)\n",
    "     * [Utility Functions](#Utility-Functions)\n",
    "     * [Results](#Results)"
   ]
  },
  {
   "cell_type": "markdown",
   "metadata": {},
   "source": [
    "## Libraries"
   ]
  },
  {
   "cell_type": "code",
   "execution_count": 2,
   "metadata": {
    "collapsed": false
   },
   "outputs": [],
   "source": [
    "%load_ext autoreload\n",
    "%autoreload 2"
   ]
  },
  {
   "cell_type": "code",
   "execution_count": 3,
   "metadata": {
    "collapsed": false,
    "slideshow": {
     "slide_type": "skip"
    }
   },
   "outputs": [
    {
     "name": "stderr",
     "output_type": "stream",
     "text": [
      "** Using data resources found in ../resources.json\n",
      "** Using config found in ../config.json\n"
     ]
    }
   ],
   "source": [
    "from libs import *\n",
    "%run -i common.ipy"
   ]
  },
  {
   "cell_type": "code",
   "execution_count": 4,
   "metadata": {
    "collapsed": false
   },
   "outputs": [],
   "source": [
    "from bx.intervals.intersection import Interval, Intersecter, IntervalTree"
   ]
  },
  {
   "cell_type": "code",
   "execution_count": 5,
   "metadata": {
    "collapsed": false
   },
   "outputs": [
    {
     "name": "stderr",
     "output_type": "stream",
     "text": [
      ":0: FutureWarning: IPython widgets are experimental and may change in the future.\n"
     ]
    }
   ],
   "source": [
    "from IPython.html.widgets import interactive, RadioButtonsWidget\n",
    "from IPython.display import display\n",
    "from IPython.html import widgets"
   ]
  },
  {
   "cell_type": "code",
   "execution_count": 6,
   "metadata": {
    "collapsed": false
   },
   "outputs": [],
   "source": [
    "import pyprind"
   ]
  },
  {
   "cell_type": "code",
   "execution_count": 7,
   "metadata": {
    "collapsed": true
   },
   "outputs": [],
   "source": [
    "from gtftools import read_gtf"
   ]
  },
  {
   "cell_type": "code",
   "execution_count": 9,
   "metadata": {
    "collapsed": false
   },
   "outputs": [],
   "source": [
    "from blasttools import blast_to_df\n",
    "import intervaltools as ivt"
   ]
  },
  {
   "cell_type": "markdown",
   "metadata": {},
   "source": [
    "## Matplotlib RC Settings"
   ]
  },
  {
   "cell_type": "code",
   "execution_count": 159,
   "metadata": {
    "collapsed": false
   },
   "outputs": [
    {
     "name": "stdout",
     "output_type": "stream",
     "text": [
      "Populating the interactive namespace from numpy and matplotlib\n"
     ]
    },
    {
     "name": "stderr",
     "output_type": "stream",
     "text": [
      "WARNING: pylab import has clobbered these variables: ['colors', 'rc_context', 'f', 'fix', 'bar']\n",
      "`%matplotlib` prevents importing * from pylab and numpy\n"
     ]
    }
   ],
   "source": [
    "%pylab inline\n",
    "from matplotlib import rc_context\n",
    "tall_size = (8,16)\n",
    "norm_size = (12,8)\n",
    "mpl_params = {'figure.autolayout': True,\n",
    "               'axes.titlesize': 24,\n",
    "               'axes.labelsize': 16,\n",
    "               'ytick.labelsize': 14,\n",
    "               'xtick.labelsize': 14\n",
    "               }\n",
    "sns.set(style=\"white\", palette=\"Paired\", rc=mpl_params)\n",
    "#sns.set_palette(\"Paired\", desat=.6)\n",
    "b, g, r, p = sns.color_palette(\"muted\", 4)"
   ]
  },
  {
   "cell_type": "code",
   "execution_count": 11,
   "metadata": {
    "collapsed": true
   },
   "outputs": [],
   "source": [
    "%config InlineBackend.close_figures = False"
   ]
  },
  {
   "cell_type": "markdown",
   "metadata": {},
   "source": [
    "## Data Loading"
   ]
  },
  {
   "cell_type": "code",
   "execution_count": 12,
   "metadata": {
    "collapsed": false
   },
   "outputs": [],
   "source": [
    "store = pd.HDFStore(wdir('{}.store.h5'.format(prefix)), complib='zlib', complevel=5)"
   ]
  },
  {
   "cell_type": "code",
   "execution_count": 13,
   "metadata": {
    "collapsed": false
   },
   "outputs": [],
   "source": [
    "lamp10_db = screed.ScreedDB(wdir(resources_df.filename['lamp10']))\n",
    "lamp00_db = screed.ScreedDB(wdir(resources_df.filename['petMar2_cdna']))"
   ]
  },
  {
   "cell_type": "code",
   "execution_count": 14,
   "metadata": {
    "collapsed": false,
    "scrolled": true
   },
   "outputs": [
    {
     "data": {
      "text/html": [
       "<div style=\"max-height:1000px;max-width:1500px;overflow:auto;\">\n",
       "<table border=\"1\" class=\"dataframe\">\n",
       "  <thead>\n",
       "    <tr style=\"text-align: right;\">\n",
       "      <th></th>\n",
       "      <th>qseqid</th>\n",
       "      <th>sseqid</th>\n",
       "      <th>pident</th>\n",
       "      <th>length</th>\n",
       "      <th>mismatch</th>\n",
       "      <th>gapopen</th>\n",
       "      <th>qstart</th>\n",
       "      <th>qend</th>\n",
       "      <th>sstart</th>\n",
       "      <th>send</th>\n",
       "      <th>evalue</th>\n",
       "      <th>bitscore</th>\n",
       "      <th>qstrand</th>\n",
       "      <th>sstrand</th>\n",
       "    </tr>\n",
       "    <tr>\n",
       "      <th>aln_id</th>\n",
       "      <th></th>\n",
       "      <th></th>\n",
       "      <th></th>\n",
       "      <th></th>\n",
       "      <th></th>\n",
       "      <th></th>\n",
       "      <th></th>\n",
       "      <th></th>\n",
       "      <th></th>\n",
       "      <th></th>\n",
       "      <th></th>\n",
       "      <th></th>\n",
       "      <th></th>\n",
       "      <th></th>\n",
       "    </tr>\n",
       "  </thead>\n",
       "  <tbody>\n",
       "    <tr>\n",
       "      <th>1763</th>\n",
       "      <td>ENSPMAT00000006415</td>\n",
       "      <td>GL476328</td>\n",
       "      <td>87.14</td>\n",
       "      <td>70</td>\n",
       "      <td>8</td>\n",
       "      <td>1</td>\n",
       "      <td>1410</td>\n",
       "      <td>1479</td>\n",
       "      <td>904657</td>\n",
       "      <td>904727</td>\n",
       "      <td>3.000000e-12</td>\n",
       "      <td>78.7</td>\n",
       "      <td>+</td>\n",
       "      <td>+</td>\n",
       "    </tr>\n",
       "    <tr>\n",
       "      <th>1764</th>\n",
       "      <td>ENSPMAT00000006415</td>\n",
       "      <td>GL476328</td>\n",
       "      <td>97.14</td>\n",
       "      <td>35</td>\n",
       "      <td>1</td>\n",
       "      <td>0</td>\n",
       "      <td>1487</td>\n",
       "      <td>1522</td>\n",
       "      <td>139410</td>\n",
       "      <td>139445</td>\n",
       "      <td>1.000000e-06</td>\n",
       "      <td>60.2</td>\n",
       "      <td>+</td>\n",
       "      <td>+</td>\n",
       "    </tr>\n",
       "    <tr>\n",
       "      <th>2487</th>\n",
       "      <td>ENSPMAT00000006543</td>\n",
       "      <td>GL476328</td>\n",
       "      <td>96.83</td>\n",
       "      <td>63</td>\n",
       "      <td>1</td>\n",
       "      <td>1</td>\n",
       "      <td>1683</td>\n",
       "      <td>1745</td>\n",
       "      <td>732138</td>\n",
       "      <td>732201</td>\n",
       "      <td>5.000000e-20</td>\n",
       "      <td>104.0</td>\n",
       "      <td>+</td>\n",
       "      <td>+</td>\n",
       "    </tr>\n",
       "    <tr>\n",
       "      <th>2488</th>\n",
       "      <td>ENSPMAT00000006543</td>\n",
       "      <td>GL476328</td>\n",
       "      <td>92.65</td>\n",
       "      <td>68</td>\n",
       "      <td>2</td>\n",
       "      <td>2</td>\n",
       "      <td>1679</td>\n",
       "      <td>1744</td>\n",
       "      <td>149678</td>\n",
       "      <td>149746</td>\n",
       "      <td>3.000000e-17</td>\n",
       "      <td>95.3</td>\n",
       "      <td>+</td>\n",
       "      <td>-</td>\n",
       "    </tr>\n",
       "    <tr>\n",
       "      <th>2489</th>\n",
       "      <td>ENSPMAT00000006543</td>\n",
       "      <td>GL476328</td>\n",
       "      <td>93.75</td>\n",
       "      <td>64</td>\n",
       "      <td>2</td>\n",
       "      <td>1</td>\n",
       "      <td>1682</td>\n",
       "      <td>1744</td>\n",
       "      <td>1006401</td>\n",
       "      <td>1006465</td>\n",
       "      <td>3.000000e-17</td>\n",
       "      <td>95.3</td>\n",
       "      <td>+</td>\n",
       "      <td>+</td>\n",
       "    </tr>\n",
       "  </tbody>\n",
       "</table>\n",
       "</div>"
      ],
      "text/plain": [
       "                    qseqid    sseqid  pident  length  mismatch  gapopen  \\\n",
       "aln_id                                                                    \n",
       "1763    ENSPMAT00000006415  GL476328   87.14      70         8        1   \n",
       "1764    ENSPMAT00000006415  GL476328   97.14      35         1        0   \n",
       "2487    ENSPMAT00000006543  GL476328   96.83      63         1        1   \n",
       "2488    ENSPMAT00000006543  GL476328   92.65      68         2        2   \n",
       "2489    ENSPMAT00000006543  GL476328   93.75      64         2        1   \n",
       "\n",
       "        qstart  qend   sstart     send        evalue  bitscore qstrand sstrand  \n",
       "aln_id                                                                          \n",
       "1763      1410  1479   904657   904727  3.000000e-12      78.7       +       +  \n",
       "1764      1487  1522   139410   139445  1.000000e-06      60.2       +       +  \n",
       "2487      1683  1745   732138   732201  5.000000e-20     104.0       +       +  \n",
       "2488      1679  1744   149678   149746  3.000000e-17      95.3       +       -  \n",
       "2489      1682  1744  1006401  1006465  3.000000e-17      95.3       +       +  "
      ]
     },
     "execution_count": 14,
     "metadata": {},
     "output_type": "execute_result"
    }
   ],
   "source": [
    "lamp00_pM_df = blast_to_df(wdir('{}.fa.x.{}.db.tsv'.format('petMar2.cdna', 'petMar2.fa')), index_col=None)\n",
    "lamp00_pM_df.sort(columns=['sseqid'], inplace=True)\n",
    "lamp00_pM_df.index.set_names('aln_id', inplace=True)\n",
    "lamp00_pM_df.head()"
   ]
  },
  {
   "cell_type": "code",
   "execution_count": 15,
   "metadata": {
    "collapsed": false
   },
   "outputs": [
    {
     "data": {
      "text/html": [
       "<div style=\"max-height:1000px;max-width:1500px;overflow:auto;\">\n",
       "<table border=\"1\" class=\"dataframe\">\n",
       "  <thead>\n",
       "    <tr style=\"text-align: right;\">\n",
       "      <th></th>\n",
       "      <th>qseqid</th>\n",
       "      <th>sseqid</th>\n",
       "      <th>pident</th>\n",
       "      <th>length</th>\n",
       "      <th>mismatch</th>\n",
       "      <th>gapopen</th>\n",
       "      <th>qstart</th>\n",
       "      <th>qend</th>\n",
       "      <th>sstart</th>\n",
       "      <th>send</th>\n",
       "      <th>evalue</th>\n",
       "      <th>bitscore</th>\n",
       "      <th>qstrand</th>\n",
       "      <th>sstrand</th>\n",
       "    </tr>\n",
       "    <tr>\n",
       "      <th>aln_id</th>\n",
       "      <th></th>\n",
       "      <th></th>\n",
       "      <th></th>\n",
       "      <th></th>\n",
       "      <th></th>\n",
       "      <th></th>\n",
       "      <th></th>\n",
       "      <th></th>\n",
       "      <th></th>\n",
       "      <th></th>\n",
       "      <th></th>\n",
       "      <th></th>\n",
       "      <th></th>\n",
       "      <th></th>\n",
       "    </tr>\n",
       "  </thead>\n",
       "  <tbody>\n",
       "    <tr>\n",
       "      <th>1942</th>\n",
       "      <td>c35304_g1_i1</td>\n",
       "      <td>GL476328</td>\n",
       "      <td>92.68</td>\n",
       "      <td>41</td>\n",
       "      <td>3</td>\n",
       "      <td>0</td>\n",
       "      <td>612</td>\n",
       "      <td>653</td>\n",
       "      <td>388244</td>\n",
       "      <td>388285</td>\n",
       "      <td>4.000000e-07</td>\n",
       "      <td>60.2</td>\n",
       "      <td>+</td>\n",
       "      <td>+</td>\n",
       "    </tr>\n",
       "    <tr>\n",
       "      <th>1944</th>\n",
       "      <td>c35304_g1_i2</td>\n",
       "      <td>GL476328</td>\n",
       "      <td>92.68</td>\n",
       "      <td>41</td>\n",
       "      <td>3</td>\n",
       "      <td>0</td>\n",
       "      <td>208</td>\n",
       "      <td>249</td>\n",
       "      <td>388244</td>\n",
       "      <td>388285</td>\n",
       "      <td>1.000000e-07</td>\n",
       "      <td>60.2</td>\n",
       "      <td>+</td>\n",
       "      <td>+</td>\n",
       "    </tr>\n",
       "    <tr>\n",
       "      <th>2886</th>\n",
       "      <td>c220917_g1_i2</td>\n",
       "      <td>GL476328</td>\n",
       "      <td>100.00</td>\n",
       "      <td>33</td>\n",
       "      <td>0</td>\n",
       "      <td>0</td>\n",
       "      <td>85</td>\n",
       "      <td>118</td>\n",
       "      <td>1278050</td>\n",
       "      <td>1278083</td>\n",
       "      <td>6.000000e-08</td>\n",
       "      <td>62.1</td>\n",
       "      <td>+</td>\n",
       "      <td>-</td>\n",
       "    </tr>\n",
       "    <tr>\n",
       "      <th>3802</th>\n",
       "      <td>c131063_g1_i1</td>\n",
       "      <td>GL476328</td>\n",
       "      <td>99.31</td>\n",
       "      <td>432</td>\n",
       "      <td>1</td>\n",
       "      <td>1</td>\n",
       "      <td>18</td>\n",
       "      <td>450</td>\n",
       "      <td>806166</td>\n",
       "      <td>806596</td>\n",
       "      <td>0.000000e+00</td>\n",
       "      <td>780.0</td>\n",
       "      <td>+</td>\n",
       "      <td>-</td>\n",
       "    </tr>\n",
       "    <tr>\n",
       "      <th>3809</th>\n",
       "      <td>c131063_g1_i2</td>\n",
       "      <td>GL476328</td>\n",
       "      <td>99.14</td>\n",
       "      <td>350</td>\n",
       "      <td>1</td>\n",
       "      <td>1</td>\n",
       "      <td>16</td>\n",
       "      <td>366</td>\n",
       "      <td>806166</td>\n",
       "      <td>806514</td>\n",
       "      <td>1.000000e-178</td>\n",
       "      <td>628.0</td>\n",
       "      <td>+</td>\n",
       "      <td>-</td>\n",
       "    </tr>\n",
       "  </tbody>\n",
       "</table>\n",
       "</div>"
      ],
      "text/plain": [
       "               qseqid    sseqid  pident  length  mismatch  gapopen  qstart  \\\n",
       "aln_id                                                                       \n",
       "1942     c35304_g1_i1  GL476328   92.68      41         3        0     612   \n",
       "1944     c35304_g1_i2  GL476328   92.68      41         3        0     208   \n",
       "2886    c220917_g1_i2  GL476328  100.00      33         0        0      85   \n",
       "3802    c131063_g1_i1  GL476328   99.31     432         1        1      18   \n",
       "3809    c131063_g1_i2  GL476328   99.14     350         1        1      16   \n",
       "\n",
       "        qend   sstart     send         evalue  bitscore qstrand sstrand  \n",
       "aln_id                                                                   \n",
       "1942     653   388244   388285   4.000000e-07      60.2       +       +  \n",
       "1944     249   388244   388285   1.000000e-07      60.2       +       +  \n",
       "2886     118  1278050  1278083   6.000000e-08      62.1       +       -  \n",
       "3802     450   806166   806596   0.000000e+00     780.0       +       -  \n",
       "3809     366   806166   806514  1.000000e-178     628.0       +       -  "
      ]
     },
     "execution_count": 15,
     "metadata": {},
     "output_type": "execute_result"
    }
   ],
   "source": [
    "lamp10_pM_df = blast_to_df(wdir('{}.fasta.x.{}.db.tsv'.format('lamp10', 'petMar2.fa')), index_col=None)\n",
    "lamp10_pM_df.sort(columns=['sseqid'], inplace=True)\n",
    "lamp10_pM_df.index.set_names('aln_id', inplace=True)\n",
    "lamp10_pM_df.head()"
   ]
  },
  {
   "cell_type": "code",
   "execution_count": 163,
   "metadata": {
    "collapsed": false
   },
   "outputs": [
    {
     "data": {
      "text/html": [
       "<div style=\"max-height:1000px;max-width:1500px;overflow:auto;\">\n",
       "<table border=\"1\" class=\"dataframe\">\n",
       "  <thead>\n",
       "    <tr style=\"text-align: right;\">\n",
       "      <th></th>\n",
       "      <th>contig_id</th>\n",
       "      <th>source</th>\n",
       "      <th>feature</th>\n",
       "      <th>start</th>\n",
       "      <th>end</th>\n",
       "      <th>score</th>\n",
       "      <th>strand</th>\n",
       "      <th>frame</th>\n",
       "      <th>exon_id</th>\n",
       "      <th>exon_number</th>\n",
       "      <th>gene_biotype</th>\n",
       "      <th>gene_id</th>\n",
       "      <th>gene_name</th>\n",
       "      <th>gene_source</th>\n",
       "      <th>protein_id</th>\n",
       "      <th>transcript_id</th>\n",
       "      <th>transcript_name</th>\n",
       "      <th>transcript_source</th>\n",
       "      <th>feature_length</th>\n",
       "    </tr>\n",
       "    <tr>\n",
       "      <th>ann_id</th>\n",
       "      <th></th>\n",
       "      <th></th>\n",
       "      <th></th>\n",
       "      <th></th>\n",
       "      <th></th>\n",
       "      <th></th>\n",
       "      <th></th>\n",
       "      <th></th>\n",
       "      <th></th>\n",
       "      <th></th>\n",
       "      <th></th>\n",
       "      <th></th>\n",
       "      <th></th>\n",
       "      <th></th>\n",
       "      <th></th>\n",
       "      <th></th>\n",
       "      <th></th>\n",
       "      <th></th>\n",
       "      <th></th>\n",
       "    </tr>\n",
       "  </thead>\n",
       "  <tbody>\n",
       "    <tr>\n",
       "      <th>5124</th>\n",
       "      <td>GL476328</td>\n",
       "      <td>protein_coding</td>\n",
       "      <td>gene</td>\n",
       "      <td>168846</td>\n",
       "      <td>169476</td>\n",
       "      <td>.</td>\n",
       "      <td>+</td>\n",
       "      <td>.</td>\n",
       "      <td>NaN</td>\n",
       "      <td>NaN</td>\n",
       "      <td>protein_coding</td>\n",
       "      <td>ENSPMAG00000010374</td>\n",
       "      <td>cdkn1c</td>\n",
       "      <td>ensembl</td>\n",
       "      <td>NaN</td>\n",
       "      <td>NaN</td>\n",
       "      <td>NaN</td>\n",
       "      <td>NaN</td>\n",
       "      <td>630</td>\n",
       "    </tr>\n",
       "    <tr>\n",
       "      <th>5125</th>\n",
       "      <td>GL476328</td>\n",
       "      <td>protein_coding</td>\n",
       "      <td>transcript</td>\n",
       "      <td>168846</td>\n",
       "      <td>169476</td>\n",
       "      <td>.</td>\n",
       "      <td>+</td>\n",
       "      <td>.</td>\n",
       "      <td>NaN</td>\n",
       "      <td>NaN</td>\n",
       "      <td>protein_coding</td>\n",
       "      <td>ENSPMAG00000010374</td>\n",
       "      <td>cdkn1c</td>\n",
       "      <td>ensembl</td>\n",
       "      <td>NaN</td>\n",
       "      <td>ENSPMAT00000011401</td>\n",
       "      <td>cdkn1c-201</td>\n",
       "      <td>ensembl</td>\n",
       "      <td>630</td>\n",
       "    </tr>\n",
       "    <tr>\n",
       "      <th>5126</th>\n",
       "      <td>GL476328</td>\n",
       "      <td>protein_coding</td>\n",
       "      <td>exon</td>\n",
       "      <td>168846</td>\n",
       "      <td>169476</td>\n",
       "      <td>.</td>\n",
       "      <td>+</td>\n",
       "      <td>.</td>\n",
       "      <td>ENSPMAE00000096602</td>\n",
       "      <td>1</td>\n",
       "      <td>protein_coding</td>\n",
       "      <td>ENSPMAG00000010374</td>\n",
       "      <td>cdkn1c</td>\n",
       "      <td>ensembl</td>\n",
       "      <td>NaN</td>\n",
       "      <td>ENSPMAT00000011401</td>\n",
       "      <td>cdkn1c-201</td>\n",
       "      <td>ensembl</td>\n",
       "      <td>630</td>\n",
       "    </tr>\n",
       "    <tr>\n",
       "      <th>5127</th>\n",
       "      <td>GL476328</td>\n",
       "      <td>protein_coding</td>\n",
       "      <td>CDS</td>\n",
       "      <td>168846</td>\n",
       "      <td>169476</td>\n",
       "      <td>.</td>\n",
       "      <td>+</td>\n",
       "      <td>0</td>\n",
       "      <td>NaN</td>\n",
       "      <td>1</td>\n",
       "      <td>protein_coding</td>\n",
       "      <td>ENSPMAG00000010374</td>\n",
       "      <td>cdkn1c</td>\n",
       "      <td>ensembl</td>\n",
       "      <td>ENSPMAP00000011355</td>\n",
       "      <td>ENSPMAT00000011401</td>\n",
       "      <td>cdkn1c-201</td>\n",
       "      <td>ensembl</td>\n",
       "      <td>630</td>\n",
       "    </tr>\n",
       "    <tr>\n",
       "      <th>5128</th>\n",
       "      <td>GL476328</td>\n",
       "      <td>protein_coding</td>\n",
       "      <td>gene</td>\n",
       "      <td>235293</td>\n",
       "      <td>235778</td>\n",
       "      <td>.</td>\n",
       "      <td>-</td>\n",
       "      <td>.</td>\n",
       "      <td>NaN</td>\n",
       "      <td>NaN</td>\n",
       "      <td>protein_coding</td>\n",
       "      <td>ENSPMAG00000007839</td>\n",
       "      <td>rps4x</td>\n",
       "      <td>ensembl</td>\n",
       "      <td>NaN</td>\n",
       "      <td>NaN</td>\n",
       "      <td>NaN</td>\n",
       "      <td>NaN</td>\n",
       "      <td>485</td>\n",
       "    </tr>\n",
       "  </tbody>\n",
       "</table>\n",
       "</div>"
      ],
      "text/plain": [
       "       contig_id          source     feature   start     end score strand  \\\n",
       "ann_id                                                                      \n",
       "5124    GL476328  protein_coding        gene  168846  169476     .      +   \n",
       "5125    GL476328  protein_coding  transcript  168846  169476     .      +   \n",
       "5126    GL476328  protein_coding        exon  168846  169476     .      +   \n",
       "5127    GL476328  protein_coding         CDS  168846  169476     .      +   \n",
       "5128    GL476328  protein_coding        gene  235293  235778     .      -   \n",
       "\n",
       "       frame             exon_id exon_number    gene_biotype  \\\n",
       "ann_id                                                         \n",
       "5124       .                 NaN         NaN  protein_coding   \n",
       "5125       .                 NaN         NaN  protein_coding   \n",
       "5126       .  ENSPMAE00000096602           1  protein_coding   \n",
       "5127       0                 NaN           1  protein_coding   \n",
       "5128       .                 NaN         NaN  protein_coding   \n",
       "\n",
       "                   gene_id gene_name gene_source          protein_id  \\\n",
       "ann_id                                                                 \n",
       "5124    ENSPMAG00000010374    cdkn1c     ensembl                 NaN   \n",
       "5125    ENSPMAG00000010374    cdkn1c     ensembl                 NaN   \n",
       "5126    ENSPMAG00000010374    cdkn1c     ensembl                 NaN   \n",
       "5127    ENSPMAG00000010374    cdkn1c     ensembl  ENSPMAP00000011355   \n",
       "5128    ENSPMAG00000007839     rps4x     ensembl                 NaN   \n",
       "\n",
       "             transcript_id transcript_name transcript_source  feature_length  \n",
       "ann_id                                                                        \n",
       "5124                   NaN             NaN               NaN             630  \n",
       "5125    ENSPMAT00000011401      cdkn1c-201           ensembl             630  \n",
       "5126    ENSPMAT00000011401      cdkn1c-201           ensembl             630  \n",
       "5127    ENSPMAT00000011401      cdkn1c-201           ensembl             630  \n",
       "5128                   NaN             NaN               NaN             485  "
      ]
     },
     "execution_count": 163,
     "metadata": {},
     "output_type": "execute_result"
    }
   ],
   "source": [
    "gtf_file = wdir(resources_df.ix['petMar2_gtf'].filename)\n",
    "gtf_df = read_gtf(gtf_file)\n",
    "gtf_df.sort(columns=['contig_id'], inplace=True)\n",
    "gtf_df.index.set_names('ann_id', inplace=True)\n",
    "gtf_df['feature_length'] = gtf_df.end - gtf_df.start\n",
    "gtf_df.head()"
   ]
  },
  {
   "cell_type": "code",
   "execution_count": 17,
   "metadata": {
    "collapsed": false,
    "slideshow": {
     "slide_type": "skip"
    }
   },
   "outputs": [],
   "source": [
    "tpm_df = store['tpm_df']"
   ]
  },
  {
   "cell_type": "code",
   "execution_count": 18,
   "metadata": {
    "collapsed": true,
    "slideshow": {
     "slide_type": "skip"
    }
   },
   "outputs": [],
   "source": [
    "blast_panel = store['blast_panel']\n",
    "blast_df = store['blast_df']"
   ]
  },
  {
   "cell_type": "markdown",
   "metadata": {},
   "source": [
    "Test stuff out with a small subset"
   ]
  },
  {
   "cell_type": "code",
   "execution_count": 19,
   "metadata": {
    "collapsed": true
   },
   "outputs": [],
   "source": [
    "gtf_df_small = gtf_df.tail(10000)\n",
    "lamp10_pM_df_small = lamp10_pM_df.tail(100000)"
   ]
  },
  {
   "cell_type": "code",
   "execution_count": 20,
   "metadata": {
    "collapsed": false
   },
   "outputs": [],
   "source": [
    "gtf_df_small.index.set_names('ann_id', inplace=True)\n",
    "lamp10_pM_df_small.index.set_names('aln_id', inplace=True)"
   ]
  },
  {
   "cell_type": "code",
   "execution_count": 21,
   "metadata": {
    "collapsed": false
   },
   "outputs": [],
   "source": [
    "gtf_trees_small = gtf_df_small.groupby('contig_id').apply(ivt.build_tree_from_group, gtf_df, ivt.get_gtf_coords)\n",
    "alignment_subject_trees_small = lamp10_pM_df_small.groupby('sseqid').apply(\n",
    "                                                                ivt.build_tree_from_group, lamp10_pM_df,\n",
    "                                                                ivt.get_blast_subject_coords)"
   ]
  },
  {
   "cell_type": "code",
   "execution_count": 22,
   "metadata": {
    "collapsed": true
   },
   "outputs": [],
   "source": [
    "gtf_trees_small.name = 'annotations'\n",
    "alignment_subject_trees_small.name = 'alignments'\n",
    "gi_df_small = pd.concat([gtf_trees_small, alignment_subject_trees_small], axis=1)"
   ]
  },
  {
   "cell_type": "code",
   "execution_count": 23,
   "metadata": {
    "collapsed": true
   },
   "outputs": [],
   "source": [
    "overlap_data_small = ivt.get_gtf_aln_overlap_df(gi_df_small)"
   ]
  },
  {
   "cell_type": "code",
   "execution_count": 24,
   "metadata": {
    "collapsed": false,
    "scrolled": true
   },
   "outputs": [],
   "source": [
    "gtf_aln_df_small = gtf_df_small.join(overlap_data_small).join(lamp10_pM_df_small).sortlevel()"
   ]
  },
  {
   "cell_type": "code",
   "execution_count": 25,
   "metadata": {
    "collapsed": true
   },
   "outputs": [],
   "source": [
    "gtf_aln_df_small['ann_length'] = gtf_aln_df_small.end - gtf_aln_df_small.start\n",
    "gtf_aln_df_small['aln_overlap_prop'] = gtf_aln_df_small.overlap_len / gtf_aln_df_small.length\n",
    "gtf_aln_df_small['ann_overlap_prop'] = gtf_aln_df_small.overlap_len / gtf_aln_df_small.ann_length"
   ]
  },
  {
   "cell_type": "code",
   "execution_count": 26,
   "metadata": {
    "collapsed": false
   },
   "outputs": [
    {
     "data": {
      "text/plain": [
       "0"
      ]
     },
     "execution_count": 26,
     "metadata": {},
     "output_type": "execute_result"
    }
   ],
   "source": [
    "(gtf_aln_df_small.ann_overlap_prop > 1).sum()"
   ]
  },
  {
   "cell_type": "markdown",
   "metadata": {},
   "source": [
    "## Gene Models from Pmarinus 7.0.75"
   ]
  },
  {
   "cell_type": "markdown",
   "metadata": {},
   "source": [
    "### Build Interval Trees"
   ]
  },
  {
   "cell_type": "markdown",
   "metadata": {},
   "source": [
    "Build an IntervalTree of BLAST alignments to each contig"
   ]
  },
  {
   "cell_type": "code",
   "execution_count": 27,
   "metadata": {
    "collapsed": false
   },
   "outputs": [
    {
     "name": "stdout",
     "output_type": "stream",
     "text": [
      "Build BLAST interval trees\n",
      "0%                          100%\n",
      "[##############################] | ETA[sec]: 0.000 \n",
      "Total time elapsed: 564.936 sec\n"
     ]
    }
   ],
   "source": [
    "bar = pyprind.ProgBar(len(lamp10_pM_df), stream=1, title='Build BLAST interval trees')\n",
    "alignment_subject_trees = lamp10_pM_df.groupby('sseqid').apply(ivt.build_tree_from_group, lamp10_pM_df,\n",
    "                                                               ivt.get_blast_subject_coords, bar=bar)"
   ]
  },
  {
   "cell_type": "markdown",
   "metadata": {},
   "source": [
    "Build an IntervalTree of GTF features for each contig"
   ]
  },
  {
   "cell_type": "code",
   "execution_count": 28,
   "metadata": {
    "collapsed": false
   },
   "outputs": [
    {
     "name": "stdout",
     "output_type": "stream",
     "text": [
      "Build GTF interval trees\n",
      "0%                          100%\n",
      "[##############################] | ETA[sec]: 0.000 \n",
      "Total time elapsed: 37.767 sec\n"
     ]
    }
   ],
   "source": [
    "bar = pyprind.ProgBar(len(gtf_df), stream=1, title='Build GTF interval trees')\n",
    "gtf_trees = gtf_df.groupby('contig_id').apply(ivt.build_tree_from_group, gtf_df, ivt.get_gtf_coords, bar=bar)"
   ]
  },
  {
   "cell_type": "markdown",
   "metadata": {},
   "source": [
    "Combine both Series of IntervalTrees into one DataFrame keyed by the contig id"
   ]
  },
  {
   "cell_type": "code",
   "execution_count": 29,
   "metadata": {
    "collapsed": false
   },
   "outputs": [],
   "source": [
    "gtf_trees.name = 'annotations'\n",
    "alignment_subject_trees.name = 'alignments'\n",
    "genome_interval_df = pd.concat([gtf_trees, alignment_subject_trees], axis=1)"
   ]
  },
  {
   "cell_type": "markdown",
   "metadata": {},
   "source": [
    "### Sanity Check"
   ]
  },
  {
   "cell_type": "code",
   "execution_count": 49,
   "metadata": {
    "collapsed": true
   },
   "outputs": [],
   "source": [
    "ann_self_overlap = ivt.check_ann_covered_single(gtf_df, gtf_trees)"
   ]
  },
  {
   "cell_type": "code",
   "execution_count": 52,
   "metadata": {
    "collapsed": false
   },
   "outputs": [
    {
     "data": {
      "text/plain": [
       "1.0"
      ]
     },
     "execution_count": 52,
     "metadata": {},
     "output_type": "execute_result"
    }
   ],
   "source": [
    "float(ann_self_overlap.sum()) / ann_self_overlap.size"
   ]
  },
  {
   "cell_type": "markdown",
   "metadata": {},
   "source": [
    "Good, it appears to work!"
   ]
  },
  {
   "cell_type": "markdown",
   "metadata": {},
   "source": [
    "### Calculate Overlap Data"
   ]
  },
  {
   "cell_type": "code",
   "execution_count": 199,
   "metadata": {
    "collapsed": false,
    "scrolled": true
   },
   "outputs": [
    {
     "name": "stdout",
     "output_type": "stream",
     "text": [
      "Calculating overlaps\n",
      "0%                          100%\n",
      "[##############################] | ETA[sec]: 0.000 \n",
      "Total time elapsed: 12.674 sec\n"
     ]
    }
   ],
   "source": [
    "bar = pyprind.ProgBar(len(genome_interval_df), stream=1, title='Calculating overlaps')\n",
    "ann_aln_ov_df = ivt.get_ann_aln_overlap_df(genome_interval_df, cutoff=0.9, bar=bar)"
   ]
  },
  {
   "cell_type": "code",
   "execution_count": 200,
   "metadata": {
    "collapsed": false
   },
   "outputs": [],
   "source": [
    "store['lamp10_ann_aln_ov_df'] = ann_aln_ov_df"
   ]
  },
  {
   "cell_type": "code",
   "execution_count": 201,
   "metadata": {
    "collapsed": false
   },
   "outputs": [
    {
     "name": "stdout",
     "output_type": "stream",
     "text": [
      "Calculating overlaps\n",
      "0%                          100%\n",
      "[##############################] | ETA[sec]: 0.000 \n",
      "Total time elapsed: 17.868 sec\n"
     ]
    }
   ],
   "source": [
    "bar = pyprind.ProgBar(len(genome_interval_df), stream=1, title='Calculating overlaps')\n",
    "aln_ann_ov_df = ivt.get_aln_ann_overlap_df(genome_interval_df, cutoff=0.9, bar=bar)"
   ]
  },
  {
   "cell_type": "code",
   "execution_count": 197,
   "metadata": {
    "collapsed": true
   },
   "outputs": [],
   "source": [
    "store['lamp10_aln_ann_ov_df'] = aln_ann_ov_df"
   ]
  },
  {
   "cell_type": "markdown",
   "metadata": {},
   "source": [
    "### Quantify Overlaps"
   ]
  },
  {
   "cell_type": "markdown",
   "metadata": {},
   "source": [
    "First we calculate whether each annotation is overlapped at least 90% by a single transcript"
   ]
  },
  {
   "cell_type": "code",
   "execution_count": 43,
   "metadata": {
    "collapsed": false
   },
   "outputs": [],
   "source": [
    "ann_overlap_vec = ivt.check_ann_covered_single(gtf_df, alignment_subject_trees)"
   ]
  },
  {
   "cell_type": "code",
   "execution_count": 48,
   "metadata": {
    "collapsed": false
   },
   "outputs": [
    {
     "data": {
      "text/plain": [
       "0.714577648340084"
      ]
     },
     "execution_count": 48,
     "metadata": {},
     "output_type": "execute_result"
    }
   ],
   "source": [
    "float(ann_overlap_vec.sum()) / ann_overlap_vec.size"
   ]
  },
  {
   "cell_type": "markdown",
   "metadata": {},
   "source": [
    "Hmm, this result isn't very good. How do things look by feature?"
   ]
  },
  {
   "cell_type": "code",
   "execution_count": 53,
   "metadata": {
    "collapsed": false
   },
   "outputs": [
    {
     "data": {
      "text/plain": [
       "feature\n",
       "CDS            0.788948\n",
       "UTR            0.837687\n",
       "exon           0.779816\n",
       "gene           0.128727\n",
       "start_codon    0.857505\n",
       "stop_codon     0.903922\n",
       "transcript     0.120359\n",
       "dtype: float64"
      ]
     },
     "execution_count": 53,
     "metadata": {},
     "output_type": "execute_result"
    }
   ],
   "source": [
    "ann_overlap_vec.groupby(gtf_df.feature).apply(lambda g: float(g.sum()) / g.size)"
   ]
  },
  {
   "cell_type": "markdown",
   "metadata": {},
   "source": [
    "A bit better! The `gene` and `transcript` features are course-grained (their intervals contain introns), and are unlikely to be overlapped 90% by any single transcript."
   ]
  },
  {
   "cell_type": "code",
   "execution_count": 65,
   "metadata": {
    "collapsed": false
   },
   "outputs": [
    {
     "data": {
      "text/plain": [
       "feature\n",
       "CDS            101975\n",
       "UTR              3216\n",
       "exon           105480\n",
       "gene            13113\n",
       "start_codon      3158\n",
       "stop_codon       4080\n",
       "transcript      14141\n",
       "dtype: int64"
      ]
     },
     "execution_count": 65,
     "metadata": {},
     "output_type": "execute_result"
    }
   ],
   "source": [
    "ann_overlap_vec.groupby(gtf_df.feature).count()"
   ]
  },
  {
   "cell_type": "markdown",
   "metadata": {},
   "source": [
    "How about when we allow for multiple alignments to be merged to meet the .9 cutoff?"
   ]
  },
  {
   "cell_type": "code",
   "execution_count": 141,
   "metadata": {
    "collapsed": false
   },
   "outputs": [
    {
     "name": "stdout",
     "output_type": "stream",
     "text": [
      "\n"
     ]
    }
   ],
   "source": [
    "ann_covered_vec = ivt.check_ann_covered(gtf_df, alignment_subject_trees)"
   ]
  },
  {
   "cell_type": "code",
   "execution_count": 142,
   "metadata": {
    "collapsed": false
   },
   "outputs": [
    {
     "data": {
      "text/plain": [
       "0.7482368872953913"
      ]
     },
     "execution_count": 142,
     "metadata": {},
     "output_type": "execute_result"
    }
   ],
   "source": [
    "float(ann_covered_vec.sum()) / ann_covered_vec.size"
   ]
  },
  {
   "cell_type": "code",
   "execution_count": 143,
   "metadata": {
    "collapsed": false
   },
   "outputs": [
    {
     "data": {
      "text/plain": [
       "feature\n",
       "CDS            0.822555\n",
       "UTR            0.881841\n",
       "exon           0.815425\n",
       "gene           0.163578\n",
       "start_codon    0.857505\n",
       "stop_codon     0.903922\n",
       "transcript     0.153596\n",
       "dtype: float64"
      ]
     },
     "execution_count": 143,
     "metadata": {},
     "output_type": "execute_result"
    }
   ],
   "source": [
    "ann_covered_vec.groupby(gtf_df.feature).apply(lambda g: float(g.sum()) / g.size)"
   ]
  },
  {
   "cell_type": "markdown",
   "metadata": {},
   "source": [
    "The numbers see some marked improvement. Finally, let's look at how they change with decreasing cutoffs."
   ]
  },
  {
   "cell_type": "code",
   "execution_count": 147,
   "metadata": {
    "collapsed": false
   },
   "outputs": [],
   "source": [
    "cutoffs = pd.Series(np.arange(0.0, 1.1, .1))\n",
    "def coverage_fn(cutoff):\n",
    "    s = ivt.check_ann_covered(gtf_df, alignment_subject_trees, cutoff=cutoff)\n",
    "    s.name = cutoff\n",
    "    return s\n",
    "ann_covered_df = cutoffs.apply(lambda c: coverage_fn(c))\n",
    "ann_covered_df = ann_covered_df.transpose()"
   ]
  },
  {
   "cell_type": "code",
   "execution_count": 148,
   "metadata": {
    "collapsed": false
   },
   "outputs": [],
   "source": [
    "ann_covered_df.columns = cutoffs"
   ]
  },
  {
   "cell_type": "code",
   "execution_count": 190,
   "metadata": {
    "collapsed": false
   },
   "outputs": [
    {
     "data": {
      "image/png": "[encoded data removed]",
      "text/plain": [
       "<matplotlib.figure.Figure at 0x7f9cfba5e090>"
      ]
     },
     "metadata": {},
     "output_type": "display_data"
    }
   ],
   "source": [
    "with sns.color_palette('muted'), FigManager() as (fig, ax):\n",
    "    ann_covered_df.groupby(gtf_df.feature).apply(lambda g: g.sum() / len(g)).T.plot(ax=ax)\n",
    "    ax.set_ylabel('Proportion Annotations Overlapped')\n",
    "    ax.set_xlabel('Min Overlap Proportion')\n",
    "    ax.set_title('Proportion Annotations Overlapped per Feature by Cutoff')"
   ]
  },
  {
   "cell_type": "code",
   "execution_count": 189,
   "metadata": {
    "collapsed": false
   },
   "outputs": [
    {
     "data": {
      "image/png": "[encoded data removed]",
      "text/plain": [
       "<matplotlib.figure.Figure at 0x7f9cff24ddd0>"
      ]
     },
     "metadata": {},
     "output_type": "display_data"
    }
   ],
   "source": [
    "with FigManager() as (fig, ax):\n",
    "    gtf_subs_df = gtf_df[(gtf_df.feature.isin(['transcript', 'gene']) == False) & (gtf_df.feature_length < 1000)]\n",
    "    bins = np.linspace(gtf_subs_df.feature_length.min(), gtf_subs_df.feature_length.max(), 100)\n",
    "    groups = ann_covered_vec[gtf_subs_df.index].groupby(pd.cut(gtf_subs_df.feature_length, bins))\n",
    "    \n",
    "    sns.distplot(gtf_subs_df.feature_length, kde=False, bins=bins)"
   ]
  },
  {
   "cell_type": "markdown",
   "metadata": {},
   "source": [
    "### Describe Overlaps"
   ]
  },
  {
   "cell_type": "markdown",
   "metadata": {},
   "source": [
    "Retrieve the indices of each overlapping transcript for each feature"
   ]
  },
  {
   "cell_type": "markdown",
   "metadata": {},
   "source": [
    "Join the metadata from the features and corresponding overlapped alignments"
   ]
  },
  {
   "cell_type": "code",
   "execution_count": 32,
   "metadata": {
    "collapsed": true
   },
   "outputs": [],
   "source": [
    "overlap_df = gtf_df.join(overlap_data).join(lamp10_pM_df).sortlevel()"
   ]
  },
  {
   "cell_type": "code",
   "execution_count": 33,
   "metadata": {
    "collapsed": false
   },
   "outputs": [],
   "source": [
    "overlap_df['ann_length'] = overlap_df.end - overlap_df.start\n",
    "overlap_df['aln_overlap_prop'] = overlap_df.overlap_len / overlap_df.length\n",
    "overlap_df['ann_overlap_prop'] = overlap_df.overlap_len / overlap_df.ann_length"
   ]
  },
  {
   "cell_type": "code",
   "execution_count": 34,
   "metadata": {
    "collapsed": false
   },
   "outputs": [
    {
     "data": {
      "text/html": [
       "<div style=\"max-height:1000px;max-width:1500px;overflow:auto;\">\n",
       "<table border=\"1\" class=\"dataframe\">\n",
       "  <thead>\n",
       "    <tr style=\"text-align: right;\">\n",
       "      <th></th>\n",
       "      <th></th>\n",
       "      <th>contig_id</th>\n",
       "      <th>source</th>\n",
       "      <th>feature</th>\n",
       "      <th>start</th>\n",
       "      <th>end</th>\n",
       "      <th>score</th>\n",
       "      <th>strand</th>\n",
       "      <th>frame</th>\n",
       "      <th>exon_id</th>\n",
       "      <th>exon_number</th>\n",
       "      <th>...</th>\n",
       "      <th>qend</th>\n",
       "      <th>sstart</th>\n",
       "      <th>send</th>\n",
       "      <th>evalue</th>\n",
       "      <th>bitscore</th>\n",
       "      <th>qstrand</th>\n",
       "      <th>sstrand</th>\n",
       "      <th>ann_length</th>\n",
       "      <th>aln_overlap_prop</th>\n",
       "      <th>ann_overlap_prop</th>\n",
       "    </tr>\n",
       "    <tr>\n",
       "      <th>ann_id</th>\n",
       "      <th>aln_id</th>\n",
       "      <th></th>\n",
       "      <th></th>\n",
       "      <th></th>\n",
       "      <th></th>\n",
       "      <th></th>\n",
       "      <th></th>\n",
       "      <th></th>\n",
       "      <th></th>\n",
       "      <th></th>\n",
       "      <th></th>\n",
       "      <th></th>\n",
       "      <th></th>\n",
       "      <th></th>\n",
       "      <th></th>\n",
       "      <th></th>\n",
       "      <th></th>\n",
       "      <th></th>\n",
       "      <th></th>\n",
       "      <th></th>\n",
       "      <th></th>\n",
       "      <th></th>\n",
       "    </tr>\n",
       "  </thead>\n",
       "  <tbody>\n",
       "    <tr>\n",
       "      <th rowspan=\"5\" valign=\"top\">5124</th>\n",
       "      <th>616481</th>\n",
       "      <td>GL476328</td>\n",
       "      <td>protein_coding</td>\n",
       "      <td>gene</td>\n",
       "      <td>168846</td>\n",
       "      <td>169476</td>\n",
       "      <td>.</td>\n",
       "      <td>+</td>\n",
       "      <td>.</td>\n",
       "      <td>NaN</td>\n",
       "      <td>NaN</td>\n",
       "      <td>...</td>\n",
       "      <td>1783</td>\n",
       "      <td>169341</td>\n",
       "      <td>169723</td>\n",
       "      <td>0</td>\n",
       "      <td>652</td>\n",
       "      <td>+</td>\n",
       "      <td>-</td>\n",
       "      <td>630</td>\n",
       "      <td>0.350649</td>\n",
       "      <td>0.214286</td>\n",
       "    </tr>\n",
       "    <tr>\n",
       "      <th>616484</th>\n",
       "      <td>GL476328</td>\n",
       "      <td>protein_coding</td>\n",
       "      <td>gene</td>\n",
       "      <td>168846</td>\n",
       "      <td>169476</td>\n",
       "      <td>.</td>\n",
       "      <td>+</td>\n",
       "      <td>.</td>\n",
       "      <td>NaN</td>\n",
       "      <td>NaN</td>\n",
       "      <td>...</td>\n",
       "      <td>2070</td>\n",
       "      <td>169341</td>\n",
       "      <td>169723</td>\n",
       "      <td>0</td>\n",
       "      <td>652</td>\n",
       "      <td>+</td>\n",
       "      <td>-</td>\n",
       "      <td>630</td>\n",
       "      <td>0.350649</td>\n",
       "      <td>0.214286</td>\n",
       "    </tr>\n",
       "    <tr>\n",
       "      <th>616490</th>\n",
       "      <td>GL476328</td>\n",
       "      <td>protein_coding</td>\n",
       "      <td>gene</td>\n",
       "      <td>168846</td>\n",
       "      <td>169476</td>\n",
       "      <td>.</td>\n",
       "      <td>+</td>\n",
       "      <td>.</td>\n",
       "      <td>NaN</td>\n",
       "      <td>NaN</td>\n",
       "      <td>...</td>\n",
       "      <td>763</td>\n",
       "      <td>169341</td>\n",
       "      <td>169723</td>\n",
       "      <td>0</td>\n",
       "      <td>652</td>\n",
       "      <td>+</td>\n",
       "      <td>-</td>\n",
       "      <td>630</td>\n",
       "      <td>0.350649</td>\n",
       "      <td>0.214286</td>\n",
       "    </tr>\n",
       "    <tr>\n",
       "      <th>616493</th>\n",
       "      <td>GL476328</td>\n",
       "      <td>protein_coding</td>\n",
       "      <td>gene</td>\n",
       "      <td>168846</td>\n",
       "      <td>169476</td>\n",
       "      <td>.</td>\n",
       "      <td>+</td>\n",
       "      <td>.</td>\n",
       "      <td>NaN</td>\n",
       "      <td>NaN</td>\n",
       "      <td>...</td>\n",
       "      <td>2557</td>\n",
       "      <td>169341</td>\n",
       "      <td>169723</td>\n",
       "      <td>0</td>\n",
       "      <td>652</td>\n",
       "      <td>+</td>\n",
       "      <td>-</td>\n",
       "      <td>630</td>\n",
       "      <td>0.350649</td>\n",
       "      <td>0.214286</td>\n",
       "    </tr>\n",
       "    <tr>\n",
       "      <th>616497</th>\n",
       "      <td>GL476328</td>\n",
       "      <td>protein_coding</td>\n",
       "      <td>gene</td>\n",
       "      <td>168846</td>\n",
       "      <td>169476</td>\n",
       "      <td>.</td>\n",
       "      <td>+</td>\n",
       "      <td>.</td>\n",
       "      <td>NaN</td>\n",
       "      <td>NaN</td>\n",
       "      <td>...</td>\n",
       "      <td>1260</td>\n",
       "      <td>169341</td>\n",
       "      <td>169723</td>\n",
       "      <td>0</td>\n",
       "      <td>652</td>\n",
       "      <td>+</td>\n",
       "      <td>-</td>\n",
       "      <td>630</td>\n",
       "      <td>0.350649</td>\n",
       "      <td>0.214286</td>\n",
       "    </tr>\n",
       "  </tbody>\n",
       "</table>\n",
       "<p>5 rows × 36 columns</p>\n",
       "</div>"
      ],
      "text/plain": [
       "              contig_id          source feature   start     end score strand  \\\n",
       "ann_id aln_id                                                                  \n",
       "5124   616481  GL476328  protein_coding    gene  168846  169476     .      +   \n",
       "       616484  GL476328  protein_coding    gene  168846  169476     .      +   \n",
       "       616490  GL476328  protein_coding    gene  168846  169476     .      +   \n",
       "       616493  GL476328  protein_coding    gene  168846  169476     .      +   \n",
       "       616497  GL476328  protein_coding    gene  168846  169476     .      +   \n",
       "\n",
       "              frame exon_id exon_number       ...         qend  sstart  \\\n",
       "ann_id aln_id                                 ...                        \n",
       "5124   616481     .     NaN         NaN       ...         1783  169341   \n",
       "       616484     .     NaN         NaN       ...         2070  169341   \n",
       "       616490     .     NaN         NaN       ...          763  169341   \n",
       "       616493     .     NaN         NaN       ...         2557  169341   \n",
       "       616497     .     NaN         NaN       ...         1260  169341   \n",
       "\n",
       "                 send evalue bitscore qstrand sstrand ann_length  \\\n",
       "ann_id aln_id                                                      \n",
       "5124   616481  169723      0      652       +       -        630   \n",
       "       616484  169723      0      652       +       -        630   \n",
       "       616490  169723      0      652       +       -        630   \n",
       "       616493  169723      0      652       +       -        630   \n",
       "       616497  169723      0      652       +       -        630   \n",
       "\n",
       "               aln_overlap_prop ann_overlap_prop  \n",
       "ann_id aln_id                                     \n",
       "5124   616481          0.350649         0.214286  \n",
       "       616484          0.350649         0.214286  \n",
       "       616490          0.350649         0.214286  \n",
       "       616493          0.350649         0.214286  \n",
       "       616497          0.350649         0.214286  \n",
       "\n",
       "[5 rows x 36 columns]"
      ]
     },
     "execution_count": 34,
     "metadata": {},
     "output_type": "execute_result"
    }
   ],
   "source": [
    "overlap_df.head()"
   ]
  },
  {
   "cell_type": "markdown",
   "metadata": {},
   "source": [
    "#### How many transcripts overlap a feature at all?"
   ]
  },
  {
   "cell_type": "code",
   "execution_count": 35,
   "metadata": {
    "collapsed": false,
    "scrolled": true
   },
   "outputs": [
    {
     "name": "stdout",
     "output_type": "stream",
     "text": [
      "218160 of 715345 transcripts overlap a GTF feature (0.30)\n"
     ]
    }
   ],
   "source": [
    "tr_intersecting = (overlap_df.reset_index().groupby('qseqid')['ann_id'].count() > 0).sum()\n",
    "tr_total = len(tpm_df)\n",
    "print '{} of {} transcripts overlap a GTF feature ({:.2f})'.format(tr_intersecting, tr_total, \n",
    "                                                                   float(tr_intersecting) / tr_total)"
   ]
  },
  {
   "cell_type": "markdown",
   "metadata": {},
   "source": [
    "#### How big are the overlaps?\n",
    "\n",
    "We can easily examine the proportion of a given sequence overlapped, be it a transcript (ie, how much of the transcript was overlapped by the specific feature) or an annotation. We can also subset the annotations by feature type."
   ]
  },
  {
   "cell_type": "code",
   "execution_count": 36,
   "metadata": {
    "collapsed": false,
    "scrolled": false
   },
   "outputs": [
    {
     "data": {
      "image/png": "[encoded data removed]",
      "text/plain": [
       "<matplotlib.figure.Figure at 0x7f9ddeec8690>"
      ]
     },
     "metadata": {},
     "output_type": "display_data"
    }
   ],
   "source": [
    "with FigManager(nrows=4, figsize=(12,24)) as (fig, ax):\n",
    "    colors = sns.color_palette(\"cubehelix\", 8)\n",
    "    sns.distplot(overlap_df.aln_overlap_prop.dropna(), ax=ax[0], kde=False, bins=100, color=colors[0],\n",
    "                 axlabel='Overlap Proportion')\n",
    "    ax[0].set_title('Histogram of Proportion of Transcript Overlapped')\n",
    "    \n",
    "    sns.distplot(overlap_df.ann_overlap_prop.dropna(), ax=ax[1], kde=False, bins=100, color=colors[1], \n",
    "                 axlabel='Overlap Proportion')\n",
    "    ax[1].set_title('Histogram of Proportion of Annotation Overlapped')\n",
    " \n",
    "    sns.distplot(overlap_df[overlap_df.feature == 'exon'].ann_overlap_prop.dropna(), ax=ax[2], color=colors[2],\n",
    "                 kde=False, bins=100, axlabel='Overlap Proportion')\n",
    "    ax[2].set_title('Histogram of Proportion of Exon Overlapped')\n",
    "\n",
    "    sns.distplot(overlap_df[overlap_df.feature == 'CDS'].ann_overlap_prop.dropna(), ax=ax[3], color=colors[3],\n",
    "                 kde=False, bins=100, axlabel='Overlap Proportion')\n",
    "    ax[3].set_title('Histogram of Proportion of CDS Overlapped')"
   ]
  },
  {
   "cell_type": "markdown",
   "metadata": {},
   "source": [
    "### WIP: Abundance + cross validation"
   ]
  },
  {
   "cell_type": "code",
   "execution_count": 119,
   "metadata": {
    "collapsed": false
   },
   "outputs": [],
   "source": [
    "tpm_df['ann_id'] = False\n",
    "tpm_df.update((gtf_aln_df.reset_index().groupby('qseqid')['ann_id'].count() > 0))\n",
    "tpm_df.rename(columns={'ann_id':'has_annotation'}, inplace=True)"
   ]
  },
  {
   "cell_type": "code",
   "execution_count": 121,
   "metadata": {
    "collapsed": false
   },
   "outputs": [],
   "source": [
    "tpm_df['mean_tpm'] = tpm_df.drop('has_annotation', axis=1).mean(axis=1)"
   ]
  },
  {
   "cell_type": "code",
   "execution_count": 165,
   "metadata": {
    "collapsed": false
   },
   "outputs": [
    {
     "data": {
      "text/plain": [
       "0.7561955235359132"
      ]
     },
     "execution_count": 165,
     "metadata": {},
     "output_type": "execute_result"
    }
   ],
   "source": [
    "tpm_df[tpm_df.has_annotation == True].mean_tpm.median()"
   ]
  },
  {
   "cell_type": "code",
   "execution_count": 166,
   "metadata": {
    "collapsed": false
   },
   "outputs": [
    {
     "data": {
      "text/plain": [
       "0.7595900362358685"
      ]
     },
     "execution_count": 166,
     "metadata": {},
     "output_type": "execute_result"
    }
   ],
   "source": [
    "tpm_df[tpm_df.has_annotation == False].mean_tpm.median()"
   ]
  },
  {
   "cell_type": "code",
   "execution_count": 164,
   "metadata": {
    "collapsed": false,
    "scrolled": false
   },
   "outputs": [
    {
     "data": {
      "image/png": "[encoded data removed]",
      "text/plain": [
       "<matplotlib.figure.Figure at 0x7f7736842b10>"
      ]
     },
     "metadata": {},
     "output_type": "display_data"
    }
   ],
   "source": [
    "with FigManager() as (fig, ax):\n",
    "    sns.violinplot(x='has_annotation', y='mean_tpm', data=tpm_df[tpm_df.mean_tpm < 20], ax=ax, bw=.3)"
   ]
  },
  {
   "cell_type": "code",
   "execution_count": 233,
   "metadata": {
    "collapsed": true
   },
   "outputs": [],
   "source": [
    "store.close()"
   ]
  },
  {
   "cell_type": "markdown",
   "metadata": {},
   "source": [
    "### Deprecated"
   ]
  },
  {
   "cell_type": "markdown",
   "metadata": {},
   "source": [
    "### Utility Functions"
   ]
  },
  {
   "cell_type": "markdown",
   "metadata": {},
   "source": [
    "Given a genome contig and a range, get the appropriate interval tree and find overlapping intervals. Return the DataFrame indices for matching features."
   ]
  },
  {
   "cell_type": "code",
   "execution_count": 24,
   "metadata": {
    "collapsed": false
   },
   "outputs": [],
   "source": [
    "def describe_overlap(qstart, qend, istart, iend, delta=2):\n",
    "    qlen = qend - qstart\n",
    "    ilen = iend - istart\n",
    "    \n",
    "    if qstart == istart and qend == iend:\n",
    "        return 'exact', qlen, 1.0\n",
    "    \n",
    "    elif qstart >= istart:\n",
    "        if qend <= iend:\n",
    "            return 'contained', qlen, 1.0\n",
    "        else:\n",
    "            olen = iend - qstart\n",
    "            return 'overlaps', olen, float(olen) / qlen\n",
    "    else:\n",
    "        if qend <= iend:\n",
    "            olen = qend - istart\n",
    "            return 'overlaps', olen, float(olen) /qlen\n",
    "        else:\n",
    "            return 'contains', ilen, 1.0"
   ]
  },
  {
   "cell_type": "code",
   "execution_count": 25,
   "metadata": {
    "collapsed": false
   },
   "outputs": [],
   "source": [
    "# Tests!\n",
    "assert describe_overlap(5,10,0,15) == ('contained', 5, 1.0)\n",
    "assert describe_overlap(0,15,5,10) == ('contains', 5, 1.0)\n",
    "assert describe_overlap(0,10,5,15) == ('overlaps', 5, .5)\n",
    "assert describe_overlap(5,15,0,10) == ('overlaps', 5, .5)\n",
    "assert describe_overlap(0,10,0,10) == ('exact', 10, 1.0)"
   ]
  },
  {
   "cell_type": "code",
   "execution_count": 26,
   "metadata": {
    "collapsed": false
   },
   "outputs": [],
   "source": [
    "def get_overlap_rows(seqname, start, end, db, overlaps):\n",
    "    try:\n",
    "        tree = db[seqname]\n",
    "    except Exception as e:\n",
    "        #print >>sys.stderr, 'No interval tree for sequence', seqname, e\n",
    "        return []\n",
    "    # Turns out the intervaltree requires (min,max) style coordinates\n",
    "    rows = []\n",
    "    for interval in tree[min(start,end):max(start,end)]:\n",
    "        ix, feature = interval.data\n",
    "        rows.append(ix)\n",
    "        overlaps.append(describe_overlap(min(start, end), max(start, end), interval.begin, interval.end) + (feature, ))\n",
    "        \n",
    "    return rows"
   ]
  },
  {
   "cell_type": "code",
   "execution_count": 27,
   "metadata": {
    "collapsed": false
   },
   "outputs": [],
   "source": [
    "def get_overlaps(df, db, block_size=5000):\n",
    "    bar = pyprind.ProgBar(len(df) / block_size, stream=1)\n",
    "    \n",
    "    df['features'] = None\n",
    "    overlaps = []\n",
    "    for block_start in range(0,len(df), block_size):\n",
    "        bar.update()\n",
    "        df.ix[block_start:block_start+block_size, 'features'] = \\\n",
    "            df.ix[block_start:block_start+block_size].apply(\n",
    "            lambda row: get_overlap_rows(row.sseqid, row.sstart, row.send, db, overlaps), axis=1)\n",
    "    \n",
    "    odf = pd.DataFrame(overlaps, columns=['overlap_type', 'length', 'percent', 'feature'])\n",
    "    return odf"
   ]
  },
  {
   "cell_type": "code",
   "execution_count": 28,
   "metadata": {
    "collapsed": false
   },
   "outputs": [],
   "source": [
    "def quantify_overlaps(df, gtf_df=gtf_df):\n",
    "    df['tr'] = df.index\n",
    "    df.sort(columns=['tr', 'sseqid'], inplace=True)\n",
    "    \n",
    "    overlapped_rows = set()\n",
    "    df.apply(lambda row: overlapped_rows.update(row.features), axis=1)\n",
    "    \n",
    "    stats_srs = gtf_df.ix[list(overlapped_rows)].groupby(by='feature').count().source / \\\n",
    "               gtf_df.groupby(by='feature', axis=0).count().source\n",
    "    stats_srs = stats_srs.append(pd.Series(float(len(overlapped_rows)) / len(gtf_df), index=['all']))\n",
    "    \n",
    "    for feature, perc in stats_srs.iteritems():\n",
    "        print '{:.2f}% of {:s} features overlapped'.format(perc * 100.0, feature)\n",
    "    return stats_srs"
   ]
  },
  {
   "cell_type": "code",
   "execution_count": 35,
   "metadata": {
    "collapsed": false
   },
   "outputs": [
    {
     "name": "stdout",
     "output_type": "stream",
     "text": [
      "0%                          100%\n",
      "[##############################] | ETA[sec]: 0.000 \n",
      "Total time elapsed: 16.920 sec\n"
     ]
    }
   ],
   "source": [
    "lamp00_overlaps = get_overlaps(lamp00_pM_df, petMar2_idb)"
   ]
  },
  {
   "cell_type": "code",
   "execution_count": 36,
   "metadata": {
    "collapsed": false
   },
   "outputs": [
    {
     "name": "stdout",
     "output_type": "stream",
     "text": [
      "91.98% of CDS features overlapped\n",
      "96.27% of UTR features overlapped\n",
      "89.69% of exon features overlapped\n",
      "79.88% of gene features overlapped\n",
      "95.00% of start_codon features overlapped\n",
      "98.04% of stop_codon features overlapped\n",
      "81.35% of transcript features overlapped\n",
      "89.93% of all features overlapped\n"
     ]
    }
   ],
   "source": [
    "lamp00_stats_srs = quantify_overlaps(lamp00_pM_df)"
   ]
  },
  {
   "cell_type": "code",
   "execution_count": 44,
   "metadata": {
    "collapsed": false
   },
   "outputs": [
    {
     "data": {
      "image/png": "[encoded data removed]",
      "text/plain": [
       "<matplotlib.figure.Figure at 0x7f3ebf30cd10>"
      ]
     },
     "metadata": {},
     "output_type": "display_data"
    },
    {
     "data": {
      "text/html": [
       "<a href='lamp00_overlap_type_counts.svg' target='_blank'>lamp00_overlap_type_counts.svg</a><br>"
      ],
      "text/plain": [
       "/home/camille/w/2015-petMarSB/notebooks/lamp00_overlap_type_counts.svg"
      ]
     },
     "execution_count": 44,
     "metadata": {},
     "output_type": "execute_result"
    }
   ],
   "source": [
    "with FigManager('lamp00_overlap_type_counts', figsize=norm_size, show=True) as (fig, ax):\n",
    "    lamp00_overlaps[lamp00_overlaps.feature.isin(['exon', 'CDS', 'gene'])].\\\n",
    "        groupby('overlap_type').count().length.plot(kind='bar', fig=fig, ax=ax)\n",
    "    ax.set_title('Overlap Type Counts in Lamp00')\n",
    "FileLink('lamp00_overlap_type_counts.svg')"
   ]
  },
  {
   "cell_type": "markdown",
   "metadata": {},
   "source": [
    "Looks alright; now for our assembly."
   ]
  },
  {
   "cell_type": "code",
   "execution_count": 38,
   "metadata": {
    "collapsed": false
   },
   "outputs": [
    {
     "name": "stdout",
     "output_type": "stream",
     "text": [
      "0%                          100%\n",
      "[##############################] | ETA[sec]: 0.000 \n",
      "Total time elapsed: 250.054 sec\n"
     ]
    }
   ],
   "source": [
    "lamp10_overlaps = get_overlaps(lamp10_pM_df, petMar2_idb)"
   ]
  },
  {
   "cell_type": "code",
   "execution_count": 39,
   "metadata": {
    "collapsed": false
   },
   "outputs": [
    {
     "name": "stdout",
     "output_type": "stream",
     "text": [
      "89.22% of CDS features overlapped\n",
      "95.55% of UTR features overlapped\n",
      "88.95% of exon features overlapped\n",
      "92.96% of gene features overlapped\n",
      "85.05% of start_codon features overlapped\n",
      "90.81% of stop_codon features overlapped\n",
      "93.42% of transcript features overlapped\n",
      "89.60% of all features overlapped\n"
     ]
    }
   ],
   "source": [
    "lamp10_stats_srs = quantify_overlaps(lamp10_pM_df)"
   ]
  },
  {
   "cell_type": "code",
   "execution_count": null,
   "metadata": {
    "collapsed": false
   },
   "outputs": [
    {
     "name": "stdout",
     "output_type": "stream",
     "text": [
      "0%                          100%\n",
      "[##############################] | ETA[sec]: 0.000 \n",
      "Total time elapsed: 99.686 sec\n"
     ]
    }
   ],
   "source": [
    "lamp10_pM_df['features'] = None\n",
    "lamp10_hom_overlaps = get_overlaps(lamp10_pM_df[blast_df.musMus_pep & blast_df.homSap_pep & blast_df.danRer_pep], petMar2_idb)"
   ]
  },
  {
   "cell_type": "code",
   "execution_count": null,
   "metadata": {
    "collapsed": false
   },
   "outputs": [],
   "source": [
    "lamp10_hom_stats_srs = quantify_overlaps(lamp10_pM_df)"
   ]
  },
  {
   "cell_type": "code",
   "execution_count": 45,
   "metadata": {
    "collapsed": false
   },
   "outputs": [
    {
     "data": {
      "image/png": "[encoded data removed]",
      "text/plain": [
       "<matplotlib.figure.Figure at 0x7f3ed0d74850>"
      ]
     },
     "metadata": {},
     "output_type": "display_data"
    },
    {
     "data": {
      "text/html": [
       "<a href='lamp10_overlap_type_counts.svg' target='_blank'>lamp10_overlap_type_counts.svg</a><br>"
      ],
      "text/plain": [
       "/home/camille/w/2015-petMarSB/notebooks/lamp10_overlap_type_counts.svg"
      ]
     },
     "execution_count": 45,
     "metadata": {},
     "output_type": "execute_result"
    }
   ],
   "source": [
    "with FigManager('lamp10_overlap_type_counts', figsize=norm_size, show=True) as (fig, ax):\n",
    "    lamp10_overlaps[lamp10_overlaps.feature.isin(['exon', 'CDS', 'gene'])].\\\n",
    "        groupby('overlap_type').count().length.plot(kind='bar', fig=fig, ax=ax)\n",
    "    ax.set_title('Overlap Type Counts in Lamp10')\n",
    "FileLink('lamp10_overlap_type_counts.svg')"
   ]
  },
  {
   "cell_type": "code",
   "execution_count": 46,
   "metadata": {
    "collapsed": false
   },
   "outputs": [
    {
     "data": {
      "image/png": "[encoded data removed]",
      "text/plain": [
       "<matplotlib.figure.Figure at 0x7f3ebf30c8d0>"
      ]
     },
     "metadata": {},
     "output_type": "display_data"
    },
    {
     "data": {
      "text/html": [
       "<a href='lamp10_overlap_percentages_all.svg' target='_blank'>lamp10_overlap_percentages_all.svg</a><br>"
      ],
      "text/plain": [
       "/home/camille/w/2015-petMarSB/notebooks/lamp10_overlap_percentages_all.svg"
      ]
     },
     "execution_count": 46,
     "metadata": {},
     "output_type": "execute_result"
    }
   ],
   "source": [
    "with FigManager('lamp10_overlap_percentages_all', figsize=norm_size, show=True) as (fig, ax):\n",
    "    lamp10_overlaps[lamp10_overlaps.overlap_type == 'overlaps'].percent.plot(kind='hist', fig=fig, ax=ax, bins=50)\n",
    "    ax.set_title('Overlap Percentages in Lamp10, all Features')\n",
    "FileLink('lamp10_overlap_percentages_all.svg')"
   ]
  },
  {
   "cell_type": "code",
   "execution_count": 47,
   "metadata": {
    "collapsed": false
   },
   "outputs": [
    {
     "data": {
      "image/png": "[encoded data removed]",
      "text/plain": [
       "<matplotlib.figure.Figure at 0x7f3ebf30c890>"
      ]
     },
     "metadata": {},
     "output_type": "display_data"
    },
    {
     "data": {
      "text/html": [
       "<a href='lamp10_overlap_percentages_exons.svg' target='_blank'>lamp10_overlap_percentages_exons.svg</a><br>"
      ],
      "text/plain": [
       "/home/camille/w/2015-petMarSB/notebooks/lamp10_overlap_percentages_exons.svg"
      ]
     },
     "execution_count": 47,
     "metadata": {},
     "output_type": "execute_result"
    }
   ],
   "source": [
    "with FigManager('lamp10_overlap_percentages_exons', figsize=norm_size, show=True) as (fig, ax):\n",
    "    lamp10_overlaps[(lamp10_overlaps.overlap_type == 'overlaps') & \\\n",
    "                    (lamp10_overlaps.feature == 'exon')].percent.plot(kind='hist', \n",
    "                                                                                             fig=fig, ax=ax, bins=50)\n",
    "    ax.set_title('Overlap Percentages in Lamp10, exons')\n",
    "FileLink('lamp10_overlap_percentages_exons.svg')"
   ]
  },
  {
   "cell_type": "markdown",
   "metadata": {},
   "source": [
    "TODO\n",
    "1. Normalize vs. amount of genome covered by features\n",
    "2. Use lamp00 as control for this method X\n",
    "3. Pull out overlapped for more comparison X\n",
    "4. Do again with only transcripts mapping to genome + other and do same process\n",
    "5. Graph align old dna, new dna; transcripts\n",
    "6. CEGMA "
   ]
  },
  {
   "cell_type": "code",
   "execution_count": 150,
   "metadata": {
    "collapsed": false
   },
   "outputs": [],
   "source": [
    "store.close()"
   ]
  },
  {
   "cell_type": "code",
   "execution_count": 63,
   "metadata": {
    "collapsed": false
   },
   "outputs": [],
   "source": [
    "t = itree.IntervalTree()"
   ]
  },
  {
   "cell_type": "code",
   "execution_count": 45,
   "metadata": {
    "collapsed": false
   },
   "outputs": [],
   "source": [
    "t[0:5] = 'a'\n",
    "t[3:8] = 'b'"
   ]
  },
  {
   "cell_type": "code",
   "execution_count": 46,
   "metadata": {
    "collapsed": false
   },
   "outputs": [
    {
     "data": {
      "text/plain": [
       "IntervalTree([Interval(0, 5, 'a'), Interval(3, 8, 'b')])"
      ]
     },
     "execution_count": 46,
     "metadata": {},
     "output_type": "execute_result"
    }
   ],
   "source": [
    "t"
   ]
  },
  {
   "cell_type": "code",
   "execution_count": 62,
   "metadata": {
    "collapsed": false
   },
   "outputs": [
    {
     "data": {
      "text/plain": [
       "IntervalTree([Interval(1, 202, sseqid      GL477774\n",
       "pident         98.02\n",
       "length           202\n",
       "mismatch           4\n",
       "gapopen            0\n",
       "qstart             1\n",
       "qend             202\n",
       "sstart          7066\n",
       "send            6865\n",
       "evalue         2e-95\n",
       "bitscore         351\n",
       "Name: c423249_g1_i1, dtype: object)])"
      ]
     },
     "execution_count": 62,
     "metadata": {},
     "output_type": "execute_result"
    }
   ],
   "source": [
    "t"
   ]
  },
  {
   "cell_type": "code",
   "execution_count": 56,
   "metadata": {
    "collapsed": false
   },
   "outputs": [
    {
     "data": {
      "text/html": [
       "<div style=\"max-height:1000px;max-width:1500px;overflow:auto;\">\n",
       "<table border=\"1\" class=\"dataframe\">\n",
       "  <thead>\n",
       "    <tr style=\"text-align: right;\">\n",
       "      <th></th>\n",
       "      <th>sseqid</th>\n",
       "      <th>pident</th>\n",
       "      <th>length</th>\n",
       "      <th>mismatch</th>\n",
       "      <th>gapopen</th>\n",
       "      <th>qstart</th>\n",
       "      <th>qend</th>\n",
       "      <th>sstart</th>\n",
       "      <th>send</th>\n",
       "      <th>evalue</th>\n",
       "      <th>bitscore</th>\n",
       "    </tr>\n",
       "  </thead>\n",
       "  <tbody>\n",
       "    <tr>\n",
       "      <th>c423249_g1_i1</th>\n",
       "      <td>GL477774</td>\n",
       "      <td>98.02</td>\n",
       "      <td>202</td>\n",
       "      <td>4</td>\n",
       "      <td>0</td>\n",
       "      <td>1</td>\n",
       "      <td>202</td>\n",
       "      <td>7066</td>\n",
       "      <td>6865</td>\n",
       "      <td>2.000000e-95</td>\n",
       "      <td>351</td>\n",
       "    </tr>\n",
       "    <tr>\n",
       "      <th>c423249_g1_i1</th>\n",
       "      <td>GL480428</td>\n",
       "      <td>93.56</td>\n",
       "      <td>202</td>\n",
       "      <td>13</td>\n",
       "      <td>0</td>\n",
       "      <td>1</td>\n",
       "      <td>202</td>\n",
       "      <td>9476</td>\n",
       "      <td>9677</td>\n",
       "      <td>2.000000e-80</td>\n",
       "      <td>302</td>\n",
       "    </tr>\n",
       "    <tr>\n",
       "      <th>c423249_g1_i1</th>\n",
       "      <td>GL479112</td>\n",
       "      <td>91.58</td>\n",
       "      <td>202</td>\n",
       "      <td>17</td>\n",
       "      <td>0</td>\n",
       "      <td>1</td>\n",
       "      <td>202</td>\n",
       "      <td>9775</td>\n",
       "      <td>9574</td>\n",
       "      <td>8.000000e-74</td>\n",
       "      <td>279</td>\n",
       "    </tr>\n",
       "    <tr>\n",
       "      <th>c423249_g1_i1</th>\n",
       "      <td>GL484021</td>\n",
       "      <td>91.58</td>\n",
       "      <td>202</td>\n",
       "      <td>16</td>\n",
       "      <td>1</td>\n",
       "      <td>1</td>\n",
       "      <td>202</td>\n",
       "      <td>4149</td>\n",
       "      <td>3949</td>\n",
       "      <td>3.000000e-73</td>\n",
       "      <td>278</td>\n",
       "    </tr>\n",
       "    <tr>\n",
       "      <th>c423249_g1_i1</th>\n",
       "      <td>GL481484</td>\n",
       "      <td>91.04</td>\n",
       "      <td>201</td>\n",
       "      <td>18</td>\n",
       "      <td>0</td>\n",
       "      <td>1</td>\n",
       "      <td>201</td>\n",
       "      <td>169036</td>\n",
       "      <td>169236</td>\n",
       "      <td>1.000000e-71</td>\n",
       "      <td>272</td>\n",
       "    </tr>\n",
       "    <tr>\n",
       "      <th>c423249_g1_i1</th>\n",
       "      <td>GL482931</td>\n",
       "      <td>89.11</td>\n",
       "      <td>202</td>\n",
       "      <td>22</td>\n",
       "      <td>0</td>\n",
       "      <td>1</td>\n",
       "      <td>202</td>\n",
       "      <td>11304</td>\n",
       "      <td>11103</td>\n",
       "      <td>2.000000e-65</td>\n",
       "      <td>252</td>\n",
       "    </tr>\n",
       "  </tbody>\n",
       "</table>\n",
       "</div>"
      ],
      "text/plain": [
       "                 sseqid  pident  length  mismatch  gapopen  qstart  qend  \\\n",
       "c423249_g1_i1  GL477774   98.02     202         4        0       1   202   \n",
       "c423249_g1_i1  GL480428   93.56     202        13        0       1   202   \n",
       "c423249_g1_i1  GL479112   91.58     202        17        0       1   202   \n",
       "c423249_g1_i1  GL484021   91.58     202        16        1       1   202   \n",
       "c423249_g1_i1  GL481484   91.04     201        18        0       1   201   \n",
       "c423249_g1_i1  GL482931   89.11     202        22        0       1   202   \n",
       "\n",
       "               sstart    send        evalue  bitscore  \n",
       "c423249_g1_i1    7066    6865  2.000000e-95       351  \n",
       "c423249_g1_i1    9476    9677  2.000000e-80       302  \n",
       "c423249_g1_i1    9775    9574  8.000000e-74       279  \n",
       "c423249_g1_i1    4149    3949  3.000000e-73       278  \n",
       "c423249_g1_i1  169036  169236  1.000000e-71       272  \n",
       "c423249_g1_i1   11304   11103  2.000000e-65       252  "
      ]
     },
     "execution_count": 56,
     "metadata": {},
     "output_type": "execute_result"
    }
   ],
   "source": [
    "lamp10_pM_df.ix['c423249_g1_i1']"
   ]
  },
  {
   "cell_type": "code",
   "execution_count": 67,
   "metadata": {
    "collapsed": false
   },
   "outputs": [],
   "source": [
    "for key, row in lamp10_pM_df.ix['c423249_g1_i1'].iterrows():\n",
    "    start = min(row.qstart, row.qend)\n",
    "    end = max(row.qstart, row.qend)\n",
    "    t[start:end] = row.sseqid"
   ]
  },
  {
   "cell_type": "code",
   "execution_count": 69,
   "metadata": {
    "collapsed": false
   },
   "outputs": [],
   "source": [
    "t.merge_overlaps()"
   ]
  },
  {
   "cell_type": "code",
   "execution_count": 70,
   "metadata": {
    "collapsed": false
   },
   "outputs": [
    {
     "data": {
      "text/plain": [
       "IntervalTree([Interval(1, 202)])"
      ]
     },
     "execution_count": 70,
     "metadata": {},
     "output_type": "execute_result"
    }
   ],
   "source": [
    "t"
   ]
  },
  {
   "cell_type": "code",
   "execution_count": 77,
   "metadata": {
    "collapsed": false
   },
   "outputs": [],
   "source": [
    "db = {}"
   ]
  },
  {
   "cell_type": "code",
   "execution_count": 78,
   "metadata": {
    "collapsed": false
   },
   "outputs": [
    {
     "name": "stdout",
     "output_type": "stream",
     "text": [
      "Building BLAST interval trees\n",
      "0%                          100%\n",
      "[##############################] | ETA[sec]: 0.000 \n",
      "Total time elapsed: 863.877 sec\n"
     ]
    }
   ],
   "source": [
    "bar = pyprind.ProgBar(len(lamp10_pM_df), stream=1, title='Building BLAST interval trees')\n",
    "for query, row in lamp10_pM_df.iterrows():\n",
    "    bar.update()\n",
    "    subject = row.sseqid\n",
    "    if query not in db:\n",
    "        db[query] = itree.IntervalTree()\n",
    "    if subject not in db:\n",
    "        db[subject] = itree.IntervalTree()\n",
    "    \n",
    "    qstart = min(row.qstart, row.qend)\n",
    "    qend = max(row.qstart, row.qend)\n",
    "    db[query][qstart:qend] = subject\n",
    "    \n",
    "    sstart = min(row.sstart, row.send)\n",
    "    send = max(row.sstart, row.send)\n",
    "    db[subject][sstart:send] = query"
   ]
  },
  {
   "cell_type": "code",
   "execution_count": 80,
   "metadata": {
    "collapsed": false
   },
   "outputs": [
    {
     "data": {
      "text/plain": [
       "IntervalTree([Interval(1, 201, 'GL481484'), Interval(1, 202, 'GL477774'), Interval(1, 202, 'GL479112'), Interval(1, 202, 'GL480428'), Interval(1, 202, 'GL482931'), Interval(1, 202, 'GL484021')])"
      ]
     },
     "execution_count": 80,
     "metadata": {},
     "output_type": "execute_result"
    }
   ],
   "source": [
    "db['c423249_g1_i1']"
   ]
  },
  {
   "cell_type": "code",
   "execution_count": 81,
   "metadata": {
    "collapsed": false
   },
   "outputs": [
    {
     "data": {
      "text/plain": [
       "IntervalTree([Interval(122, 159, 'c324467_g1_i1'), Interval(122, 159, 'c324467_g1_i2'), Interval(191, 341, 'c337672_g2_i1'), Interval(191, 341, 'c337672_g2_i2'), Interval(191, 404, 'c348062_g1_i2'), Interval(252, 404, 'c348062_g1_i1'), Interval(259, 668, 'c351170_g2_i2'), Interval(319, 668, 'c351170_g2_i3'), Interval(472, 889, 'c349309_g3_i1'), Interval(593, 634, 'c379082_g1_i1'), Interval(1105, 1141, 'c257255_g1_i1'), Interval(1260, 1358, 'c350846_g3_i1'), Interval(1439, 1481, 'c345161_g1_i5'), Interval(1502, 1575, 'c364369_g4_i1'), Interval(1502, 1576, 'c364369_g2_i1'), Interval(1502, 1576, 'c364369_g2_i2'), Interval(1591, 1739, 'c42347_g1_i1'), Interval(2658, 2704, 'c351836_g2_i1'), Interval(3069, 3199, 'c42347_g1_i1'), Interval(3167, 3199, 'c341733_g1_i1'), Interval(3378, 3415, 'c352823_g3_i3'), Interval(3378, 3564, 'c352823_g3_i2'), Interval(3378, 3569, 'c352823_g3_i1'), Interval(3573, 3886, 'c360935_g5_i1'), Interval(3660, 3868, 'c364099_g8_i1'), Interval(3943, 4158, 'c192354_g1_i1'), Interval(4036, 4158, 'c192354_g1_i2'), Interval(4049, 4216, 'c358411_g4_i1'), Interval(4049, 4216, 'c358411_g4_i2'), Interval(4932, 4974, 'c373341_g4_i4'), Interval(4932, 4974, 'c373341_g4_i6'), Interval(5056, 5473, 'c213738_g1_i1'), Interval(5076, 5473, 'c213738_g1_i2'), Interval(5117, 5473, 'c213738_g1_i3'), Interval(5459, 5550, 'c306277_g1_i1'), Interval(5723, 5946, 'c134353_g1_i1'), Interval(5945, 6039, 'c226201_g1_i1'), Interval(6792, 7091, 'c323422_g1_i1'), Interval(7247, 8555, 'c372527_g1_i1'), Interval(7564, 7851, 'c372527_g1_i3'), Interval(7816, 7983, 'c294482_g1_i1'), Interval(8130, 8346, 'c372527_g1_i2'), Interval(8552, 8780, 'c323422_g1_i1'), Interval(9332, 9522, 'c353788_g2_i1'), Interval(9539, 9674, 'c226201_g1_i1'), Interval(9658, 9740, 'c134353_g1_i1'), Interval(9744, 9994, 'c134353_g2_i1'), Interval(10005, 10264, 'c376273_g5_i1'), Interval(10378, 10484, 'c297594_g1_i2'), Interval(10803, 10860, 'c343518_g1_i3'), Interval(10803, 10860, 'c343518_g1_i4'), Interval(10901, 11034, 'c366797_g1_i1'), Interval(11026, 11120, 'c369322_g1_i1'), Interval(11028, 11096, 'c351657_g1_i1'), Interval(11028, 11127, 'c351657_g1_i2'), Interval(11107, 11286, 'c228862_g1_i1'), Interval(11179, 11452, 'c354445_g4_i2'), Interval(11179, 12123, 'c354445_g4_i3'), Interval(12626, 12822, 'c359335_g5_i1'), Interval(12626, 12822, 'c359335_g5_i3'), Interval(12626, 12822, 'c359335_g5_i4'), Interval(12626, 12822, 'c359335_g5_i6'), Interval(12626, 12822, 'c359335_g5_i7'), Interval(12664, 12794, 'c377262_g6_i1'), Interval(12671, 12866, 'c359335_g7_i1'), Interval(12674, 12800, 'c359335_g8_i1'), Interval(12674, 12800, 'c359335_g8_i2'), Interval(12935, 13193, 'c376273_g3_i1'), Interval(12945, 13121, 'c359335_g4_i1'), Interval(13031, 13751, 'c376273_g4_i1'), Interval(13133, 13173, 'c355296_g1_i1'), Interval(13133, 13173, 'c355296_g1_i2'), Interval(13662, 13801, 'c360935_g7_i1'), Interval(13665, 13952, 'c376273_g2_i3'), Interval(13665, 13952, 'c376273_g2_i4'), Interval(13665, 13952, 'c376273_g2_i5'), Interval(13665, 13952, 'c376273_g2_i6'), Interval(13665, 13952, 'c376273_g2_i7'), Interval(13665, 14245, 'c376273_g2_i1'), Interval(13672, 13801, 'c360935_g7_i2'), Interval(13773, 13952, 'c376273_g2_i2'), Interval(13831, 14213, 'c350720_g1_i5'), Interval(13873, 14022, 'c372810_g4_i3'), Interval(13873, 14504, 'c372810_g4_i1'), Interval(13873, 14504, 'c372810_g4_i2'), Interval(13879, 14213, 'c350720_g1_i1'), Interval(14023, 14178, 'c372810_g4_i4'), Interval(14630, 14696, 'c277823_g1_i1'), Interval(14687, 14724, 'c277823_g1_i1'), Interval(14832, 15172, 'c372905_g1_i5'), Interval(14832, 15202, 'c372905_g1_i2'), Interval(14832, 15202, 'c372905_g1_i4'), Interval(14937, 15113, 'c374977_g9_i1'), Interval(14938, 15202, 'c374977_g1_i2'), Interval(14954, 15202, 'c372905_g1_i6'), Interval(15044, 15188, 'c354455_g3_i1'), Interval(15044, 15192, 'c354455_g3_i2'), Interval(15053, 15202, 'c374977_g1_i1'), Interval(15065, 15202, 'c374977_g1_i3'), Interval(15122, 15208, 'c374977_g4_i1'), Interval(15122, 15208, 'c374977_g4_i2'), Interval(15328, 15414, 'c357500_g4_i1'), Interval(15612, 15647, 'c509579_g1_i1'), Interval(15813, 16015, 'c110805_g1_i1'), Interval(15992, 16044, 'c350393_g1_i1'), Interval(15996, 16048, 'c259095_g1_i1'), Interval(16037, 17257, 'c371302_g1_i1'), Interval(17762, 18154, 'c477839_g1_i1'), Interval(18342, 18547, 'c359794_g5_i4'), Interval(18342, 18610, 'c363558_g6_i1'), Interval(18342, 18610, 'c363558_g6_i3'), Interval(18347, 18547, 'c359794_g5_i2'), Interval(18472, 18647, 'c379070_g1_i1'), Interval(18493, 18647, 'c379070_g1_i2'), Interval(19590, 19624, 'c356191_g1_i1'), Interval(19601, 19813, 'c301310_g1_i1'), Interval(19943, 20072, 'c369366_g3_i5'), Interval(19943, 20072, 'c369366_g3_i8'), Interval(19943, 20074, 'c369366_g3_i1'), Interval(19943, 20074, 'c369366_g3_i10'), Interval(19943, 20074, 'c369366_g3_i2'), Interval(19943, 20074, 'c369366_g3_i7'), Interval(19943, 20074, 'c369366_g3_i9'), Interval(21301, 21908, 'c369366_g2_i1'), Interval(157866, 158018, 'c409955_g1_i1'), Interval(158061, 158129, 'c363558_g6_i2'), Interval(158061, 158129, 'c363558_g6_i3'), Interval(158061, 158129, 'c363558_g6_i4'), Interval(158139, 158817, 'c372527_g1_i1'), Interval(158200, 158485, 'c372527_g1_i3'), Interval(158206, 158486, 'c313413_g1_i1'), Interval(159729, 160018, 'c318819_g1_i1'), Interval(160076, 160688, 'c368433_g4_i1'), Interval(160937, 161476, 'c369366_g8_i1'), Interval(160937, 161526, 'c369366_g8_i2'), Interval(161518, 161560, 'c369366_g8_i2'), Interval(161518, 162221, 'c369366_g3_i4'), Interval(161719, 161840, 'c369366_g3_i5'), Interval(161719, 162221, 'c369366_g3_i8'), Interval(161818, 162006, 'c369366_g3_i6'), Interval(162345, 163029, 'c326856_g1_i2'), Interval(162443, 162559, 'c326856_g2_i1'), Interval(162618, 163029, 'c326856_g1_i1'), Interval(162992, 163067, 'c369014_g4_i2'), Interval(163029, 163391, 'c221228_g1_i1'), Interval(163398, 163475, 'c328950_g1_i1'), Interval(163408, 163601, 'c370441_g3_i1'), Interval(163408, 163795, 'c370441_g3_i3'), Interval(163775, 163825, 'c357700_g2_i1'), Interval(164159, 164201, 'c224909_g1_i1'), Interval(164159, 164201, 'c224909_g1_i2'), Interval(164159, 164268, 'c344239_g5_i1'), Interval(164163, 164268, 'c344239_g4_i1'), Interval(164163, 164284, 'c320338_g2_i1'), Interval(164163, 164430, 'c378768_g3_i1'), Interval(164163, 164430, 'c378768_g3_i2'), Interval(164200, 164430, 'c378768_g3_i3'), Interval(164445, 164650, 'c378768_g4_i1'), Interval(164494, 164734, 'c378768_g1_i3'), Interval(164494, 164736, 'c378768_g1_i1'), Interval(164494, 164736, 'c378768_g1_i2'), Interval(164535, 164736, 'c378768_g1_i4'), Interval(164541, 164730, 'c351049_g1_i3'), Interval(164616, 164731, 'c351049_g1_i1'), Interval(165071, 165658, 'c240961_g1_i2'), Interval(165329, 165658, 'c240961_g1_i1'), Interval(165657, 165706, 'c365414_g1_i2'), Interval(165657, 165706, 'c365414_g1_i3'), Interval(165657, 165706, 'c365414_g1_i4'), Interval(165657, 165706, 'c365414_g1_i7'), Interval(165657, 165786, 'c446145_g1_i1'), Interval(165797, 165995, 'c488546_g1_i1'), Interval(166142, 166304, 'c379241_g2_i1'), Interval(166142, 166304, 'c379241_g2_i2'), Interval(166142, 166304, 'c379241_g2_i3'), Interval(166142, 166304, 'c379241_g2_i4'), Interval(166142, 166304, 'c379241_g2_i5'), Interval(166142, 166304, 'c379241_g2_i7'), Interval(166345, 166417, 'c373188_g1_i1'), Interval(166574, 166947, 'c161182_g1_i1'), Interval(167164, 167365, 'c300605_g1_i2'), Interval(167164, 167399, 'c300605_g1_i3'), Interval(167180, 167380, 'c227553_g1_i1'), Interval(167490, 168016, 'c367094_g1_i1'), Interval(167490, 168016, 'c367094_g1_i2'), Interval(167490, 168016, 'c367094_g1_i3'), Interval(167490, 168016, 'c367094_g1_i4'), Interval(167490, 168016, 'c367094_g1_i5'), Interval(167490, 168023, 'c367094_g1_i6'), Interval(167491, 167536, 'c322960_g1_i1'), Interval(167921, 170140, 'c377321_g1_i3'), Interval(167921, 170418, 'c377321_g1_i6'), Interval(168251, 168503, 'c181111_g1_i1'), Interval(168733, 168957, 'c102706_g1_i1'), Interval(168874, 169374, 'c333713_g1_i5'), Interval(168890, 169374, 'c333713_g1_i1'), Interval(168890, 169402, 'c333713_g1_i2'), Interval(169036, 169236, 'c423249_g1_i1'), Interval(169425, 169738, 'c377321_g1_i1'), Interval(169425, 169738, 'c377321_g1_i2'), Interval(169670, 169946, 'c377321_g1_i7'), Interval(169676, 169982, 'c377321_g1_i4'), Interval(169676, 169982, 'c377321_g1_i5'), Interval(169798, 169930, 'c377321_g1_i2'), Interval(169798, 169982, 'c377321_g1_i1'), Interval(169838, 170085, 'c304560_g1_i2'), Interval(170283, 170590, 'c351258_g1_i1'), Interval(170336, 170856, 'c349519_g1_i1'), Interval(170530, 170856, 'c349519_g1_i2'), Interval(170647, 171667, 'c378418_g1_i1'), Interval(171050, 171266, 'c378418_g2_i1'), Interval(171117, 171614, 'c345636_g1_i1'), Interval(171169, 171503, 'c319644_g1_i1'), Interval(171592, 171949, 'c350411_g2_i2'), Interval(171592, 172057, 'c350411_g2_i1'), Interval(171629, 172057, 'c350411_g2_i3'), Interval(171680, 172057, 'c372511_g2_i1'), Interval(171680, 172057, 'c372511_g2_i2'), Interval(171740, 171985, 'c350411_g1_i2'), Interval(171781, 171985, 'c350411_g1_i1')])"
      ]
     },
     "execution_count": 81,
     "metadata": {},
     "output_type": "execute_result"
    }
   ],
   "source": [
    "db['GL481484']"
   ]
  },
  {
   "cell_type": "code",
   "execution_count": null,
   "metadata": {
    "collapsed": false
   },
   "outputs": [],
   "source": []
  }
 ],
 "metadata": {
  "kernelspec": {
   "display_name": "Python 2",
   "language": "python",
   "name": "python2"
  },
  "language_info": {
   "codemirror_mode": {
    "name": "ipython",
    "version": 2
   },
   "file_extension": ".py",
   "mimetype": "text/x-python",
   "name": "python",
   "nbconvert_exporter": "python",
   "pygments_lexer": "ipython2",
   "version": "2.7.10"
  }
 },
 "nbformat": 4,
 "nbformat_minor": 0
}
