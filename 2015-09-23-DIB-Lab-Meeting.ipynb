{
 "cells": [
  {
   "cell_type": "code",
   "execution_count": 95,
   "metadata": {
    "collapsed": false,
    "slideshow": {
     "slide_type": "skip"
    }
   },
   "outputs": [
    {
     "name": "stdout",
     "output_type": "stream",
     "text": [
      "The autoreload extension is already loaded. To reload it, use:\n",
      "  %reload_ext autoreload\n"
     ]
    },
    {
     "data": {
      "application/javascript": [
       "IPython.notebook.set_autosave_interval(60000)"
      ]
     },
     "metadata": {},
     "output_type": "display_data"
    },
    {
     "name": "stdout",
     "output_type": "stream",
     "text": [
      "Autosaving every 60 seconds\n"
     ]
    },
    {
     "name": "stderr",
     "output_type": "stream",
     "text": [
      "** Using data resources found in resources.json\n",
      "** Using config found in config.json\n"
     ]
    }
   ],
   "source": [
    "%load_ext autoreload\n",
    "%autoreload 2\n",
    "%autosave 60\n",
    "\n",
    "from petmarrna.libs import *\n",
    "%run -i common.ipy"
   ]
  },
  {
   "cell_type": "code",
   "execution_count": 96,
   "metadata": {
    "collapsed": false,
    "slideshow": {
     "slide_type": "skip"
    }
   },
   "outputs": [
    {
     "name": "stdout",
     "output_type": "stream",
     "text": [
      "Populating the interactive namespace from numpy and matplotlib\n"
     ]
    }
   ],
   "source": [
    "%pylab inline\n",
    "import seaborn as sns\n",
    "sns.set_style('ticks')\n",
    "sns.set_palette('hls')\n",
    "figsize(12,8)"
   ]
  },
  {
   "cell_type": "code",
   "execution_count": 97,
   "metadata": {
    "collapsed": true,
    "slideshow": {
     "slide_type": "skip"
    }
   },
   "outputs": [],
   "source": [
    "from IPython.display import Latex, HTML, Image"
   ]
  },
  {
   "cell_type": "code",
   "execution_count": 98,
   "metadata": {
    "collapsed": false,
    "slideshow": {
     "slide_type": "skip"
    }
   },
   "outputs": [
    {
     "data": {
      "text/plain": [
       "{u'start_slideshow_at': 'selected', u'theme': 'serif', u'transition': 'zoom'}"
      ]
     },
     "execution_count": 98,
     "metadata": {},
     "output_type": "execute_result"
    }
   ],
   "source": [
    "# Slideshow configuration\n",
    "\n",
    "from notebook.services.config import ConfigManager\n",
    "cm = ConfigManager()\n",
    "cm.update('livereveal', {\n",
    "              'theme': 'serif',\n",
    "              'transition': 'zoom',\n",
    "              'start_slideshow_at': 'selected',\n",
    "})"
   ]
  },
  {
   "cell_type": "code",
   "execution_count": 99,
   "metadata": {
    "collapsed": false,
    "slideshow": {
     "slide_type": "skip"
    }
   },
   "outputs": [
    {
     "data": {
      "text/html": [
       "<style>\n",
       "        .right_aligned_df td { text-align: right; }\n",
       "        .left_aligned_df td { text-align: right; }\n",
       "        .no_border_df table {border: none;}\n",
       "        </style>"
      ],
      "text/plain": [
       "<IPython.core.display.HTML object>"
      ]
     },
     "execution_count": 99,
     "metadata": {},
     "output_type": "execute_result"
    }
   ],
   "source": [
    "HTML('''<style>\n",
    "        .right_aligned_df td { text-align: right; }\n",
    "        .left_aligned_df td { text-align: right; }\n",
    "        .no_border_df table {border: none;}\n",
    "        </style>''')"
   ]
  },
  {
   "cell_type": "markdown",
   "metadata": {
    "slideshow": {
     "slide_type": "slide"
    }
   },
   "source": [
    "### Many-Sample *de novo* Transcriptome Analysis of the cyclostome *P. marinus*\n",
    "\n",
    "#### or, how I learned to stop worrying and love the lamprey\n",
    "\n",
    "-----\n",
    "\n",
    "![lamprey](http://upload.wikimedia.org/wikipedia/commons/2/28/Petromyzon_marinus.jpg)\n",
    "\n",
    "-----\n",
    "\n",
    "##### Camille Scott 2015-09-23\n",
    "##### DIB Lab Meeting\n",
    "##### University of California, Davis"
   ]
  },
  {
   "cell_type": "markdown",
   "metadata": {
    "collapsed": true,
    "slideshow": {
     "slide_type": "slide"
    }
   },
   "source": [
    "-----\n",
    "### Overview\n",
    "\n",
    "1. Concerning Lampreys *(\"this is dumb, why do I care?\")* \n",
    "2. Project Goals\n",
    "2. Challenges           *(\"transcriptomes are dumb, why do I care?\")*\n",
    "3. Results *(\"can de novo assembly actually *do* anything?)*\n",
    "  \n",
    "4. Related Projects *(\"why haven't you published this yet?\")*\n",
    "5. Endmatter *(\"just let me leave\")*\n",
    "-----"
   ]
  },
  {
   "cell_type": "markdown",
   "metadata": {
    "slideshow": {
     "slide_type": "fragment"
    }
   },
   "source": [
    "#### Meta\n",
    "\n",
    "I'd prefer to answer questions at the end, so I request we keep interruptions at a minimum :)"
   ]
  },
  {
   "cell_type": "markdown",
   "metadata": {
    "slideshow": {
     "slide_type": "slide"
    }
   },
   "source": [
    "-----\n",
    "### Concerning Lampreys\n",
    "\n",
    "* *P. marinus*, common name Sea lamprey, is a species of parasitic lamprey\n",
    "    - There are 38 lamprey species, 17 of which are parasitic (Hardisty 2006)\n",
    "* Lampreys are *jawless* vertebrates, or *agnathans*\n",
    "    - Along with hagfish, they compose the *cyclostomes*\n",
    "    - They are the closest extent relative of the ancestor to jawed vertebrates, the *gnathostomes*\n",
    "    - As such, they're an important species for understanding vertebrate evolution (Smith 2013)\n",
    "-----    "
   ]
  },
  {
   "cell_type": "markdown",
   "metadata": {
    "slideshow": {
     "slide_type": "subslide"
    }
   },
   "source": [
    "-----\n",
    "![Abridged vertebrate phylogeny](figures/ng.2568-F1.jpg)\n",
    "\n",
    "<center>*An abridged vertbrate phylogeny (Smith 2013)*</center>\n",
    "\n",
    "-----"
   ]
  },
  {
   "cell_type": "markdown",
   "metadata": {
    "slideshow": {
     "slide_type": "slide"
    }
   },
   "source": [
    "-----\n",
    "### About the Project\n",
    "\n",
    "<br>\n",
    "<center> \"What can we do with 84 RNA-seq samples of varying quality?\" </center>\n",
    "\n",
    "-----"
   ]
  },
  {
   "cell_type": "code",
   "execution_count": 100,
   "metadata": {
    "collapsed": true,
    "slideshow": {
     "slide_type": "skip"
    }
   },
   "outputs": [],
   "source": [
    "def get_table(df, columns):\n",
    "    formatters={'paired': lambda x: 'paired' if x else 'single',\n",
    "                'label': lambda x: ' '.join(x.split('_'))}\n",
    "    return HTML(df.to_html(index=False, columns=columns, header=False, \n",
    "                           classes='no_border_df', formatters=formatters).replace('border=\"1\"','border=\"0\"'))"
   ]
  },
  {
   "cell_type": "code",
   "execution_count": 101,
   "metadata": {
    "collapsed": false,
    "slideshow": {
     "slide_type": "skip"
    }
   },
   "outputs": [],
   "source": [
    "sub = get_table(sample_df.ix[:10], ['label', 'tissue', 'paired'])"
   ]
  },
  {
   "cell_type": "markdown",
   "metadata": {
    "slideshow": {
     "slide_type": "subslide"
    },
    "variables": {
     "sub": "<table border=\"0\" class=\"dataframe no_border_df\">\n  <tbody>\n    <tr>\n      <td>embryo stg18 614GM</td>\n      <td>embryo</td>\n      <td>single</td>\n    </tr>\n    <tr>\n      <td>embryo stg20 614GM</td>\n      <td>embryo</td>\n      <td>single</td>\n    </tr>\n    <tr>\n      <td>embryo stg22a 614GM</td>\n      <td>embryo</td>\n      <td>single</td>\n    </tr>\n    <tr>\n      <td>embryo stg22b 614GM</td>\n      <td>embryo</td>\n      <td>single</td>\n    </tr>\n    <tr>\n      <td>embryo stg23 614GM</td>\n      <td>embryo</td>\n      <td>single</td>\n    </tr>\n    <tr>\n      <td>embryo stg24c1 614GM</td>\n      <td>embryo</td>\n      <td>single</td>\n    </tr>\n    <tr>\n      <td>embryo stg24c2 614GM</td>\n      <td>embryo</td>\n      <td>single</td>\n    </tr>\n    <tr>\n      <td>brain larval AB057</td>\n      <td>brain</td>\n      <td>paired</td>\n    </tr>\n    <tr>\n      <td>intest adult 614GM</td>\n      <td>intest</td>\n      <td>single</td>\n    </tr>\n    <tr>\n      <td>kidney adult 614GM</td>\n      <td>kidney</td>\n      <td>single</td>\n    </tr>\n  </tbody>\n</table>"
    }
   },
   "source": [
    "-----\n",
    "\n",
    "{{sub}}\n",
    "\n",
    "-----"
   ]
  },
  {
   "cell_type": "markdown",
   "metadata": {
    "collapsed": true,
    "slideshow": {
     "slide_type": "subslide"
    }
   },
   "source": [
    "-----\n",
    "\n",
    "#### As it turns out, a lot!\n",
    "\n",
    "* Transcriptome assembly, which leads to...\n",
    "    - Gene-content assessment\n",
    "    - Genome cross-validation\n",
    "    - Isoform characterization\n",
    "    - Differential expression\n",
    "    \n",
    "-----"
   ]
  },
  {
   "cell_type": "markdown",
   "metadata": {
    "slideshow": {
     "slide_type": "slide"
    }
   },
   "source": [
    "-----\n",
    "\n",
    "### Goal\n",
    "\n",
    "* So, our goal is to produce a high-quality set of reference transcripts for the sea lamprey community\n",
    "* We chose de novo assembly due to an incomplete reference genome\n",
    "* This wealth of new data should allow us to address some fundamental questions about vertebrate evolution\n",
    "\n",
    "-----"
   ]
  },
  {
   "cell_type": "markdown",
   "metadata": {
    "slideshow": {
     "slide_type": "slide"
    }
   },
   "source": [
    "-----\n",
    "\n",
    "### Challenges\n",
    "\n",
    "* A lot of our data is old -- 36bp Solexa reads.\n",
    "* Our data was generated by many different people in multiple labs and sequencing centers.\n",
    "* There is a *lot* of it -- 3-5 billion reads, depending on what we include.\n",
    "* Error starts to become unmanageable with increasing coverage\n",
    "\n",
    "-----"
   ]
  },
  {
   "cell_type": "markdown",
   "metadata": {
    "slideshow": {
     "slide_type": "subslide"
    }
   },
   "source": [
    "-----\n",
    "* Programmed Genome Rearrangement\n",
    "    - Sea lampreys undergo a programmed genome rearrangement during embryonic development\n",
    "\n",
    "    <br>\n",
    "    <center>![PGR](http://www.pnas.org/content/106/27/11212/F1.medium.gif)</center>\n",
    "    <center>*DNA weight in soma and germline (Smith 2009)*</center>\n",
    "\n",
    "    - So not only will our different tissues produce different transcripts due to alternative splicing, but because they originate from different genomes!\n",
    "-----"
   ]
  },
  {
   "cell_type": "markdown",
   "metadata": {
    "slideshow": {
     "slide_type": "subslide"
    }
   },
   "source": [
    "-----\n",
    "\n",
    "* High GC Content\n",
    "    - 46% for the whole genome\n",
    "    - 67% for the coding regions (Smith 2013)\n",
    "-----"
   ]
  },
  {
   "cell_type": "markdown",
   "metadata": {
    "slideshow": {
     "slide_type": "slide"
    }
   },
   "source": [
    "-----\n",
    "\n",
    "#### Methods\n",
    "##### How are we confronting those challenges?\n",
    "\n",
    "1. Pooled de novo assembly\n",
    "    - Maximizes sensitivity at the cost of specificity\n",
    "    - Confronts the issue of some of our samples being old and low-coverage\n",
    "    - Confronts the reference genome issue\n",
    "2. Extreme Preprocessing\n",
    "    - Digital normalization to remove redundant reads and shift coverage profile\n",
    "    - Abundance filtering to remove redundant and error-prone reads\n",
    "3. Cross-validation\n",
    "    - Germline DNA to cross-validate transcripts\n",
    "\n",
    "-----"
   ]
  },
  {
   "cell_type": "code",
   "execution_count": 102,
   "metadata": {
    "collapsed": false,
    "slideshow": {
     "slide_type": "skip"
    }
   },
   "outputs": [],
   "source": [
    "trim_cfg = config['pipeline']['trimmomatic']['params']\n",
    "dg_cfg = '-C {coverage} -k {ksize}'.format(**config['pipeline']['khmer']['normalize']['single'])\n",
    "abund_cfg = '-V -Z {coverage} -C {min_abund}'.format(**config['pipeline']['khmer']['filter-abund'])"
   ]
  },
  {
   "cell_type": "markdown",
   "metadata": {
    "slideshow": {
     "slide_type": "subslide"
    },
    "variables": {
     "abund_cfg": "-V -Z 20 -C 2",
     "dg_cfg": "-C 20 -k 25",
     "trim_cfg": "LEADING:3 TRAILING:3 SLIDINGWINDOW:4:15 MINLEN:32"
    }
   },
   "source": [
    "-----\n",
    "\n",
    "#### Pipeline Sketch\n",
    "\n",
    "##### Preprocessing\n",
    "1. Trimmomatic\n",
    "   - `{{trim_cfg}}`\n",
    "2. Digital normalization.\n",
    "   - Two passes: first, each sample individually; then, a run through all samples.\n",
    "   - `{{dg_cfg}}`\n",
    "3. Abundance filtering\n",
    "   - Variable coverage flag, using the k-mer catalogue from the pooled digital normalization\n",
    "   - `{{abund_cfg}}`\n",
    "\n",
    "-----"
   ]
  },
  {
   "cell_type": "markdown",
   "metadata": {
    "slideshow": {
     "slide_type": "subslide"
    }
   },
   "source": [
    "-----\n",
    "\n",
    "##### Assembly and Beyond\n",
    "4. Trinity (Grabherr 2011)\n",
    "   - This is run with a variety of settings\n",
    "   - Usually with `--jaccard_clip` and one of `--PasaFly` or `--CuffFly`, to reduce erroneous transcripts\n",
    "5. Post-processing analysis\n",
    "   - Homology and orthology search\n",
    "   - Genome cross-validation\n",
    "   - Coding region prediction\n",
    "   - Annotation\n",
    "  \n",
    "-----"
   ]
  },
  {
   "cell_type": "markdown",
   "metadata": {
    "slideshow": {
     "slide_type": "slide"
    }
   },
   "source": [
    "-----\n",
    "\n",
    "### Assembly Results\n",
    "\n",
    "* Our assembly is codenamed `lamp10`, which is quite creative. \n",
    "    - It's the tenth iteration of the main line of assemblies (not counting subsets, test runs, and so forth).\n",
    "* `petMar2.cdna` or `lamp00` refer to the existing set of ab initio reference transcripts."
   ]
  },
  {
   "cell_type": "code",
   "execution_count": 103,
   "metadata": {
    "collapsed": false,
    "slideshow": {
     "slide_type": "skip"
    }
   },
   "outputs": [],
   "source": [
    "stats = {\n",
    "    \"med\": 349.0,\n",
    "    \"N50len\": 670,\n",
    "    \"max\": 13664,\n",
    "    \"25_mers\": 363607535,\n",
    "    \"N\": 715345,\n",
    "    \"25_mers_unique\": 240174557,\n",
    "    \"redundancy\": 0.34,\n",
    "    \"GCperc\": 0.49,\n",
    "    \"min\": 201,\n",
    "    \"sum\": 382206505,\n",
    "    \"N50pos\": 565212,\n",
    "    \"mean\": 534.29674492727281\n",
    "}\n",
    "\n",
    "N = stats['N']\n",
    "N50 = stats['N50len']\n",
    "kmer_redundancy = stats['redundancy']\n",
    "GC = stats['GCperc']"
   ]
  },
  {
   "cell_type": "markdown",
   "metadata": {
    "slideshow": {
     "slide_type": "fragment"
    },
    "variables": {
     "GC": "0.49",
     "N": "715345",
     "N50": "670",
     "kmer_redundancy": "0.34"
    }
   },
   "source": [
    "#### Basic Properties\n",
    "\n",
    "\n",
    "\n",
    " Stat     |   Result    \n",
    "----------|-------------\n",
    " N        |     {{N}}   \n",
    " N50      |     {{N50}} \n",
    " GC       |     {{GC}}  \n",
    " Redundancy  |     {{kmer_redundancy}}\n",
    "\n",
    "\n",
    "<center><small> redundancy is measured $1.0 - \\frac{kmers_{unique}}{kmers_{total}}$ </small></center>\n",
    "\n"
   ]
  },
  {
   "cell_type": "markdown",
   "metadata": {
    "slideshow": {
     "slide_type": "fragment"
    }
   },
   "source": [
    "These simple stats actually tell us a lot. Firstly, our transcriptome is BIG. That's a lot transcripts. Secondly, it has a lot of redundancy -- 34% of all k-mers are non-unique. This is not entirely surprising with our pooled approach, but it's important to know.\n",
    "\n",
    "-----"
   ]
  },
  {
   "cell_type": "markdown",
   "metadata": {
    "slideshow": {
     "slide_type": "subslide"
    }
   },
   "source": [
    "-----\n",
    "\n",
    "#### Completeness\n",
    "\n",
    "We can assess completeness in terms of gene recall using BUSCO, a program similar to cegma, which searches a database for a curated group of core genes (Zdobnov 2015)."
   ]
  },
  {
   "cell_type": "code",
   "execution_count": 19,
   "metadata": {
    "collapsed": true,
    "slideshow": {
     "slide_type": "fragment"
    }
   },
   "outputs": [],
   "source": [
    "from petmarrna import buscotools as bt\n",
    "with open('results/busco.results.json') as fp:\n",
    "    busco_data = json.load(fp)\n",
    "    busco_data = bt.formatted(pd.DataFrame(busco_data))"
   ]
  },
  {
   "cell_type": "markdown",
   "metadata": {
    "collapsed": true,
    "slideshow": {
     "slide_type": "fragment"
    }
   },
   "source": [
    "An aside: major kudos to the cegma authors for directing users to BUSCO on their site.\n",
    "\n",
    "-----"
   ]
  },
  {
   "cell_type": "code",
   "execution_count": 21,
   "metadata": {
    "collapsed": false,
    "scrolled": true,
    "slideshow": {
     "slide_type": "subslide"
    }
   },
   "outputs": [
    {
     "data": {
      "text/html": [
       "<div>\n",
       "<table border=\"1\" class=\"dataframe\">\n",
       "  <thead>\n",
       "    <tr>\n",
       "      <th></th>\n",
       "      <th colspan=\"5\" halign=\"left\">metazoa</th>\n",
       "      <th colspan=\"5\" halign=\"left\">vertebrata</th>\n",
       "    </tr>\n",
       "    <tr>\n",
       "      <th></th>\n",
       "      <th>C(%)</th>\n",
       "      <th>D(%)</th>\n",
       "      <th>F(%)</th>\n",
       "      <th>M(%)</th>\n",
       "      <th>n</th>\n",
       "      <th>C(%)</th>\n",
       "      <th>D(%)</th>\n",
       "      <th>F(%)</th>\n",
       "      <th>M(%)</th>\n",
       "      <th>n</th>\n",
       "    </tr>\n",
       "    <tr>\n",
       "      <th>fn</th>\n",
       "      <th></th>\n",
       "      <th></th>\n",
       "      <th></th>\n",
       "      <th></th>\n",
       "      <th></th>\n",
       "      <th></th>\n",
       "      <th></th>\n",
       "      <th></th>\n",
       "      <th></th>\n",
       "      <th></th>\n",
       "    </tr>\n",
       "  </thead>\n",
       "  <tbody>\n",
       "    <tr>\n",
       "      <th>lamp10.fasta</th>\n",
       "      <td>66</td>\n",
       "      <td>43</td>\n",
       "      <td>27</td>\n",
       "      <td>5.9</td>\n",
       "      <td>843</td>\n",
       "      <td>38</td>\n",
       "      <td>23</td>\n",
       "      <td>10</td>\n",
       "      <td>50</td>\n",
       "      <td>3023</td>\n",
       "    </tr>\n",
       "    <tr>\n",
       "      <th>petMar2.cdna.fa</th>\n",
       "      <td>48</td>\n",
       "      <td>6.4</td>\n",
       "      <td>15</td>\n",
       "      <td>36</td>\n",
       "      <td>843</td>\n",
       "      <td>28</td>\n",
       "      <td>2.0</td>\n",
       "      <td>5.1</td>\n",
       "      <td>66</td>\n",
       "      <td>3023</td>\n",
       "    </tr>\n",
       "  </tbody>\n",
       "</table>\n",
       "</div>"
      ],
      "text/plain": [
       "                metazoa                     vertebrata                     \n",
       "                   C(%) D(%) F(%) M(%)    n       C(%) D(%) F(%) M(%)     n\n",
       "fn                                                                         \n",
       "lamp10.fasta         66   43   27  5.9  843         38   23   10   50  3023\n",
       "petMar2.cdna.fa      48  6.4   15   36  843         28  2.0  5.1   66  3023"
      ]
     },
     "execution_count": 21,
     "metadata": {},
     "output_type": "execute_result"
    }
   ],
   "source": [
    "busco_data"
   ]
  },
  {
   "cell_type": "markdown",
   "metadata": {
    "slideshow": {
     "slide_type": "fragment"
    }
   },
   "source": [
    "<center><small> *C=Complete Gene, D=Duplicate Gene, F=Fragmented, M=Missing, n=BUSCO group size* </small></center>\n",
    "\n",
    "Two things stand out here:\n",
    "\n",
    "   1. Our assembly has much better recall than lamp00 in both databases\n",
    "   2. Both lamprey transcriptomes perform much better on the metazoan database than the vertebrata. \n",
    "       - This is likely due to the vertebrate database being biased for genes lost in lamprey\n",
    "       - An evaluation of *Branchiostoma floridae* (the model cephalochordate) will be added for a control\n",
    "\n",
    "-----"
   ]
  },
  {
   "cell_type": "markdown",
   "metadata": {
    "slideshow": {
     "slide_type": "subslide"
    }
   },
   "source": [
    "-----\n",
    "\n",
    "#### Cross-validation\n",
    "\n",
    "* Genome homologies and annotation overlap\n",
    "* Homologies and orthologies to external databases"
   ]
  },
  {
   "cell_type": "code",
   "execution_count": 22,
   "metadata": {
    "collapsed": true,
    "slideshow": {
     "slide_type": "skip"
    }
   },
   "outputs": [],
   "source": [
    "store = pd.HDFStore('_work/petMarSB.store.h5', complib='zlib', complevel=5)\n",
    "blast_df = store['lamp10_blast_filter_df']"
   ]
  },
  {
   "cell_type": "code",
   "execution_count": 37,
   "metadata": {
    "collapsed": false,
    "slideshow": {
     "slide_type": "skip"
    }
   },
   "outputs": [],
   "source": [
    "n_genome_hits = blast_df['lamp10.fasta.x.petMar2.fa.db.tsv'].sum()\n",
    "p_genome_hits = '{:.1f}'.format(float(n_genome_hits) / len(blast_df) * 100)"
   ]
  },
  {
   "cell_type": "markdown",
   "metadata": {
    "slideshow": {
     "slide_type": "fragment"
    },
    "variables": {
     "n_genome_hits": "524555",
     "p_genome_hits": "73.3"
    }
   },
   "source": [
    "##### Genome\n",
    "\n",
    "{{p_genome_hits}}% of transcripts align to the genome with high confidence ({{n_genome_hits}} total).\n",
    "\n",
    "That's a lot of genome hits, coming from a huge transcriptome sequence with lots of redundancy.\n",
    "\n",
    "Perhaps there's something happening here.\n",
    "\n",
    "-----"
   ]
  },
  {
   "cell_type": "code",
   "execution_count": 42,
   "metadata": {
    "collapsed": false,
    "slideshow": {
     "slide_type": "skip"
    }
   },
   "outputs": [],
   "source": [
    "genome_df = store['lamp10.fasta.x.petMar2.fa.db.tsv']"
   ]
  },
  {
   "cell_type": "code",
   "execution_count": 48,
   "metadata": {
    "collapsed": true,
    "slideshow": {
     "slide_type": "skip"
    }
   },
   "outputs": [],
   "source": [
    "genome_df_counted = genome_df.reset_index().groupby('qseqid').count()"
   ]
  },
  {
   "cell_type": "code",
   "execution_count": 66,
   "metadata": {
    "collapsed": false,
    "slideshow": {
     "slide_type": "skip"
    }
   },
   "outputs": [],
   "source": [
    "n_multi_hits = len(genome_df_counted.query('sseqid > 2'))"
   ]
  },
  {
   "cell_type": "code",
   "execution_count": 62,
   "metadata": {
    "collapsed": false,
    "slideshow": {
     "slide_type": "subslide"
    }
   },
   "outputs": [
    {
     "data": {
      "text/plain": [
       "<matplotlib.text.Text at 0x7f71c928cdd0>"
      ]
     },
     "execution_count": 62,
     "metadata": {},
     "output_type": "execute_result"
    },
    {
     "data": {
      "image/png": "[encoded data removed]",
      "text/plain": [
       "<matplotlib.figure.Figure at 0x7f71c9322dd0>"
      ]
     },
     "metadata": {},
     "output_type": "display_data"
    }
   ],
   "source": [
    "sns.distplot(genome_df_counted.query('2 < sseqid < 30').sseqid, kde=False, bins=25)\n",
    "title('Dist. of Number of Genome Alignments (2 < # Aligns < 30)')\n",
    "xlabel('Number of Alignments')\n",
    "ylabel('Count')"
   ]
  },
  {
   "cell_type": "markdown",
   "metadata": {
    "slideshow": {
     "slide_type": "fragment"
    },
    "variables": {
     "n_multi_hits": "126277"
    }
   },
   "source": [
    "A large number of transcripts have multiple alignments. {{n_multi_hits}} have 3 or more, with some having up to thousands of hits. This suggests repetitive sequence."
   ]
  },
  {
   "cell_type": "markdown",
   "metadata": {
    "slideshow": {
     "slide_type": "subslide"
    }
   },
   "source": [
    "![lowcomp](figures/aln_lgth_vs_low_comp.png)"
   ]
  },
  {
   "cell_type": "markdown",
   "metadata": {
    "slideshow": {
     "slide_type": "fragment"
    }
   },
   "source": [
    "Indeed, many of the transcripts intersect with repetitive regions of the genome."
   ]
  },
  {
   "cell_type": "markdown",
   "metadata": {
    "slideshow": {
     "slide_type": "subslide"
    }
   },
   "source": [
    "-----\n",
    "\n",
    "We hypothesize a few possible reasons for this:\n",
    "\n",
    "1. There's a lot of garbarge in the transcriptome. This is the default answer, but is boring and lazy.\n",
    "2. There's contamination. We go through a lot of prefiltering, but still possible.\n",
    "3. Piles and piles of retrotransposons.\n",
    "    - The lamprey genome has tons of transposons -- they compose over 30% of it.\n",
    "    - A search agains Rfam is currently running.\n",
    "4. I'm open to more theories...\n",
    "\n",
    "-----"
   ]
  },
  {
   "cell_type": "markdown",
   "metadata": {
    "slideshow": {
     "slide_type": "subslide"
    }
   },
   "source": [
    "#### Genome Annotations\n",
    "\n",
    "Overlap with genome annotations further supports the validity of our transcripts. Lack of concordance here does not suggest an invalid transcript, however -- the gene models were generated ab initio with only some RNA-seq data."
   ]
  },
  {
   "cell_type": "code",
   "execution_count": 71,
   "metadata": {
    "collapsed": true,
    "slideshow": {
     "slide_type": "skip"
    }
   },
   "outputs": [],
   "source": [
    "with open('results/petmar-cross-validate.results.json') as fp:\n",
    "    crossval_data = json.load(fp)"
   ]
  },
  {
   "cell_type": "markdown",
   "metadata": {
    "slideshow": {
     "slide_type": "fragment"
    }
   },
   "source": [
    "![Prop annot covered per cutoff](figures/prop_annot_per_cutoff.png)"
   ]
  },
  {
   "cell_type": "markdown",
   "metadata": {
    "slideshow": {
     "slide_type": "subslide"
    }
   },
   "source": [
    "-----\n",
    "\n",
    "#### Other Species\n",
    "\n",
    "We currently use a collection of databases from well-annotated species at convenient locations in the evolutionary tree.\n",
    "\n",
    "* All Myxinidae (hagfish)\n",
    "* *B. floridae* (amphioxus, a model cephalochordate)\n",
    "* *D. rero* (zebrafish, a model teleoist fish)\n",
    "* *M. musculus* (mouse)\n",
    "* *H. sapiens* (mostly harmless)\n",
    "* *P. marinus* proteins, cdna, ncRNA, and DNA\n",
    "\n",
    "We are also incorporating Pfam-A, Rfam, OrthoDB, and uniref90 for annotation purposes, though results are not available yet.\n",
    "\n",
    "-----"
   ]
  },
  {
   "cell_type": "code",
   "execution_count": 82,
   "metadata": {
    "collapsed": true,
    "slideshow": {
     "slide_type": "skip"
    }
   },
   "outputs": [],
   "source": [
    "with open('results/petmar-genome-comp.results.json') as fp:\n",
    "    comp_data = json.load(fp)"
   ]
  },
  {
   "cell_type": "code",
   "execution_count": 83,
   "metadata": {
    "collapsed": false,
    "slideshow": {
     "slide_type": "skip"
    }
   },
   "outputs": [],
   "source": [
    "n_genome_supported = comp_data['n_genome_supported']\n",
    "n_novel_ortho = comp_data['n_novel_ortho']\n",
    "n_supported_ortho = comp_data['n_supported_ortho']"
   ]
  },
  {
   "cell_type": "code",
   "execution_count": 84,
   "metadata": {
    "collapsed": true,
    "slideshow": {
     "slide_type": "skip"
    }
   },
   "outputs": [],
   "source": [
    "ortho_df = store['lamp10_ortho_filter_df']"
   ]
  },
  {
   "cell_type": "code",
   "execution_count": 89,
   "metadata": {
    "collapsed": true,
    "slideshow": {
     "slide_type": "skip"
    }
   },
   "outputs": [],
   "source": [
    "# Transcripts with recipricol best thits to our main databases\n",
    "has_ortho = ((ortho_df['lamp10.fasta.x.braFlo.pep.all.fa.db.tsv'] == True) | \n",
    "             (ortho_df['lamp10.fasta.x.danRer.pep.fa.db.tsv'] == True) |\n",
    "             (ortho_df['lamp10.fasta.x.homSap.pep.fa.db.tsv'] == True) |\n",
    "             (ortho_df['lamp10.fasta.x.musMus.pep.fa.db.tsv'] == True) |\n",
    "             (ortho_df['lamp10.fasta.x.Myx.pep.all.fa.db.tsv'] == True))"
   ]
  },
  {
   "cell_type": "code",
   "execution_count": 93,
   "metadata": {
    "collapsed": false,
    "slideshow": {
     "slide_type": "skip"
    }
   },
   "outputs": [],
   "source": [
    "n_orthos = has_ortho.sum()"
   ]
  },
  {
   "cell_type": "markdown",
   "metadata": {
    "slideshow": {
     "slide_type": "subslide"
    },
    "variables": {
     "n_novel_ortho": "1768",
     "n_orthos": "15205",
     "n_supported_ortho": "13405"
    }
   },
   "source": [
    "-----\n",
    "\n",
    "##### Summary\n",
    "\n",
    "We use Reciprocal Best Hits (RBH) BLAST to establish high-confidence orthologies.\n",
    "\n",
    "* {{n_orthos}} transcripts have strong orthologies\n",
    "* {{n_supported_ortho}} transcripts have strong orthologies with lamprey support\n",
    "* {{n_novel_ortho}} have orthologies and *no* lamprey support\n",
    "\n",
    "The first number is low because using only these databases gives an incomplete picture; further, we need more sensitivty, ie. `hmmer` and Pfam-A. My preliminary results put the total number of transcripts with any good orthology or protein annotation at ~100,000, but I am not including those results until I have a good reproducible way to generate them.\n",
    "\n",
    "-----"
   ]
  },
  {
   "cell_type": "markdown",
   "metadata": {
    "slideshow": {
     "slide_type": "subslide"
    }
   },
   "source": [
    "-----\n",
    "\n",
    "We're particularly interested in those 1786 transcripts with no lamprey support; a more detailed analysis is in the lamprey repository: https://github.com/dib-lab/2015-petMarSB/blob/master/petmar-genome-completeness.ipynb\n",
    "\n",
    "* In gnathostomata or cyclostomata, not cephalochordata: 796\n",
    "* In gnathostomata and cyclostomata, not cephalochordata: 60\n",
    "* In gnathostomata, not cyclostomata or cephalochordata: 736\n",
    "\n",
    "That last number is great -- 736 genes which are **not** in the any current cyclostome or cephalochordate databases, but are in gnathostomes. Which is to say, these genes which previously only had evidence of existing in jawed vertebrates now have evidence of existing in jawless vertebrates as well, which implies they may have existed in the vertebrate ancestor.\n",
    "\n",
    "-----"
   ]
  },
  {
   "cell_type": "markdown",
   "metadata": {
    "slideshow": {
     "slide_type": "slide"
    }
   },
   "source": [
    "-----\n",
    "\n",
    "### Related Projects\n",
    "\n",
    "This project has generated several other projects and software along the way!\n",
    "\n",
    "-----"
   ]
  },
  {
   "cell_type": "markdown",
   "metadata": {
    "slideshow": {
     "slide_type": "subslide"
    }
   },
   "source": [
    "-----\n",
    "\n",
    "#### Eel Pond\n",
    "\n",
    "* https://khmer-protocols.readthedocs.org/en/latest/mrnaseq/\n",
    "* Not directly a product of lamprey, but its methods were heavily driven by the lamprey project.\n",
    "* The lamprey pipeline encodes a version of the protocols using pydoit\n",
    "    - https://github.com/dib-lab/2015-petMarSB/blob/master/pipeline\n",
    "\n",
    "-----"
   ]
  },
  {
   "cell_type": "markdown",
   "metadata": {
    "slideshow": {
     "slide_type": "subslide"
    }
   },
   "source": [
    "-----\n",
    "\n",
    "#### Joshua\n",
    "\n",
    "The annotation overlap results rely on a fast Interval Tree implementation. An existing version is in bx-python, but it's hard to use, not well packaged, and lacking some core features. I repackaged and extended it, and it can be found here: https://github.com/camillescott/joshua\n",
    "\n",
    "It's super fast! A couple orders of magnitude faster than the pure python version.\n",
    "\n",
    "-----"
   ]
  },
  {
   "cell_type": "markdown",
   "metadata": {
    "slideshow": {
     "slide_type": "subslide"
    }
   },
   "source": [
    "-----\n",
    "\n",
    "#### dammit!\n",
    "\n",
    "A big part of this project is annotation, which is really frustrating. So, I finally broke down and wrote a transcriptome annotater. It is nearly complete, and lives here: https://github.com/camillescott/dammit\n",
    "\n",
    "Some key features:\n",
    "\n",
    "* Automates database and dependency download.\n",
    "* Annotates using hmmer and Pfam-A, infernal and Rfam, LAST against OrthoDB and Uniref, and any user supplied protein databases.\n",
    "* Runs assembly statistics (the ones earlier in the presentation were generated by it) and BUSCO.\n",
    "* Is easy to use: `dammit annotate <transcriptome.fasta>`\n",
    "\n",
    "I will keep the lab informed as to when it's ready for wider use, which will be quite soon -- I've poured a lot of time into this recently.\n",
    "\n",
    "In the future, once the annotation functionality is solid, I will likely allow users to incorporate GFF models as well.\n",
    "\n",
    "-----"
   ]
  },
  {
   "cell_type": "markdown",
   "metadata": {
    "slideshow": {
     "slide_type": "subslide"
    }
   },
   "source": [
    "-----\n",
    "\n",
    "#### Peasoup\n",
    "\n",
    "Peasoup is deprecated and ugly and you should not use it. The useful parts are being cannibalized and slowly moved to other repositories. However, I'd be remiss not to mention it, as a lot of my code lived there at one point.\n",
    "\n",
    "-----"
   ]
  },
  {
   "cell_type": "markdown",
   "metadata": {
    "slideshow": {
     "slide_type": "slide"
    }
   },
   "source": [
    "-----\n",
    "\n",
    "### Endmatter\n",
    "\n",
    "Many thanks and kudos to Titus and Weiming Li for their guidance; Eli and Likit for their help and discussions; the rest of their lab for many meetings and conversations; Erich Schwarz for giving me diabolical ideas; NIFA for funding me for a couple years; and all the other customary thanks that I'm forgetting.\n",
    "\n",
    "-----"
   ]
  },
  {
   "cell_type": "markdown",
   "metadata": {
    "collapsed": true,
    "slideshow": {
     "slide_type": "subslide"
    }
   },
   "source": [
    "### Bibliography\n",
    "\n",
    "    Grabherr, Manfred G, Brian J Haas, Moran Yassour, Joshua Z Levin, Dawn A Thompson, Ido Amit, Xian Adiconis, et al. 2011. “Full-Length Transcriptome Assembly from RNA-Seq Data without a Reference Genome.” Nature Biotechnology 29 (7): 644–52. doi:10.1038/nbt.1883.\n",
    "\n",
    "    Hardisty, M.W. 2006. Lampreys: Life Without Jaws. Forrest. https://books.google.com/books?id=HoMWAQAAIAAJ.\n",
    "    \n",
    "    Simao, F. A., R. M. Waterhouse, P. Ioannidis, E. V. Kriventseva, and E. M. Zdobnov. 2015. “BUSCO: Assessing Genome Assembly and Annotation Completeness with Single-Copy Orthologs.” Bioinformatics, June. doi:10.1093/bioinformatics/btv351.\n",
    "    \n",
    "    Smith, J. J., F. Antonacci, E. E. Eichler, and C. T. Amemiya. 2009. “Programmed Loss of Millions of Base Pairs from a Vertebrate Genome.” Proceedings of the National Academy of Sciences 106 (27): 11212–17. doi:10.1073/pnas.0902358106.\n",
    "    \n",
    "    Smith, Jeramiah J, Shigehiro Kuraku, Carson Holt, Tatjana Sauka-Spengler, Ning Jiang, Michael S Campbell, Mark D Yandell, et al. 2013. “Sequencing of the Sea Lamprey (Petromyzon Marinus) Genome Provides Insights into Vertebrate Evolution.” Nature Genetics 45 (4): 415–21. doi:10.1038/ng.2568."
   ]
  }
 ],
 "metadata": {
  "celltoolbar": "Slideshow",
  "kernelspec": {
   "display_name": "Python 2",
   "language": "python",
   "name": "python2"
  },
  "language_info": {
   "codemirror_mode": {
    "name": "ipython",
    "version": 2
   },
   "file_extension": ".py",
   "mimetype": "text/x-python",
   "name": "python",
   "nbconvert_exporter": "python",
   "pygments_lexer": "ipython2",
   "version": "2.7.10"
  }
 },
 "nbformat": 4,
 "nbformat_minor": 0
}
